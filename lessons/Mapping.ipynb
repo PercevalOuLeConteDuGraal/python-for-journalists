{
  "cells": [
    {
      "attachments": {},
      "cell_type": "markdown",
      "metadata": {
        "colab_type": "text",
        "id": "view-in-github"
      },
      "source": [
        "<a href=\"https://colab.research.google.com/github/redadmiral/python-for-journalists/blob/main/lessons/Mapping.ipynb\" target=\"_parent\"><img src=\"https://colab.research.google.com/assets/colab-badge.svg\" alt=\"Open In Colab\"/></a>"
      ]
    },
    {
      "cell_type": "code",
      "execution_count": 73,
      "metadata": {
        "id": "S4JcGvjDDTVH"
      },
      "outputs": [],
      "source": [
        "#!pip install --upgrade flask\n",
        "#!pip install geopandas\n",
        "\n",
        "import pandas as pd\n",
        "import geopy"
      ]
    },
    {
      "cell_type": "markdown",
      "metadata": {
        "id": "FYaVfK5TDfiL"
      },
      "source": [
        "# Mapping\n",
        "\n",
        "In dieser Einheit lernen wir, wie wir einen Datensatz auf einer Karte darstellen. Das funktioniert natürlich nur mit Daten, die auch etwas mit Raum zu tun haben. \n",
        "\n",
        "Ein Beispiel dafür sind zum Beispiel Wahldaten oder Adressen. \n",
        "\n",
        "## Flächen- und Punktdaten\n",
        "\n",
        "Wahlergebnisse und Adressdaten zeigen auch die grundlegenden Unterschiede zwischen verschiedenen arten von Geo-Daten im Journalismus. Adressen sind Punkte auf einer Karte und Wahldaten werden als Flächen dargestellt. \n",
        "\n",
        "Die einfachste Variante sind Punkt-Daten. Als Beispiel nutzen wir einen kleinen Auszug aus dem Handelsregister. Dieser liegt [zum Download auf github](https://example.com).\n",
        "\n",
        "Die Daten stammen von [offeneregister.de](https://offeneregister.de) und wurden von mir schon einmal ein wenig vorgefiltert.\n",
        "\n",
        "Zuerst lesen wir die csv-Datei mit pandas ein:"
      ]
    },
    {
      "cell_type": "code",
      "execution_count": 77,
      "metadata": {
        "id": "5wwODhJdKDxz"
      },
      "outputs": [],
      "source": [
        "adressen = pd.read_csv(\"HandelsregisterNuernberg.csv\")"
      ]
    },
    {
      "cell_type": "markdown",
      "metadata": {
        "id": "dWlRK1l_WpB-"
      },
      "source": [
        "Ein kurzer Blick in die Datei zeigt uns, dass der Import erfolgreich war. Damit wir nicht den gesamten Bildschirm in Beschlag nehmen, können wir die `head`-Methode verwenden."
      ]
    },
    {
      "cell_type": "code",
      "execution_count": 78,
      "metadata": {
        "colab": {
          "base_uri": "https://localhost:8080/",
          "height": 438
        },
        "id": "1ewY8QC0KD3Y",
        "outputId": "dcb2eb57-f096-4071-843d-d55e10795e80"
      },
      "outputs": [
        {
          "data": {
            "text/html": [
              "\n",
              "  <div id=\"df-20096f5f-aefe-439d-a6f9-069382484d90\">\n",
              "    <div class=\"colab-df-container\">\n",
              "      <div>\n",
              "<style scoped>\n",
              "    .dataframe tbody tr th:only-of-type {\n",
              "        vertical-align: middle;\n",
              "    }\n",
              "\n",
              "    .dataframe tbody tr th {\n",
              "        vertical-align: top;\n",
              "    }\n",
              "\n",
              "    .dataframe thead th {\n",
              "        text-align: right;\n",
              "    }\n",
              "</style>\n",
              "<table border=\"1\" class=\"dataframe\">\n",
              "  <thead>\n",
              "    <tr style=\"text-align: right;\">\n",
              "      <th></th>\n",
              "      <th>id</th>\n",
              "      <th>company_number</th>\n",
              "      <th>current_status</th>\n",
              "      <th>jurisdiction_code</th>\n",
              "      <th>name</th>\n",
              "      <th>registered_address</th>\n",
              "      <th>retrieved_at</th>\n",
              "      <th>register_flag_AD</th>\n",
              "      <th>register_flag_CD</th>\n",
              "      <th>register_flag_DK</th>\n",
              "      <th>...</th>\n",
              "      <th>native_company_number</th>\n",
              "      <th>registered_office</th>\n",
              "      <th>registrar</th>\n",
              "      <th>register_art</th>\n",
              "      <th>register_nummer</th>\n",
              "      <th>former_registrar</th>\n",
              "      <th>register_flag_</th>\n",
              "      <th>register_flag_Note:</th>\n",
              "      <th>_registerNummerSuffix</th>\n",
              "      <th>register_flag_Status information</th>\n",
              "    </tr>\n",
              "  </thead>\n",
              "  <tbody>\n",
              "    <tr>\n",
              "      <th>0</th>\n",
              "      <td>6728</td>\n",
              "      <td>D3310V_HRB9108</td>\n",
              "      <td>currently registered</td>\n",
              "      <td>de</td>\n",
              "      <td>ARNDT Verwaltungsgesellschaft mit beschränkter...</td>\n",
              "      <td>Schildgasse 11, 90403 Nürnberg.</td>\n",
              "      <td>2018-11-01T19:32:43Z</td>\n",
              "      <td>1</td>\n",
              "      <td>1</td>\n",
              "      <td>1</td>\n",
              "      <td>...</td>\n",
              "      <td>Nürnberg HRB 9108</td>\n",
              "      <td>Nürnberg</td>\n",
              "      <td>Nürnberg</td>\n",
              "      <td>HRB</td>\n",
              "      <td>9108</td>\n",
              "      <td>NaN</td>\n",
              "      <td>NaN</td>\n",
              "      <td>NaN</td>\n",
              "      <td>NaN</td>\n",
              "      <td>NaN</td>\n",
              "    </tr>\n",
              "    <tr>\n",
              "      <th>1</th>\n",
              "      <td>6731</td>\n",
              "      <td>D3310V_HRB26266</td>\n",
              "      <td>currently registered</td>\n",
              "      <td>de</td>\n",
              "      <td>designpanel elements for innovative architectu...</td>\n",
              "      <td>Dagobertstraße 15, 90431 Nürnberg.</td>\n",
              "      <td>2018-11-09T16:55:45Z</td>\n",
              "      <td>1</td>\n",
              "      <td>1</td>\n",
              "      <td>1</td>\n",
              "      <td>...</td>\n",
              "      <td>Nürnberg HRB 26266</td>\n",
              "      <td>Nürnberg</td>\n",
              "      <td>Nürnberg</td>\n",
              "      <td>HRB</td>\n",
              "      <td>26266</td>\n",
              "      <td>NaN</td>\n",
              "      <td>NaN</td>\n",
              "      <td>NaN</td>\n",
              "      <td>NaN</td>\n",
              "      <td>NaN</td>\n",
              "    </tr>\n",
              "    <tr>\n",
              "      <th>2</th>\n",
              "      <td>6732</td>\n",
              "      <td>D3310V_HRB31142</td>\n",
              "      <td>currently registered</td>\n",
              "      <td>de</td>\n",
              "      <td>Bellota DE UG (haftungsbeschränkt)</td>\n",
              "      <td>Spitalgasse 1, 90403 Nürnberg.</td>\n",
              "      <td>2018-11-09T16:59:51Z</td>\n",
              "      <td>1</td>\n",
              "      <td>1</td>\n",
              "      <td>1</td>\n",
              "      <td>...</td>\n",
              "      <td>Nürnberg HRB 31142</td>\n",
              "      <td>Nürnberg</td>\n",
              "      <td>Nürnberg</td>\n",
              "      <td>HRB</td>\n",
              "      <td>31142</td>\n",
              "      <td>NaN</td>\n",
              "      <td>NaN</td>\n",
              "      <td>NaN</td>\n",
              "      <td>NaN</td>\n",
              "      <td>NaN</td>\n",
              "    </tr>\n",
              "    <tr>\n",
              "      <th>3</th>\n",
              "      <td>6733</td>\n",
              "      <td>D3310V_HRB29875</td>\n",
              "      <td>currently registered</td>\n",
              "      <td>de</td>\n",
              "      <td>NWS Bahnservice GmbH</td>\n",
              "      <td>Fraunhofer Straße 10 a, 90409 Nürnberg.</td>\n",
              "      <td>2018-11-09T16:58:36Z</td>\n",
              "      <td>1</td>\n",
              "      <td>1</td>\n",
              "      <td>1</td>\n",
              "      <td>...</td>\n",
              "      <td>Nürnberg HRB 29875</td>\n",
              "      <td>Nürnberg</td>\n",
              "      <td>Nürnberg</td>\n",
              "      <td>HRB</td>\n",
              "      <td>29875</td>\n",
              "      <td>NaN</td>\n",
              "      <td>NaN</td>\n",
              "      <td>NaN</td>\n",
              "      <td>NaN</td>\n",
              "      <td>NaN</td>\n",
              "    </tr>\n",
              "    <tr>\n",
              "      <th>4</th>\n",
              "      <td>6734</td>\n",
              "      <td>D3310V_HRA16172</td>\n",
              "      <td>currently registered</td>\n",
              "      <td>de</td>\n",
              "      <td>Baliu Trans GmbH &amp; Co. KG</td>\n",
              "      <td>Industriestraße 1c, 90592 Schwarzenbruck.</td>\n",
              "      <td>2018-11-09T16:43:09Z</td>\n",
              "      <td>1</td>\n",
              "      <td>1</td>\n",
              "      <td>1</td>\n",
              "      <td>...</td>\n",
              "      <td>Nürnberg HRA 16172</td>\n",
              "      <td>Schwarzenbruck</td>\n",
              "      <td>Nürnberg</td>\n",
              "      <td>HRA</td>\n",
              "      <td>16172</td>\n",
              "      <td>NaN</td>\n",
              "      <td>NaN</td>\n",
              "      <td>NaN</td>\n",
              "      <td>NaN</td>\n",
              "      <td>NaN</td>\n",
              "    </tr>\n",
              "  </tbody>\n",
              "</table>\n",
              "<p>5 rows × 25 columns</p>\n",
              "</div>\n",
              "      <button class=\"colab-df-convert\" onclick=\"convertToInteractive('df-20096f5f-aefe-439d-a6f9-069382484d90')\"\n",
              "              title=\"Convert this dataframe to an interactive table.\"\n",
              "              style=\"display:none;\">\n",
              "        \n",
              "  <svg xmlns=\"http://www.w3.org/2000/svg\" height=\"24px\"viewBox=\"0 0 24 24\"\n",
              "       width=\"24px\">\n",
              "    <path d=\"M0 0h24v24H0V0z\" fill=\"none\"/>\n",
              "    <path d=\"M18.56 5.44l.94 2.06.94-2.06 2.06-.94-2.06-.94-.94-2.06-.94 2.06-2.06.94zm-11 1L8.5 8.5l.94-2.06 2.06-.94-2.06-.94L8.5 2.5l-.94 2.06-2.06.94zm10 10l.94 2.06.94-2.06 2.06-.94-2.06-.94-.94-2.06-.94 2.06-2.06.94z\"/><path d=\"M17.41 7.96l-1.37-1.37c-.4-.4-.92-.59-1.43-.59-.52 0-1.04.2-1.43.59L10.3 9.45l-7.72 7.72c-.78.78-.78 2.05 0 2.83L4 21.41c.39.39.9.59 1.41.59.51 0 1.02-.2 1.41-.59l7.78-7.78 2.81-2.81c.8-.78.8-2.07 0-2.86zM5.41 20L4 18.59l7.72-7.72 1.47 1.35L5.41 20z\"/>\n",
              "  </svg>\n",
              "      </button>\n",
              "      \n",
              "  <style>\n",
              "    .colab-df-container {\n",
              "      display:flex;\n",
              "      flex-wrap:wrap;\n",
              "      gap: 12px;\n",
              "    }\n",
              "\n",
              "    .colab-df-convert {\n",
              "      background-color: #E8F0FE;\n",
              "      border: none;\n",
              "      border-radius: 50%;\n",
              "      cursor: pointer;\n",
              "      display: none;\n",
              "      fill: #1967D2;\n",
              "      height: 32px;\n",
              "      padding: 0 0 0 0;\n",
              "      width: 32px;\n",
              "    }\n",
              "\n",
              "    .colab-df-convert:hover {\n",
              "      background-color: #E2EBFA;\n",
              "      box-shadow: 0px 1px 2px rgba(60, 64, 67, 0.3), 0px 1px 3px 1px rgba(60, 64, 67, 0.15);\n",
              "      fill: #174EA6;\n",
              "    }\n",
              "\n",
              "    [theme=dark] .colab-df-convert {\n",
              "      background-color: #3B4455;\n",
              "      fill: #D2E3FC;\n",
              "    }\n",
              "\n",
              "    [theme=dark] .colab-df-convert:hover {\n",
              "      background-color: #434B5C;\n",
              "      box-shadow: 0px 1px 3px 1px rgba(0, 0, 0, 0.15);\n",
              "      filter: drop-shadow(0px 1px 2px rgba(0, 0, 0, 0.3));\n",
              "      fill: #FFFFFF;\n",
              "    }\n",
              "  </style>\n",
              "\n",
              "      <script>\n",
              "        const buttonEl =\n",
              "          document.querySelector('#df-20096f5f-aefe-439d-a6f9-069382484d90 button.colab-df-convert');\n",
              "        buttonEl.style.display =\n",
              "          google.colab.kernel.accessAllowed ? 'block' : 'none';\n",
              "\n",
              "        async function convertToInteractive(key) {\n",
              "          const element = document.querySelector('#df-20096f5f-aefe-439d-a6f9-069382484d90');\n",
              "          const dataTable =\n",
              "            await google.colab.kernel.invokeFunction('convertToInteractive',\n",
              "                                                     [key], {});\n",
              "          if (!dataTable) return;\n",
              "\n",
              "          const docLinkHtml = 'Like what you see? Visit the ' +\n",
              "            '<a target=\"_blank\" href=https://colab.research.google.com/notebooks/data_table.ipynb>data table notebook</a>'\n",
              "            + ' to learn more about interactive tables.';\n",
              "          element.innerHTML = '';\n",
              "          dataTable['output_type'] = 'display_data';\n",
              "          await google.colab.output.renderOutput(dataTable, element);\n",
              "          const docLink = document.createElement('div');\n",
              "          docLink.innerHTML = docLinkHtml;\n",
              "          element.appendChild(docLink);\n",
              "        }\n",
              "      </script>\n",
              "    </div>\n",
              "  </div>\n",
              "  "
            ],
            "text/plain": [
              "     id   company_number        current_status jurisdiction_code  \\\n",
              "0  6728   D3310V_HRB9108  currently registered                de   \n",
              "1  6731  D3310V_HRB26266  currently registered                de   \n",
              "2  6732  D3310V_HRB31142  currently registered                de   \n",
              "3  6733  D3310V_HRB29875  currently registered                de   \n",
              "4  6734  D3310V_HRA16172  currently registered                de   \n",
              "\n",
              "                                                name  \\\n",
              "0  ARNDT Verwaltungsgesellschaft mit beschränkter...   \n",
              "1  designpanel elements for innovative architectu...   \n",
              "2                 Bellota DE UG (haftungsbeschränkt)   \n",
              "3                               NWS Bahnservice GmbH   \n",
              "4                          Baliu Trans GmbH & Co. KG   \n",
              "\n",
              "                          registered_address          retrieved_at  \\\n",
              "0            Schildgasse 11, 90403 Nürnberg.  2018-11-01T19:32:43Z   \n",
              "1         Dagobertstraße 15, 90431 Nürnberg.  2018-11-09T16:55:45Z   \n",
              "2             Spitalgasse 1, 90403 Nürnberg.  2018-11-09T16:59:51Z   \n",
              "3    Fraunhofer Straße 10 a, 90409 Nürnberg.  2018-11-09T16:58:36Z   \n",
              "4  Industriestraße 1c, 90592 Schwarzenbruck.  2018-11-09T16:43:09Z   \n",
              "\n",
              "   register_flag_AD  register_flag_CD  register_flag_DK  ...  \\\n",
              "0                 1                 1                 1  ...   \n",
              "1                 1                 1                 1  ...   \n",
              "2                 1                 1                 1  ...   \n",
              "3                 1                 1                 1  ...   \n",
              "4                 1                 1                 1  ...   \n",
              "\n",
              "   native_company_number  registered_office  registrar  register_art  \\\n",
              "0      Nürnberg HRB 9108           Nürnberg   Nürnberg           HRB   \n",
              "1     Nürnberg HRB 26266           Nürnberg   Nürnberg           HRB   \n",
              "2     Nürnberg HRB 31142           Nürnberg   Nürnberg           HRB   \n",
              "3     Nürnberg HRB 29875           Nürnberg   Nürnberg           HRB   \n",
              "4     Nürnberg HRA 16172     Schwarzenbruck   Nürnberg           HRA   \n",
              "\n",
              "  register_nummer former_registrar register_flag_ register_flag_Note:  \\\n",
              "0            9108              NaN            NaN                 NaN   \n",
              "1           26266              NaN            NaN                 NaN   \n",
              "2           31142              NaN            NaN                 NaN   \n",
              "3           29875              NaN            NaN                 NaN   \n",
              "4           16172              NaN            NaN                 NaN   \n",
              "\n",
              "  _registerNummerSuffix  register_flag_Status information  \n",
              "0                   NaN                               NaN  \n",
              "1                   NaN                               NaN  \n",
              "2                   NaN                               NaN  \n",
              "3                   NaN                               NaN  \n",
              "4                   NaN                               NaN  \n",
              "\n",
              "[5 rows x 25 columns]"
            ]
          },
          "execution_count": 78,
          "metadata": {},
          "output_type": "execute_result"
        }
      ],
      "source": [
        "adressen.head(5)"
      ]
    },
    {
      "cell_type": "markdown",
      "metadata": {
        "id": "qbQ5Q1mlYLN1"
      },
      "source": [
        "## Geocoding\n",
        "\n",
        "Um die Adressen auf einer Karte darstellen zu können, müssen sie in Koordinaten umgewandelt werden. Koordinaten auf einer Karte bestehen aus zwei Zahlen, die angeben wie weit nach rechts (Latitude) und wie weit nach oben (Longitude) man vom Mittelpunkt der Karte aus gehen muss. \n",
        "\n",
        "Für das eigentliche Geocoding verwenden wir eine Funktion aus geopandas. Diese Funktion kann für uns auf verschiedene APIs zugreifen, von denen Sie die Koordinaten für die Punkte beziehen kann.\n",
        "\n",
        "Wir nutzen die API von OpenStreetMap \"Nominatim\". Wenn die Ergebnisse nicht gut sind, dann können wir auf eine andere API zugreifen, wie etwa Bing-Maps. Verschiedene Dienstleister sind für verschiedene Teile der Welt besser oder schlechter geeignet."
      ]
    },
    {
      "cell_type": "code",
      "execution_count": 79,
      "metadata": {
        "id": "ZVImd6HcZhFE"
      },
      "outputs": [],
      "source": [
        "from geopandas.tools import geocode"
      ]
    },
    {
      "cell_type": "markdown",
      "metadata": {
        "id": "YNgVDPa7auog"
      },
      "source": [
        "Die Nominatim-API verlang von uns, dass wir einen User-Agent festlegen. In diesem identifizieren wir uns gegenüber der API, so dass die OSM-Macher\\*innen uns kontaktieren können, wenn wir zu viele Anfragen an ihre Schnittstelle senden. "
      ]
    },
    {
      "cell_type": "code",
      "execution_count": 80,
      "metadata": {
        "id": "3BcVJ5plMEdv"
      },
      "outputs": [],
      "source": [
        "geopy.geocoders.options.default_user_agent = \"Just learning how to geocode data. Please contact me under lehner@post-box.me\""
      ]
    },
    {
      "cell_type": "markdown",
      "metadata": {
        "id": "dSS1_20BbFNU"
      },
      "source": [
        "Nachdem wir den User-Agent gesetzt haben, können wir mit dem Geocoding loslegen:"
      ]
    },
    {
      "cell_type": "code",
      "execution_count": 81,
      "metadata": {
        "id": "2WvcUV7hbLxD"
      },
      "outputs": [],
      "source": [
        "geo = geocode(adressen[\"registered_address\"], provider='nominatim')"
      ]
    },
    {
      "cell_type": "markdown",
      "metadata": {
        "id": "XDdu4cjbbM_z"
      },
      "source": [
        "Ein Blick in den neu entstandenen dataframe zeigt uns, dass geopandas aus den Adressen die Koordinaten extrahiert hat.\n",
        "\n",
        "---\n",
        "\n"
      ]
    },
    {
      "cell_type": "code",
      "execution_count": 76,
      "metadata": {
        "colab": {
          "base_uri": "https://localhost:8080/",
          "height": 206
        },
        "id": "WZHw-RNxbsno",
        "outputId": "3a12dfa5-de71-4d8d-986b-2680de25dba2"
      },
      "outputs": [
        {
          "data": {
            "text/html": [
              "\n",
              "  <div id=\"df-55e84d4a-8aff-4e70-bc2b-86c3a7b9c727\">\n",
              "    <div class=\"colab-df-container\">\n",
              "      <div>\n",
              "<style scoped>\n",
              "    .dataframe tbody tr th:only-of-type {\n",
              "        vertical-align: middle;\n",
              "    }\n",
              "\n",
              "    .dataframe tbody tr th {\n",
              "        vertical-align: top;\n",
              "    }\n",
              "\n",
              "    .dataframe thead th {\n",
              "        text-align: right;\n",
              "    }\n",
              "</style>\n",
              "<table border=\"1\" class=\"dataframe\">\n",
              "  <thead>\n",
              "    <tr style=\"text-align: right;\">\n",
              "      <th></th>\n",
              "      <th>geometry</th>\n",
              "      <th>address</th>\n",
              "    </tr>\n",
              "  </thead>\n",
              "  <tbody>\n",
              "    <tr>\n",
              "      <th>0</th>\n",
              "      <td>POINT (11.07828 49.45721)</td>\n",
              "      <td>11, 13, Schildgasse, Altstadt, St. Sebald, Seb...</td>\n",
              "    </tr>\n",
              "    <tr>\n",
              "      <th>1</th>\n",
              "      <td>POINT (11.01947 49.45618)</td>\n",
              "      <td>axis-expotechnik, 15, Dagobertstraße, Leyh, Nü...</td>\n",
              "    </tr>\n",
              "    <tr>\n",
              "      <th>2</th>\n",
              "      <td>POINT (11.07845 49.45338)</td>\n",
              "      <td>Sultan, 1, Spitalgasse, Altstadt, St. Sebald, ...</td>\n",
              "    </tr>\n",
              "    <tr>\n",
              "      <th>3</th>\n",
              "      <td>POINT (11.09786 49.46871)</td>\n",
              "      <td>10a, Fraunhoferstraße, Rennweg, Schoppershof, ...</td>\n",
              "    </tr>\n",
              "    <tr>\n",
              "      <th>4</th>\n",
              "      <td>POINT (11.26293 49.35130)</td>\n",
              "      <td>Industriestraße, Ochenbruck, Schwarzenbruck, L...</td>\n",
              "    </tr>\n",
              "  </tbody>\n",
              "</table>\n",
              "</div>\n",
              "      <button class=\"colab-df-convert\" onclick=\"convertToInteractive('df-55e84d4a-8aff-4e70-bc2b-86c3a7b9c727')\"\n",
              "              title=\"Convert this dataframe to an interactive table.\"\n",
              "              style=\"display:none;\">\n",
              "        \n",
              "  <svg xmlns=\"http://www.w3.org/2000/svg\" height=\"24px\"viewBox=\"0 0 24 24\"\n",
              "       width=\"24px\">\n",
              "    <path d=\"M0 0h24v24H0V0z\" fill=\"none\"/>\n",
              "    <path d=\"M18.56 5.44l.94 2.06.94-2.06 2.06-.94-2.06-.94-.94-2.06-.94 2.06-2.06.94zm-11 1L8.5 8.5l.94-2.06 2.06-.94-2.06-.94L8.5 2.5l-.94 2.06-2.06.94zm10 10l.94 2.06.94-2.06 2.06-.94-2.06-.94-.94-2.06-.94 2.06-2.06.94z\"/><path d=\"M17.41 7.96l-1.37-1.37c-.4-.4-.92-.59-1.43-.59-.52 0-1.04.2-1.43.59L10.3 9.45l-7.72 7.72c-.78.78-.78 2.05 0 2.83L4 21.41c.39.39.9.59 1.41.59.51 0 1.02-.2 1.41-.59l7.78-7.78 2.81-2.81c.8-.78.8-2.07 0-2.86zM5.41 20L4 18.59l7.72-7.72 1.47 1.35L5.41 20z\"/>\n",
              "  </svg>\n",
              "      </button>\n",
              "      \n",
              "  <style>\n",
              "    .colab-df-container {\n",
              "      display:flex;\n",
              "      flex-wrap:wrap;\n",
              "      gap: 12px;\n",
              "    }\n",
              "\n",
              "    .colab-df-convert {\n",
              "      background-color: #E8F0FE;\n",
              "      border: none;\n",
              "      border-radius: 50%;\n",
              "      cursor: pointer;\n",
              "      display: none;\n",
              "      fill: #1967D2;\n",
              "      height: 32px;\n",
              "      padding: 0 0 0 0;\n",
              "      width: 32px;\n",
              "    }\n",
              "\n",
              "    .colab-df-convert:hover {\n",
              "      background-color: #E2EBFA;\n",
              "      box-shadow: 0px 1px 2px rgba(60, 64, 67, 0.3), 0px 1px 3px 1px rgba(60, 64, 67, 0.15);\n",
              "      fill: #174EA6;\n",
              "    }\n",
              "\n",
              "    [theme=dark] .colab-df-convert {\n",
              "      background-color: #3B4455;\n",
              "      fill: #D2E3FC;\n",
              "    }\n",
              "\n",
              "    [theme=dark] .colab-df-convert:hover {\n",
              "      background-color: #434B5C;\n",
              "      box-shadow: 0px 1px 3px 1px rgba(0, 0, 0, 0.15);\n",
              "      filter: drop-shadow(0px 1px 2px rgba(0, 0, 0, 0.3));\n",
              "      fill: #FFFFFF;\n",
              "    }\n",
              "  </style>\n",
              "\n",
              "      <script>\n",
              "        const buttonEl =\n",
              "          document.querySelector('#df-55e84d4a-8aff-4e70-bc2b-86c3a7b9c727 button.colab-df-convert');\n",
              "        buttonEl.style.display =\n",
              "          google.colab.kernel.accessAllowed ? 'block' : 'none';\n",
              "\n",
              "        async function convertToInteractive(key) {\n",
              "          const element = document.querySelector('#df-55e84d4a-8aff-4e70-bc2b-86c3a7b9c727');\n",
              "          const dataTable =\n",
              "            await google.colab.kernel.invokeFunction('convertToInteractive',\n",
              "                                                     [key], {});\n",
              "          if (!dataTable) return;\n",
              "\n",
              "          const docLinkHtml = 'Like what you see? Visit the ' +\n",
              "            '<a target=\"_blank\" href=https://colab.research.google.com/notebooks/data_table.ipynb>data table notebook</a>'\n",
              "            + ' to learn more about interactive tables.';\n",
              "          element.innerHTML = '';\n",
              "          dataTable['output_type'] = 'display_data';\n",
              "          await google.colab.output.renderOutput(dataTable, element);\n",
              "          const docLink = document.createElement('div');\n",
              "          docLink.innerHTML = docLinkHtml;\n",
              "          element.appendChild(docLink);\n",
              "        }\n",
              "      </script>\n",
              "    </div>\n",
              "  </div>\n",
              "  "
            ],
            "text/plain": [
              "                    geometry  \\\n",
              "0  POINT (11.07828 49.45721)   \n",
              "1  POINT (11.01947 49.45618)   \n",
              "2  POINT (11.07845 49.45338)   \n",
              "3  POINT (11.09786 49.46871)   \n",
              "4  POINT (11.26293 49.35130)   \n",
              "\n",
              "                                             address  \n",
              "0  11, 13, Schildgasse, Altstadt, St. Sebald, Seb...  \n",
              "1  axis-expotechnik, 15, Dagobertstraße, Leyh, Nü...  \n",
              "2  Sultan, 1, Spitalgasse, Altstadt, St. Sebald, ...  \n",
              "3  10a, Fraunhoferstraße, Rennweg, Schoppershof, ...  \n",
              "4  Industriestraße, Ochenbruck, Schwarzenbruck, L...  "
            ]
          },
          "execution_count": 76,
          "metadata": {},
          "output_type": "execute_result"
        }
      ],
      "source": [
        "geo.head(5)"
      ]
    },
    {
      "cell_type": "markdown",
      "metadata": {
        "id": "TZ_WwHrTdClt"
      },
      "source": [
        "Jetzt importieren wir die entstandene Datei in Datawrapper. Datawrapper verlangt von uns mindestens drei Spalten:\n",
        "\n",
        "1. Adresse\n",
        "2. Latitude\n",
        "3. Longitude\n",
        "\n",
        "Also erstellen wir einen DataFrame mit diesen Spalten, indem wir zuerst dem `adressen`-Dataframe die Koordinaten in je einer eigenen Spalte hinzufügen. Auf die einzelnen Koordinaten im `POINT`-Objekt können wir über die `x` und `y` Parameter zugreifen:"
      ]
    },
    {
      "cell_type": "code",
      "execution_count": null,
      "metadata": {
        "id": "lrFyLboIMi5_"
      },
      "outputs": [],
      "source": [
        "adressen[\"LAT\"] = geo[\"geometry\"].y\n",
        "adressen[\"LONG\"] = geo[\"geometry\"].x\n",
        "\n",
        "result = adressen[['id', 'name', 'registered_address', \"LAT\", \"LONG\"]]"
      ]
    },
    {
      "cell_type": "markdown",
      "metadata": {
        "id": "lR39jaGCeDkp"
      },
      "source": [
        "Zum Schluss speichern wir die Datei nun als CSV-Datei ab, so dass wir sie in Datawrapper importieren können:"
      ]
    },
    {
      "cell_type": "code",
      "execution_count": null,
      "metadata": {
        "id": "Flsd2IQKNfob"
      },
      "outputs": [],
      "source": [
        "result.to_csv(\"dwinput.csv\")"
      ]
    }
  ],
  "metadata": {
    "colab": {
      "authorship_tag": "ABX9TyPP913tQ70eckG9H3skjIvq",
      "include_colab_link": true,
      "provenance": []
    },
    "kernelspec": {
      "display_name": "Python 3",
      "name": "python3"
    },
    "language_info": {
      "name": "python"
    }
  },
  "nbformat": 4,
  "nbformat_minor": 0
}
