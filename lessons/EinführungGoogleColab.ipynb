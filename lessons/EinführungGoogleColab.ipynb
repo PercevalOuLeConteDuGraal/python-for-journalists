{
  "nbformat": 4,
  "nbformat_minor": 0,
  "metadata": {
    "colab": {
      "provenance": [],
      "authorship_tag": "ABX9TyP3Bol4kAhdEB9nbxD5D/y3",
      "include_colab_link": true
    },
    "kernelspec": {
      "name": "python3",
      "display_name": "Python 3"
    },
    "language_info": {
      "name": "python"
    }
  },
  "cells": [
    {
      "cell_type": "markdown",
      "metadata": {
        "id": "view-in-github",
        "colab_type": "text"
      },
      "source": [
        "<a href=\"https://colab.research.google.com/github/redadmiral/python-for-journalists/blob/main/lessons/Einf%C3%BChrungGoogleColab.ipynb\" target=\"_parent\"><img src=\"https://colab.research.google.com/assets/colab-badge.svg\" alt=\"Open In Colab\"/></a>"
      ]
    },
    {
      "cell_type": "markdown",
      "source": [
        "# Einführung in Google Colab\n",
        "\n",
        "Dieser Kurs wird auf Google Colab stattfinden. Wenn ihr das hier lesen könnet, dann seid ihr bereits auf dem Colab-Notebook.\n",
        "\n",
        "So ein Notebook besteht aus zwei Arten von Zellen: Einerseits Text-Zellen, wie diese hier..."
      ],
      "metadata": {
        "id": "Odp7Zu2oprfn"
      }
    },
    {
      "cell_type": "code",
      "execution_count": null,
      "metadata": {
        "id": "07BIEl5UpppA"
      },
      "outputs": [],
      "source": []
    },
    {
      "cell_type": "markdown",
      "source": [
        "Code-Zellen können Python-Code ausführen, indem man auf das kleine Dreieck drückt oder Strg+Enter.\n",
        "\n",
        "In der Leiste am linken Rand können wir uns \n",
        "\n",
        "1. Den Inhalt des Notebooks ausgeben lassen\n",
        "2. Im Notebook suchen\n",
        "3. Uns alle Variablen ansehen\n",
        "4. Auf das Dateisystem zugreifen\n",
        "\n",
        "Wir weisen kurz eine Variable zu, damit wir uns den Inspector ansehen können."
      ],
      "metadata": {
        "id": "8vggyHXtq7JW"
      }
    },
    {
      "cell_type": "code",
      "source": [],
      "metadata": {
        "id": "SXvfmIlwq69w"
      },
      "execution_count": null,
      "outputs": []
    },
    {
      "cell_type": "code",
      "source": [],
      "metadata": {
        "id": "F95e4sf_sqiU"
      },
      "execution_count": null,
      "outputs": []
    },
    {
      "cell_type": "code",
      "source": [],
      "metadata": {
        "id": "AAhjQyATstsK"
      },
      "execution_count": null,
      "outputs": []
    },
    {
      "cell_type": "markdown",
      "source": [
        "## Troubleshooting\n",
        "\n",
        "Normalerweise wird Computercode von oben nach unten ausgeführt. Hier im Notebook können wir selbst bestimmen, in welcher Reihenfolge wir die einzelnen Zellen ausführen, dass kann zu komischen Effekten führen.\n",
        "\n",
        "Wenn wir zum Beispiel eine Variable definieren:"
      ],
      "metadata": {
        "id": "MJsQMoAks-DL"
      }
    },
    {
      "cell_type": "code",
      "source": [
        "variable = 1"
      ],
      "metadata": {
        "id": "3vHt9BUnydjK"
      },
      "execution_count": null,
      "outputs": []
    },
    {
      "cell_type": "markdown",
      "source": [
        "Und dann zu dieser Variable 2 addieren:"
      ],
      "metadata": {
        "id": "JFDfCOpvyoYB"
      }
    },
    {
      "cell_type": "code",
      "source": [],
      "metadata": {
        "id": "D1ZiAJXTyrDn"
      },
      "execution_count": null,
      "outputs": []
    },
    {
      "cell_type": "markdown",
      "source": [
        "Bekommen wir, wie erwartet, 3 zurück.\n",
        "\n",
        "Wenn wir die Variable jetzt mit einem anderen Wert belegen, z.B. `\"hallo\"`:"
      ],
      "metadata": {
        "id": "xJf-J-qsyxAo"
      }
    },
    {
      "cell_type": "code",
      "source": [],
      "metadata": {
        "id": "GbxAUoOdy6qn"
      },
      "execution_count": null,
      "outputs": []
    },
    {
      "cell_type": "markdown",
      "source": [
        "Und die Zelle weiter oben ausführen, dann bekommen wir einen Fehler, weil die Variable jetzt den Wert `\"hallo\"` von weiter unten hat.\n",
        "\n",
        "In solchen Fällen ist es eine gute Idee, über die Schaltfläche \"Runtime\" in der Statusbar die Runtime neu zu starten und alle Felder nochmal laufen zu lassen. Dann ist wieder alles in der richtigen Reihenfolge."
      ],
      "metadata": {
        "id": "XemB5lYRy9QI"
      }
    },
    {
      "cell_type": "markdown",
      "source": [
        "## Alternativen zu Google Colab\n",
        "\n",
        "Technisch gesehen ist das hier ein sogenanntes Jupyter-Notebook. Wenn ihr also keinen Google-Account habt und euch nicht anmelden möchtet, könnt ihr eine beliebige andere Seite suchen, die Jupyter Notebooks anbietet oder einfach selbst eines hosten.\n",
        "\n",
        "Wie das funktioniert ist aber nicht Teil des Seminars."
      ],
      "metadata": {
        "id": "w0fUFV7pquky"
      }
    }
  ]
}