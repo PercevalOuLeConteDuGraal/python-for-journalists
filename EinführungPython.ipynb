{
  "nbformat": 4,
  "nbformat_minor": 0,
  "metadata": {
    "colab": {
      "provenance": [],
      "authorship_tag": "ABX9TyPsLIcSdlwTid2Pm9p4/TZE",
      "include_colab_link": true
    },
    "kernelspec": {
      "name": "python3",
      "display_name": "Python 3"
    },
    "language_info": {
      "name": "python"
    }
  },
  "cells": [
    {
      "cell_type": "markdown",
      "metadata": {
        "id": "view-in-github",
        "colab_type": "text"
      },
      "source": [
        "<a href=\"https://colab.research.google.com/github/redadmiral/python-for-journalists/blob/main/Einf%C3%BChrungPython.ipynb\" target=\"_parent\"><img src=\"https://colab.research.google.com/assets/colab-badge.svg\" alt=\"Open In Colab\"/></a>"
      ]
    },
    {
      "cell_type": "markdown",
      "source": [
        "# Einführung in Python\n",
        "\n",
        "Python ist eine Programmiersprache. Mit einer Programmiersprache können wir unserem Computer sagen, was er zu tun hat. Eine Programmiersprache besteht aus vielen verschiedenen Teilen und eine der grundlegendsten Funktionen ist die `print()`-Funktion.\n",
        "\n",
        "Mit ihr können wir dem Computer sagen, dass er etwas ausgeben soll. Was er ausgeben soll schreiben wir in Anführungszeichen in die Klammern:"
      ],
      "metadata": {
        "id": "LjpE-DEZn167"
      }
    },
    {
      "cell_type": "code",
      "execution_count": 1,
      "metadata": {
        "colab": {
          "base_uri": "https://localhost:8080/"
        },
        "id": "ttULHfBiZALU",
        "outputId": "23fe9d98-27a5-4a94-8d49-576f5b8f3500"
      },
      "outputs": [
        {
          "output_type": "stream",
          "name": "stdout",
          "text": [
            "Hallo Welt!\n"
          ]
        }
      ],
      "source": [
        "print(\"Hallo Welt!\")"
      ]
    },
    {
      "cell_type": "markdown",
      "source": [
        "Wir sprechen dann davon, dass wir der Funktion ein Argument übergeben. Wenn ich die Zeile oben beschreiben möchte, würde ich sagen: \"Ich übergebe der print-Funktion den Satz \"Hallo Welt!\" als Argument. \n",
        "\n",
        "Argumente sind immer die Sachen, die wir in die Klammer einer Funktion schreiben. Wir können vielen Funktionen auch mehr als ein Argument übergeben:"
      ],
      "metadata": {
        "id": "CIaGXwZGqpEW"
      }
    },
    {
      "cell_type": "code",
      "source": [
        "print(\"Hallo Welt!\", \"Es ist so gutes Wetter.\")"
      ],
      "metadata": {
        "colab": {
          "base_uri": "https://localhost:8080/"
        },
        "id": "p0b_jGKzsbcQ",
        "outputId": "033d9140-d279-470f-8674-36ecfcf88fbf"
      },
      "execution_count": 2,
      "outputs": [
        {
          "output_type": "stream",
          "name": "stdout",
          "text": [
            "Hallo Welt! Es ist so gutes Wetter.\n"
          ]
        }
      ]
    },
    {
      "cell_type": "markdown",
      "source": [
        "Hier übergeben wir der `print()`-Funktion zwei Sätze als Argumente. Die Funktion ist so geschrieben, dass sie weiß, dass sie die zwei Sätze einfach mit einem Leerzeichen aneinander hängen soll.\n",
        "\n",
        "Es gibt Argumente, die wir speziell auszeichnen können, um der Funktion zu erklären, was sie damit machen soll. Die print()-Funktion hat zum Beispiel die Möglichkeit ein anderes Trennzeichen zu benutzen als das Leerzeichen. Diesen \"Separator\" können wir festlegen, indem wir dem Parameter `sep` das neue Trennzeichen zuweisen:"
      ],
      "metadata": {
        "id": "hKfstiD8smiQ"
      }
    },
    {
      "cell_type": "code",
      "source": [
        "print(\"Hallo Welt!\", \"Es ist so gutes Wetter.\", sep=\" --- \")"
      ],
      "metadata": {
        "colab": {
          "base_uri": "https://localhost:8080/"
        },
        "id": "DOhgdXkosiF0",
        "outputId": "5df51735-3113-401d-b0c3-053a46d0d448"
      },
      "execution_count": 3,
      "outputs": [
        {
          "output_type": "stream",
          "name": "stdout",
          "text": [
            "Hallo Welt! --- Es ist so gutes Wetter.\n"
          ]
        }
      ]
    },
    {
      "cell_type": "markdown",
      "source": [
        "## Variablen\n",
        "\n",
        "Eine der großen Stärken von Programmiersprachen ist, dass wir Werte unter bestimmten Namen speichern können:"
      ],
      "metadata": {
        "id": "YuHFpdlzxJkT"
      }
    },
    {
      "cell_type": "code",
      "source": [
        "hallo = \"Hallo Welt!\""
      ],
      "metadata": {
        "id": "KyIToxARxIxk"
      },
      "execution_count": 4,
      "outputs": []
    },
    {
      "cell_type": "markdown",
      "source": [
        "Mit dem `=` sagen wir Python, dass wir der Variable `hallo` den Wert `\"Hallo Welt!\"` zuweisen wollen.\n",
        "\n",
        "Wenn wir jetzt \"Hallo Welt!\" ausgeben wollen, können wir direkt die Variable an die Funktion übergeben:"
      ],
      "metadata": {
        "id": "iZ9ANJzg0t3O"
      }
    },
    {
      "cell_type": "code",
      "source": [
        "print(hallo)"
      ],
      "metadata": {
        "colab": {
          "base_uri": "https://localhost:8080/"
        },
        "id": "sW9WCJAh1FMe",
        "outputId": "5601bdb2-7b50-4e62-da37-b07279873ce9"
      },
      "execution_count": 5,
      "outputs": [
        {
          "output_type": "stream",
          "name": "stdout",
          "text": [
            "Hallo Welt!\n"
          ]
        }
      ]
    },
    {
      "cell_type": "markdown",
      "source": [
        "## Datentypen\n",
        "\n",
        "Bei dem Satz \"Hallo Welt!\" macht es nicht so viel Sinn ihn in einer Variable zu speichern. Aber andere Datentypen in Python können viel komplexer sein, so dass es bequem ist, nur den Variablennamen tippen zu müssen.\n",
        "\n",
        "### Strings\n",
        "\n",
        "Die einfachen Datentypen sind Strings, also Zeichenketten, wie unser \"Hallo Welt!\" oben."
      ],
      "metadata": {
        "id": "eV8LfOA01Khw"
      }
    },
    {
      "cell_type": "code",
      "source": [
        "\"Hallo Welt!\""
      ],
      "metadata": {
        "colab": {
          "base_uri": "https://localhost:8080/",
          "height": 36
        },
        "id": "j6ocFmgQ4v2f",
        "outputId": "0bda3a43-6436-4cf7-8c7f-a286b2b7b8a7"
      },
      "execution_count": 6,
      "outputs": [
        {
          "output_type": "execute_result",
          "data": {
            "text/plain": [
              "'Hallo Welt!'"
            ],
            "application/vnd.google.colaboratory.intrinsic+json": {
              "type": "string"
            }
          },
          "metadata": {},
          "execution_count": 6
        }
      ]
    },
    {
      "cell_type": "markdown",
      "source": [
        "Um zu überprüfen, von welchem Typ etwas ist, hat Python die `type()`-Funktion.\n",
        "\n",
        "Wenn wir einen beliebigen Wert an die Funktion übergeben, verrät sie uns von welchem Typ sie ist."
      ],
      "metadata": {
        "id": "qNT-tdML42F2"
      }
    },
    {
      "cell_type": "code",
      "source": [
        "type(\"Hallo Welt!\")"
      ],
      "metadata": {
        "colab": {
          "base_uri": "https://localhost:8080/"
        },
        "id": "_ZymkR775NMy",
        "outputId": "15c62f2e-a2ff-4c9c-e08f-8761b04a32ff"
      },
      "execution_count": 7,
      "outputs": [
        {
          "output_type": "execute_result",
          "data": {
            "text/plain": [
              "str"
            ]
          },
          "metadata": {},
          "execution_count": 7
        }
      ]
    },
    {
      "cell_type": "markdown",
      "source": [
        "Der einfachste String ist der leere String, also einfach zwei Anführungszeichen:"
      ],
      "metadata": {
        "id": "qTv0v9YD5Sjq"
      }
    },
    {
      "cell_type": "code",
      "source": [
        "\"\""
      ],
      "metadata": {
        "colab": {
          "base_uri": "https://localhost:8080/",
          "height": 36
        },
        "id": "SqFwj4gt5bqY",
        "outputId": "477431de-d077-4c9b-c410-378880d4b683"
      },
      "execution_count": 8,
      "outputs": [
        {
          "output_type": "execute_result",
          "data": {
            "text/plain": [
              "''"
            ],
            "application/vnd.google.colaboratory.intrinsic+json": {
              "type": "string"
            }
          },
          "metadata": {},
          "execution_count": 8
        }
      ]
    },
    {
      "cell_type": "markdown",
      "source": [
        "Wir können strings auch zusammenkleben. Dafür benutzen wir den `+`-Operator:"
      ],
      "metadata": {
        "id": "oppBglAi5gvj"
      }
    },
    {
      "cell_type": "code",
      "source": [
        "\"Hallo\" + \" \" + \"Welt\" + \"!\""
      ],
      "metadata": {
        "colab": {
          "base_uri": "https://localhost:8080/",
          "height": 36
        },
        "id": "Wm3wcDhK5lyr",
        "outputId": "1697339a-ffe7-47c1-a6b0-47a924f7df12"
      },
      "execution_count": 9,
      "outputs": [
        {
          "output_type": "execute_result",
          "data": {
            "text/plain": [
              "'Hallo Welt!'"
            ],
            "application/vnd.google.colaboratory.intrinsic+json": {
              "type": "string"
            }
          },
          "metadata": {},
          "execution_count": 9
        }
      ]
    },
    {
      "cell_type": "markdown",
      "source": [
        "Und sogar multiplizieren können wir Strings:"
      ],
      "metadata": {
        "id": "kZIcHpbK5w8n"
      }
    },
    {
      "cell_type": "code",
      "source": [
        "\"Hallo \"*5"
      ],
      "metadata": {
        "colab": {
          "base_uri": "https://localhost:8080/",
          "height": 36
        },
        "id": "dIzzOCZV5zsb",
        "outputId": "3d2153f7-2534-4cd4-a089-049cb0bcbf4f"
      },
      "execution_count": 11,
      "outputs": [
        {
          "output_type": "execute_result",
          "data": {
            "text/plain": [
              "'Hallo Hallo Hallo Hallo Hallo '"
            ],
            "application/vnd.google.colaboratory.intrinsic+json": {
              "type": "string"
            }
          },
          "metadata": {},
          "execution_count": 11
        }
      ]
    },
    {
      "cell_type": "markdown",
      "source": [
        "## Numerische Daten\n",
        "\n",
        "Es gibt neben den Strings noch Ganze Zahlen und Fließkommazahlen. \n",
        "\n",
        "Ganze Zahlen nennen sich \"Integers\":"
      ],
      "metadata": {
        "id": "YtILOsIX5lZw"
      }
    },
    {
      "cell_type": "code",
      "source": [
        "type(4)"
      ],
      "metadata": {
        "colab": {
          "base_uri": "https://localhost:8080/"
        },
        "id": "QREbH0F26IDw",
        "outputId": "b7af05b8-1dee-4eab-af88-b704916d4ed8"
      },
      "execution_count": 12,
      "outputs": [
        {
          "output_type": "execute_result",
          "data": {
            "text/plain": [
              "int"
            ]
          },
          "metadata": {},
          "execution_count": 12
        }
      ]
    },
    {
      "cell_type": "markdown",
      "source": [
        "Wir können mit ihnen alles machen, was wir von Zahlen so kennen:\n",
        "\n",
        "Wir können sie addieren"
      ],
      "metadata": {
        "id": "xc5mBSPR6KUM"
      }
    },
    {
      "cell_type": "code",
      "source": [
        "1+2"
      ],
      "metadata": {
        "colab": {
          "base_uri": "https://localhost:8080/"
        },
        "id": "mZ1RaqLp6PnE",
        "outputId": "96fc527b-20c9-4e2e-c1d5-4f70f7db5ae8"
      },
      "execution_count": 13,
      "outputs": [
        {
          "output_type": "execute_result",
          "data": {
            "text/plain": [
              "3"
            ]
          },
          "metadata": {},
          "execution_count": 13
        }
      ]
    },
    {
      "cell_type": "markdown",
      "source": [
        "Oder subtrahieren"
      ],
      "metadata": {
        "id": "Xyoftmz66Rg-"
      }
    },
    {
      "cell_type": "code",
      "source": [
        "3-2"
      ],
      "metadata": {
        "colab": {
          "base_uri": "https://localhost:8080/"
        },
        "id": "B_R-w_iL6Th1",
        "outputId": "5485fca3-5bd9-4650-9ac4-6f12a9eef2cc"
      },
      "execution_count": 14,
      "outputs": [
        {
          "output_type": "execute_result",
          "data": {
            "text/plain": [
              "1"
            ]
          },
          "metadata": {},
          "execution_count": 14
        }
      ]
    },
    {
      "cell_type": "markdown",
      "source": [
        "Oder multiplizieren"
      ],
      "metadata": {
        "id": "TSrCBHJR6VXt"
      }
    },
    {
      "cell_type": "code",
      "source": [
        "2*3"
      ],
      "metadata": {
        "colab": {
          "base_uri": "https://localhost:8080/"
        },
        "id": "4mTTRssO6X2y",
        "outputId": "fcfef2f6-6b3b-453a-db7b-d851edddb3a5"
      },
      "execution_count": 15,
      "outputs": [
        {
          "output_type": "execute_result",
          "data": {
            "text/plain": [
              "6"
            ]
          },
          "metadata": {},
          "execution_count": 15
        }
      ]
    },
    {
      "cell_type": "markdown",
      "source": [
        "Wenn wir sie durcheinander teilen, und es nicht aufgeht, dann macht Python automatisch eine Fließkommazahl, eine `float` aus den `int`s."
      ],
      "metadata": {
        "id": "MYr2eXQr6aXT"
      }
    },
    {
      "cell_type": "code",
      "source": [
        "3/4"
      ],
      "metadata": {
        "colab": {
          "base_uri": "https://localhost:8080/"
        },
        "id": "-LPmPwVq6qFM",
        "outputId": "123279c0-93ed-4b14-c4fa-d2148faffd71"
      },
      "execution_count": 16,
      "outputs": [
        {
          "output_type": "execute_result",
          "data": {
            "text/plain": [
              "0.75"
            ]
          },
          "metadata": {},
          "execution_count": 16
        }
      ]
    },
    {
      "cell_type": "code",
      "source": [
        "type(3/4)"
      ],
      "metadata": {
        "colab": {
          "base_uri": "https://localhost:8080/"
        },
        "id": "TgWm1kAz6v4J",
        "outputId": "cfe2bd4f-3867-44f4-b4c8-4cd02c94d4d5"
      },
      "execution_count": 17,
      "outputs": [
        {
          "output_type": "execute_result",
          "data": {
            "text/plain": [
              "float"
            ]
          },
          "metadata": {},
          "execution_count": 17
        }
      ]
    },
    {
      "cell_type": "markdown",
      "source": [
        "In der letzten Zeile sehen wir auch die Reihenfolge in der Python unsere Befehle verarbeitet. Es geht immer von innen nach außen vor: Zuerst berechnet es das Ergebnis von `3/4` und gibt das Ergebnis dann an die Funktion `type()` weiter.\n",
        "\n",
        "Mit den floats können wir alles machen, was wir auch mit `int`s machen können."
      ],
      "metadata": {
        "id": "2zpkjqmZ60u7"
      }
    },
    {
      "cell_type": "markdown",
      "source": [
        "## Boolsche Werte\n",
        "\n",
        "Boolsche Werte können nur zwei Werte annehmen: `True` und `False`.\n",
        "\n",
        "Wir brauchen sie immer dann, wenn wir Dinge miteinander vergleichen, etwa ob zwei Zahlen gleich sind:"
      ],
      "metadata": {
        "id": "Jxw3ZkOaHpDc"
      }
    },
    {
      "cell_type": "code",
      "source": [
        "2 == 2"
      ],
      "metadata": {
        "colab": {
          "base_uri": "https://localhost:8080/"
        },
        "id": "KgRPMLgjH4jV",
        "outputId": "951d5c72-3db5-46cc-f856-f5e33e755d47"
      },
      "execution_count": 73,
      "outputs": [
        {
          "output_type": "execute_result",
          "data": {
            "text/plain": [
              "True"
            ]
          },
          "metadata": {},
          "execution_count": 73
        }
      ]
    },
    {
      "cell_type": "code",
      "source": [
        "2 == 3"
      ],
      "metadata": {
        "colab": {
          "base_uri": "https://localhost:8080/"
        },
        "id": "I645ixz3H6ym",
        "outputId": "7cbd45b1-7499-4630-f8b8-5a9eb02d81ff"
      },
      "execution_count": 74,
      "outputs": [
        {
          "output_type": "execute_result",
          "data": {
            "text/plain": [
              "False"
            ]
          },
          "metadata": {},
          "execution_count": 74
        }
      ]
    },
    {
      "cell_type": "markdown",
      "source": [
        "Zwei `==` entsprechen dem \"Istgleich\" aus dem Matheunterricht, das einzelne Istgleich benutzen wir in Python nur, um einer Variable einen Wert zuzuweisen.\n",
        "\n",
        "Wir können außerdem vergleichen, ob eine Zahl größer oder kleiner ist als die andere:"
      ],
      "metadata": {
        "id": "GdpgTNJlH-Ft"
      }
    },
    {
      "cell_type": "code",
      "source": [
        "2 < 3"
      ],
      "metadata": {
        "colab": {
          "base_uri": "https://localhost:8080/"
        },
        "id": "-NYSCED-HoXT",
        "outputId": "440a3c01-ed1d-436e-9ba5-209489812854"
      },
      "execution_count": 75,
      "outputs": [
        {
          "output_type": "execute_result",
          "data": {
            "text/plain": [
              "True"
            ]
          },
          "metadata": {},
          "execution_count": 75
        }
      ]
    },
    {
      "cell_type": "code",
      "source": [
        "2 > 3"
      ],
      "metadata": {
        "colab": {
          "base_uri": "https://localhost:8080/"
        },
        "id": "6tYMg08xISl7",
        "outputId": "342f6580-ba3c-488f-86e3-decd72d9fe95"
      },
      "execution_count": 76,
      "outputs": [
        {
          "output_type": "execute_result",
          "data": {
            "text/plain": [
              "False"
            ]
          },
          "metadata": {},
          "execution_count": 76
        }
      ]
    },
    {
      "cell_type": "markdown",
      "source": [
        "Diese Operatoren können wir mit einem `=` kombinieren, um zu sehen ob sie größer oder gleich sind:"
      ],
      "metadata": {
        "id": "fkHOrigGIVGy"
      }
    },
    {
      "cell_type": "code",
      "source": [
        "2 < 2"
      ],
      "metadata": {
        "colab": {
          "base_uri": "https://localhost:8080/"
        },
        "id": "tRw8HhrYIaxl",
        "outputId": "572852bd-6f83-4100-ce61-f6fb39c7ec18"
      },
      "execution_count": 77,
      "outputs": [
        {
          "output_type": "execute_result",
          "data": {
            "text/plain": [
              "False"
            ]
          },
          "metadata": {},
          "execution_count": 77
        }
      ]
    },
    {
      "cell_type": "code",
      "source": [
        "2 <= 2"
      ],
      "metadata": {
        "colab": {
          "base_uri": "https://localhost:8080/"
        },
        "id": "KyrEOrqeIcNj",
        "outputId": "f71ec066-30fa-4443-a4b1-b0006fa12760"
      },
      "execution_count": 78,
      "outputs": [
        {
          "output_type": "execute_result",
          "data": {
            "text/plain": [
              "True"
            ]
          },
          "metadata": {},
          "execution_count": 78
        }
      ]
    },
    {
      "cell_type": "markdown",
      "source": [
        "Außerdem können wir mit `!=` überprüfen, ob ein Wert ungleich einem anderen ist:"
      ],
      "metadata": {
        "id": "uxrfvVH9IiAY"
      }
    },
    {
      "cell_type": "code",
      "source": [
        "2 != 3"
      ],
      "metadata": {
        "colab": {
          "base_uri": "https://localhost:8080/"
        },
        "id": "R2p65RePIqRc",
        "outputId": "1c044c38-913a-4936-95d7-ccb2ac06fd23"
      },
      "execution_count": 79,
      "outputs": [
        {
          "output_type": "execute_result",
          "data": {
            "text/plain": [
              "True"
            ]
          },
          "metadata": {},
          "execution_count": 79
        }
      ]
    },
    {
      "cell_type": "code",
      "source": [
        "2 != 2"
      ],
      "metadata": {
        "colab": {
          "base_uri": "https://localhost:8080/"
        },
        "id": "7ZImP82KIr3x",
        "outputId": "89c8a7c1-6f5d-44fe-85a7-bb9f1746c000"
      },
      "execution_count": 80,
      "outputs": [
        {
          "output_type": "execute_result",
          "data": {
            "text/plain": [
              "False"
            ]
          },
          "metadata": {},
          "execution_count": 80
        }
      ]
    },
    {
      "cell_type": "markdown",
      "source": [
        "\n",
        "## Der None-Typ\n",
        "\n",
        "`None` ist ein bisschen weird: Er ist der Nicht-Wert. Wenn einer Variable kein Wert zugewiesen ist, hat sie den Wert `None`. Das passiert zum Beispiel dann, wenn eine Funktion keinen Rückgabewert hat.\n",
        "\n",
        "Auch wenn es komisch klingt, ist sie ein eigener Datentyp."
      ],
      "metadata": {
        "id": "1Dv4yC2dB_Sl"
      }
    },
    {
      "cell_type": "code",
      "source": [
        "type(None)"
      ],
      "metadata": {
        "colab": {
          "base_uri": "https://localhost:8080/"
        },
        "id": "6Td0Lur9v64e",
        "outputId": "c6ac6005-263f-45a7-e890-de3a28e24784"
      },
      "execution_count": 42,
      "outputs": [
        {
          "output_type": "execute_result",
          "data": {
            "text/plain": [
              "NoneType"
            ]
          },
          "metadata": {},
          "execution_count": 42
        }
      ]
    },
    {
      "cell_type": "markdown",
      "source": [
        "## Listen\n",
        "\n",
        "Wenn wir verschiedene Werte zusammen speichern wollen, können wir sie in eine Liste packen. Diese erkennen wir daran, dass die Werte von einer eckigen Klammer umfasst sind."
      ],
      "metadata": {
        "id": "Ceslucaivnml"
      }
    },
    {
      "cell_type": "code",
      "source": [
        "[1, 2, 3]"
      ],
      "metadata": {
        "colab": {
          "base_uri": "https://localhost:8080/"
        },
        "id": "5T48fuEC8H8T",
        "outputId": "20d70705-0bdc-4f61-faa0-2e77816a9ab1"
      },
      "execution_count": 19,
      "outputs": [
        {
          "output_type": "execute_result",
          "data": {
            "text/plain": [
              "['one', 'two', 'three']"
            ]
          },
          "metadata": {},
          "execution_count": 19
        }
      ]
    },
    {
      "cell_type": "code",
      "source": [
        "[\"one\", \"two\", \"three\"]"
      ],
      "metadata": {
        "id": "z1HSouhu8Zbf"
      },
      "execution_count": null,
      "outputs": []
    },
    {
      "cell_type": "markdown",
      "source": [
        "Python erlaubt es uns zwar verschiedene Datentypen in einer Liste zusammenzufassen, aber es ist eine gute Idee diese nicht zu mischen. \n",
        "\n",
        "Das liegt daran, dass wir häufig Funktionen auf ganze Listen anwenden wollen. Wenn diese verschiedene Datentypen beinhaltet, dann kann die Funktion diese nicht verarbeiten. \n",
        "\n",
        "Eine solche Funktion ist etwa die `max()` Funktion. Sie gibt uns den höchsten Wert in einer Liste zurück:"
      ],
      "metadata": {
        "id": "NDcR39Wv8aNX"
      }
    },
    {
      "cell_type": "code",
      "source": [
        "max([2, 3, 4])"
      ],
      "metadata": {
        "colab": {
          "base_uri": "https://localhost:8080/"
        },
        "id": "u4w-i-TWAxl4",
        "outputId": "ed6fbb7a-a041-417e-9a6f-7bef0df5671f"
      },
      "execution_count": 22,
      "outputs": [
        {
          "output_type": "execute_result",
          "data": {
            "text/plain": [
              "4"
            ]
          },
          "metadata": {},
          "execution_count": 22
        }
      ]
    },
    {
      "cell_type": "markdown",
      "source": [
        "Wenn wir aber verschiedene Datentypen mischen, dann kann die Funktion nicht damit umgehen und wirft einen Fehler:"
      ],
      "metadata": {
        "id": "hz6d38cdBBfd"
      }
    },
    {
      "cell_type": "code",
      "source": [
        "max([2, 3, \"Hallo\"])"
      ],
      "metadata": {
        "colab": {
          "base_uri": "https://localhost:8080/",
          "height": 170
        },
        "id": "EZs2QTHpBI14",
        "outputId": "163c2c16-c8a7-4344-cdc1-347acfa50024"
      },
      "execution_count": 23,
      "outputs": [
        {
          "output_type": "error",
          "ename": "TypeError",
          "evalue": "ignored",
          "traceback": [
            "\u001b[0;31m---------------------------------------------------------------------------\u001b[0m",
            "\u001b[0;31mTypeError\u001b[0m                                 Traceback (most recent call last)",
            "\u001b[0;32m<ipython-input-23-4698b8d71aa9>\u001b[0m in \u001b[0;36m<module>\u001b[0;34m\u001b[0m\n\u001b[0;32m----> 1\u001b[0;31m \u001b[0mmax\u001b[0m\u001b[0;34m(\u001b[0m\u001b[0;34m[\u001b[0m\u001b[0;36m2\u001b[0m\u001b[0;34m,\u001b[0m \u001b[0;36m3\u001b[0m\u001b[0;34m,\u001b[0m \u001b[0;34m\"Hallo\"\u001b[0m\u001b[0;34m]\u001b[0m\u001b[0;34m)\u001b[0m\u001b[0;34m\u001b[0m\u001b[0;34m\u001b[0m\u001b[0m\n\u001b[0m",
            "\u001b[0;31mTypeError\u001b[0m: '>' not supported between instances of 'str' and 'int'"
          ]
        }
      ]
    },
    {
      "cell_type": "markdown",
      "source": [
        "Listen haben die `.append()`-Methode um Dinge hinzuzufügen:"
      ],
      "metadata": {
        "id": "aoNylbW5oHpI"
      }
    },
    {
      "cell_type": "code",
      "source": [
        "dogs = [\"Terrier\", \"Retriever\"]"
      ],
      "metadata": {
        "id": "JEHR2wTcoM__"
      },
      "execution_count": 1,
      "outputs": []
    },
    {
      "cell_type": "code",
      "source": [
        "dogs.append(\"Dackel\")\n",
        "dogs"
      ],
      "metadata": {
        "colab": {
          "base_uri": "https://localhost:8080/"
        },
        "id": "UaC2fcnaoSu4",
        "outputId": "17dcd4d6-f233-47b6-8210-b18bf945073c"
      },
      "execution_count": 2,
      "outputs": [
        {
          "output_type": "execute_result",
          "data": {
            "text/plain": [
              "['Terrier', 'Retriever', 'Dackel']"
            ]
          },
          "metadata": {},
          "execution_count": 2
        }
      ]
    },
    {
      "cell_type": "markdown",
      "source": [
        "Und die `.pop()`-Methode um Einträge zu entfernen. Sie entfernt den letzten Wert aus der Liste und gibt ihn zurück:"
      ],
      "metadata": {
        "id": "e_dB3TNDoXgQ"
      }
    },
    {
      "cell_type": "code",
      "source": [
        "dogs.pop()"
      ],
      "metadata": {
        "colab": {
          "base_uri": "https://localhost:8080/",
          "height": 36
        },
        "id": "Ilq313VwockP",
        "outputId": "1a65be9b-44db-491c-fcef-fc1dda2394ce"
      },
      "execution_count": 3,
      "outputs": [
        {
          "output_type": "execute_result",
          "data": {
            "text/plain": [
              "'Dackel'"
            ],
            "application/vnd.google.colaboratory.intrinsic+json": {
              "type": "string"
            }
          },
          "metadata": {},
          "execution_count": 3
        }
      ]
    },
    {
      "cell_type": "code",
      "source": [
        "dogs"
      ],
      "metadata": {
        "colab": {
          "base_uri": "https://localhost:8080/"
        },
        "id": "6WVw6ArDohX3",
        "outputId": "c9cb0d98-e6b6-42ae-d246-ef103a5fd661"
      },
      "execution_count": 4,
      "outputs": [
        {
          "output_type": "execute_result",
          "data": {
            "text/plain": [
              "['Terrier', 'Retriever']"
            ]
          },
          "metadata": {},
          "execution_count": 4
        }
      ]
    },
    {
      "cell_type": "markdown",
      "source": [
        "Wir können einer Liste natürlich auch andere Listen hinzufügen:"
      ],
      "metadata": {
        "id": "F0NiPGcWs1LN"
      }
    },
    {
      "cell_type": "code",
      "source": [
        "cats = [\"Bengal\", \"German Rex\", \"Highlander\", \"European Shorthair\"]\n",
        "\n",
        "animals = [cats, dogs]\n",
        "animals"
      ],
      "metadata": {
        "colab": {
          "base_uri": "https://localhost:8080/"
        },
        "id": "W3HI5H0Fs73W",
        "outputId": "ba7035e2-2bcb-4e02-f209-d639b47b8c8a"
      },
      "execution_count": 37,
      "outputs": [
        {
          "output_type": "execute_result",
          "data": {
            "text/plain": [
              "[['Bengal', 'German Rex', 'Highlander', 'European Shorthair'],\n",
              " ['Terrier', 'Retriever']]"
            ]
          },
          "metadata": {},
          "execution_count": 37
        }
      ]
    },
    {
      "cell_type": "markdown",
      "source": [
        "Wir können mit eckigen Klammern `[]` auch bestimmen, welche Teile von einer Liste wir extrahieren möchten. Wir können entweder einzelne Werte daraus ziehen, wobei Python hier immer bei Null anfängt zu zählen:"
      ],
      "metadata": {
        "id": "461dr1dnosRO"
      }
    },
    {
      "cell_type": "code",
      "source": [
        "cats[0]"
      ],
      "metadata": {
        "colab": {
          "base_uri": "https://localhost:8080/",
          "height": 36
        },
        "id": "RK0FsWIno0sD",
        "outputId": "6b4f0f82-6268-4c4d-e3c3-d88a0a6330fb"
      },
      "execution_count": 5,
      "outputs": [
        {
          "output_type": "execute_result",
          "data": {
            "text/plain": [
              "'Bengal'"
            ],
            "application/vnd.google.colaboratory.intrinsic+json": {
              "type": "string"
            }
          },
          "metadata": {},
          "execution_count": 5
        }
      ]
    },
    {
      "cell_type": "markdown",
      "source": [
        "Die Liste an sich bleibt dabei erhalten. Wenn wir die Teil-Liste speichern wollen, müssen wir das in einer neuen Variable machen."
      ],
      "metadata": {
        "id": "fOUO5kWWpXaR"
      }
    },
    {
      "cell_type": "code",
      "source": [
        "cats"
      ],
      "metadata": {
        "colab": {
          "base_uri": "https://localhost:8080/"
        },
        "id": "GgC23w0tpehg",
        "outputId": "6b8c83c9-fcfe-473c-a0c1-3a68f6329487"
      },
      "execution_count": 6,
      "outputs": [
        {
          "output_type": "execute_result",
          "data": {
            "text/plain": [
              "['Bengal', 'German Rex', 'Highlander', 'European Shorthair']"
            ]
          },
          "metadata": {},
          "execution_count": 6
        }
      ]
    },
    {
      "cell_type": "markdown",
      "source": [
        "Wir können aber auch mehrere Elemente einer Liste extrahieren, indem wir den Bereich mit einem Doppelpunkt getrennt angeben. `cats[0:2]` extrahiert die ersten beiden Elemente aus der Liste, weil der zweite Index (also die 2) hier nicht inkludiert ist."
      ],
      "metadata": {
        "id": "4BcrO_xFpg1F"
      }
    },
    {
      "cell_type": "code",
      "source": [
        "cats[0:2]"
      ],
      "metadata": {
        "colab": {
          "base_uri": "https://localhost:8080/"
        },
        "id": "84KIQrJBp2zO",
        "outputId": "7afe9501-449f-48be-d09e-ee9b5cc3552e"
      },
      "execution_count": 7,
      "outputs": [
        {
          "output_type": "execute_result",
          "data": {
            "text/plain": [
              "['Bengal', 'German Rex']"
            ]
          },
          "metadata": {},
          "execution_count": 7
        }
      ]
    },
    {
      "cell_type": "markdown",
      "source": [
        "Statt das erste oder letzte Element explizit mit anzugeben, können wir es auch einfach weglassen:"
      ],
      "metadata": {
        "id": "NHsmmZ9cp6GM"
      }
    },
    {
      "cell_type": "code",
      "source": [
        "cats[:2]"
      ],
      "metadata": {
        "colab": {
          "base_uri": "https://localhost:8080/"
        },
        "id": "N2ksVmJkqAM8",
        "outputId": "cc9940fe-6a27-4c83-ba79-dcc842bb97d6"
      },
      "execution_count": 8,
      "outputs": [
        {
          "output_type": "execute_result",
          "data": {
            "text/plain": [
              "['Bengal', 'German Rex']"
            ]
          },
          "metadata": {},
          "execution_count": 8
        }
      ]
    },
    {
      "cell_type": "markdown",
      "source": [
        "Und indem wir negative Zahlen übergeben, können wir die letzten Elemente einer Liste extrahieren. Hier fängt Python dann aber bei `-1` an zu zählen:"
      ],
      "metadata": {
        "id": "Co6w-qR5qDEN"
      }
    },
    {
      "cell_type": "code",
      "source": [
        "cats[-1]"
      ],
      "metadata": {
        "colab": {
          "base_uri": "https://localhost:8080/",
          "height": 36
        },
        "id": "I2VElufBqQu5",
        "outputId": "07d3ec57-65c0-4b23-e720-8a1bf7286dcf"
      },
      "execution_count": 9,
      "outputs": [
        {
          "output_type": "execute_result",
          "data": {
            "text/plain": [
              "'European Shorthair'"
            ],
            "application/vnd.google.colaboratory.intrinsic+json": {
              "type": "string"
            }
          },
          "metadata": {},
          "execution_count": 9
        }
      ]
    },
    {
      "cell_type": "code",
      "source": [
        "cats[-2:]"
      ],
      "metadata": {
        "colab": {
          "base_uri": "https://localhost:8080/"
        },
        "id": "xRiPmjwzqTFK",
        "outputId": "50efb257-2dda-4eed-d7b6-a05dba3227e9"
      },
      "execution_count": 11,
      "outputs": [
        {
          "output_type": "execute_result",
          "data": {
            "text/plain": [
              "['Highlander', 'European Shorthair']"
            ]
          },
          "metadata": {},
          "execution_count": 11
        }
      ]
    },
    {
      "cell_type": "markdown",
      "source": [
        "Wenn wir ein Element aus einer Liste von Listen haben wollen, können wir den Index auch verdoppeln. Um das erste Element aus der ersten Liste in `animals` zu bekommen, können wir schreiben:"
      ],
      "metadata": {
        "id": "YTk5Lo4QvSFl"
      }
    },
    {
      "cell_type": "code",
      "source": [
        "animals[0][0]"
      ],
      "metadata": {
        "colab": {
          "base_uri": "https://localhost:8080/",
          "height": 36
        },
        "id": "GSMqZKn3vctT",
        "outputId": "8566286b-fb1c-4348-b64b-43c16b0076b3"
      },
      "execution_count": 41,
      "outputs": [
        {
          "output_type": "execute_result",
          "data": {
            "text/plain": [
              "'Bengal'"
            ],
            "application/vnd.google.colaboratory.intrinsic+json": {
              "type": "string"
            }
          },
          "metadata": {},
          "execution_count": 41
        }
      ]
    },
    {
      "cell_type": "markdown",
      "source": [
        "## Sets\n",
        "\n",
        "Sehr ähnlich zu den Listen sind Sets. Diese können auch verschiedene Werte enthalten, der Unterschied zur Liste ist, dass jeder Wert nur einmal vorkommen darf und dass das Set sich die Reihenfolge nicht merkt, in der die Daten eingetragen sind.\n",
        "\n",
        "Sets sind Werte in geschwungenen Klammern:"
      ],
      "metadata": {
        "id": "guipnM8qBMnb"
      }
    },
    {
      "cell_type": "code",
      "source": [
        "{1, 2, 3, 1}"
      ],
      "metadata": {
        "colab": {
          "base_uri": "https://localhost:8080/"
        },
        "id": "AhqYGBdGBezW",
        "outputId": "fede6afc-18c6-4600-8e15-9a1e022afb7e"
      },
      "execution_count": 24,
      "outputs": [
        {
          "output_type": "execute_result",
          "data": {
            "text/plain": [
              "{1, 2, 3}"
            ]
          },
          "metadata": {},
          "execution_count": 24
        }
      ]
    },
    {
      "cell_type": "markdown",
      "source": [
        "Obwohl wir zwei Mal die eins hinzufügen, ist sie nur einmal im Set. Das ist immer dann praktisch, wenn wir bei vielen Werten nur wissen wollen, welche Werte überhaupt vorhanden sind."
      ],
      "metadata": {
        "id": "Ly2uzEKyBvS-"
      }
    },
    {
      "cell_type": "code",
      "source": [
        "[1, 2, 3, 1]"
      ],
      "metadata": {
        "colab": {
          "base_uri": "https://localhost:8080/"
        },
        "id": "yittj38YBrLh",
        "outputId": "7e64fe62-2045-477c-f9b4-a22e146f91d3"
      },
      "execution_count": 25,
      "outputs": [
        {
          "output_type": "execute_result",
          "data": {
            "text/plain": [
              "[1, 2, 3, 1]"
            ]
          },
          "metadata": {},
          "execution_count": 25
        }
      ]
    },
    {
      "cell_type": "markdown",
      "source": [
        "Da sich ein Set nicht merkt, an welcher Stelle ein Eintrag kommt, funktioniert hier auch die Schreibweise mit den eckigen Klammern nicht, um Einträge zu extrahieren:"
      ],
      "metadata": {
        "id": "ZgGnsGpjqZlf"
      }
    },
    {
      "cell_type": "code",
      "source": [
        "unique_cats = {\"Bengal\", \"German Rex\", \"Highlander\", \"European Shorthair\"}\n",
        "unique_cats[2]"
      ],
      "metadata": {
        "colab": {
          "base_uri": "https://localhost:8080/",
          "height": 188
        },
        "id": "uYGLxf8EqapU",
        "outputId": "22013636-3930-470c-ec07-b1bef579a8ab"
      },
      "execution_count": 34,
      "outputs": [
        {
          "output_type": "error",
          "ename": "TypeError",
          "evalue": "ignored",
          "traceback": [
            "\u001b[0;31m---------------------------------------------------------------------------\u001b[0m",
            "\u001b[0;31mTypeError\u001b[0m                                 Traceback (most recent call last)",
            "\u001b[0;32m<ipython-input-34-1e3a504c098b>\u001b[0m in \u001b[0;36m<module>\u001b[0;34m\u001b[0m\n\u001b[1;32m      1\u001b[0m \u001b[0munique_cats\u001b[0m \u001b[0;34m=\u001b[0m \u001b[0;34m{\u001b[0m\u001b[0;34m\"Bengal\"\u001b[0m\u001b[0;34m,\u001b[0m \u001b[0;34m\"German Rex\"\u001b[0m\u001b[0;34m,\u001b[0m \u001b[0;34m\"Highlander\"\u001b[0m\u001b[0;34m,\u001b[0m \u001b[0;34m\"European Shorthair\"\u001b[0m\u001b[0;34m}\u001b[0m\u001b[0;34m\u001b[0m\u001b[0;34m\u001b[0m\u001b[0m\n\u001b[0;32m----> 2\u001b[0;31m \u001b[0munique_cats\u001b[0m\u001b[0;34m[\u001b[0m\u001b[0;36m2\u001b[0m\u001b[0;34m]\u001b[0m\u001b[0;34m\u001b[0m\u001b[0;34m\u001b[0m\u001b[0m\n\u001b[0m",
            "\u001b[0;31mTypeError\u001b[0m: 'set' object is not subscriptable"
          ]
        }
      ]
    },
    {
      "cell_type": "markdown",
      "source": [
        "Bei Sets können wir mit `.add()`  neue Elemente hinzufügen:"
      ],
      "metadata": {
        "id": "CuQiWYRQqzPK"
      }
    },
    {
      "cell_type": "code",
      "source": [
        "unique_cats.add(\"Munchkin\")\n",
        "unique_cats"
      ],
      "metadata": {
        "colab": {
          "base_uri": "https://localhost:8080/"
        },
        "id": "B9BgIsAGq0FY",
        "outputId": "bdde75d3-395b-49ce-deae-58f7b408d8e9"
      },
      "execution_count": 35,
      "outputs": [
        {
          "output_type": "execute_result",
          "data": {
            "text/plain": [
              "{'Bengal', 'European Shorthair', 'German Rex', 'Highlander', 'Munchkin'}"
            ]
          },
          "metadata": {},
          "execution_count": 35
        }
      ]
    },
    {
      "cell_type": "markdown",
      "source": [
        "Und mit `.pop()` Elemente entfernen. Nachdem die Reihenfolge nicht gewahrt wird, ist es aber zufällig, welches Element entfernt wird."
      ],
      "metadata": {
        "id": "FQ2bBTTWr6am"
      }
    },
    {
      "cell_type": "code",
      "source": [
        "unique_cats.pop()"
      ],
      "metadata": {
        "colab": {
          "base_uri": "https://localhost:8080/",
          "height": 36
        },
        "id": "e17vDyXWsFLl",
        "outputId": "20e5f670-b96c-4273-cdd2-a461aa342070"
      },
      "execution_count": 36,
      "outputs": [
        {
          "output_type": "execute_result",
          "data": {
            "text/plain": [
              "'European Shorthair'"
            ],
            "application/vnd.google.colaboratory.intrinsic+json": {
              "type": "string"
            }
          },
          "metadata": {},
          "execution_count": 36
        }
      ]
    },
    {
      "cell_type": "markdown",
      "source": [
        "## Dictionaries\n",
        "\n",
        "Dictionaries sind ähnlich aufgebaut wie die namensgebenden Wörterbücher: Sie bestehen immer aus sogenannten Key-Value-Paaren.\n",
        "\n",
        "Das kann zum Beispiel so aussehen:"
      ],
      "metadata": {
        "id": "dFHE1JG_tI_W"
      }
    },
    {
      "cell_type": "code",
      "source": [
        "cats_dict = {\n",
        "    \"Bengal\": \"Sweet and fluffy\",\n",
        "    \"German Rex\": \"Standard German house cat. Still cute.\"\n",
        "}"
      ],
      "metadata": {
        "id": "IrsNGoTRu4Ua"
      },
      "execution_count": 38,
      "outputs": []
    },
    {
      "cell_type": "markdown",
      "source": [
        "Wenn man dem Dictionary einen Key gibt, dann spuckt es den dazugehörigen Wert aus, so wie wenn man im Wörterbuch nach einem Wort (der Key) nachschlägt und dazu die Erklärung (den Value) bekommt."
      ],
      "metadata": {
        "id": "5djCjVfGvHTb"
      }
    },
    {
      "cell_type": "code",
      "source": [
        "cats_dict[\"Bengal\"]"
      ],
      "metadata": {
        "colab": {
          "base_uri": "https://localhost:8080/",
          "height": 36
        },
        "id": "k4ZOxgZMvIVE",
        "outputId": "3a914579-5c0e-406e-f03b-f6a9e54133b2"
      },
      "execution_count": 40,
      "outputs": [
        {
          "output_type": "execute_result",
          "data": {
            "text/plain": [
              "'Sweet and fluffy'"
            ],
            "application/vnd.google.colaboratory.intrinsic+json": {
              "type": "string"
            }
          },
          "metadata": {},
          "execution_count": 40
        }
      ]
    },
    {
      "cell_type": "markdown",
      "source": [
        "Auch bei Dictionaries können wir mit `.pop()` Elemente entfernen. Wir müssen aber angeben, welchen Key das Element hat, das wir entfernen möchten. Sonst wirft die Methode einen Fehler."
      ],
      "metadata": {
        "id": "R0qg8EtHwOtK"
      }
    },
    {
      "cell_type": "code",
      "source": [
        "cats_dict.pop(\"Bengal\")"
      ],
      "metadata": {
        "colab": {
          "base_uri": "https://localhost:8080/",
          "height": 36
        },
        "id": "_fUzhnewtInS",
        "outputId": "fdc7c836-5795-4733-a0a0-d3e601dba62c"
      },
      "execution_count": 43,
      "outputs": [
        {
          "output_type": "execute_result",
          "data": {
            "text/plain": [
              "'Sweet and fluffy'"
            ],
            "application/vnd.google.colaboratory.intrinsic+json": {
              "type": "string"
            }
          },
          "metadata": {},
          "execution_count": 43
        }
      ]
    },
    {
      "cell_type": "markdown",
      "source": [
        "Um neue Elemente hinzuzufügen, geben wir mit eckigen Klammern den Key an und weisen mit den `=` den neuen Wert zu:"
      ],
      "metadata": {
        "id": "KWXJP5tdwgtw"
      }
    },
    {
      "cell_type": "code",
      "source": [
        "cats_dict[\"Persian\"] = \"Extremely fluffy\"\n",
        "cats_dict"
      ],
      "metadata": {
        "colab": {
          "base_uri": "https://localhost:8080/"
        },
        "id": "aT1FlzIEwWaz",
        "outputId": "6d2b52af-2e1a-4ae7-94fb-ec1b88397a56"
      },
      "execution_count": 46,
      "outputs": [
        {
          "output_type": "execute_result",
          "data": {
            "text/plain": [
              "{'German Rex': 'Standard German house cat. Still cute.',\n",
              " 'Persian': 'Extremely Fluffy'}"
            ]
          },
          "metadata": {},
          "execution_count": 46
        }
      ]
    },
    {
      "cell_type": "markdown",
      "source": [
        "Auch hier können wir wieder eine Liste übergeben und mit den eckigen Klammern direkt auf ein Element in der Liste mit einem bestimmten Key zugreifen:"
      ],
      "metadata": {
        "id": "Gnc03WIqxH6j"
      }
    },
    {
      "cell_type": "code",
      "source": [
        "animals_dict= {\n",
        "    \"cats\": cats,\n",
        "    \"dogs\": dogs\n",
        "}"
      ],
      "metadata": {
        "id": "5eFRlZGKwMap"
      },
      "execution_count": 47,
      "outputs": []
    },
    {
      "cell_type": "code",
      "source": [
        "animals_dict[\"cats\"][0]"
      ],
      "metadata": {
        "colab": {
          "base_uri": "https://localhost:8080/",
          "height": 36
        },
        "id": "edCdRO15xXkg",
        "outputId": "57129ce6-e8cc-414f-8ab2-f56d8db0883e"
      },
      "execution_count": 48,
      "outputs": [
        {
          "output_type": "execute_result",
          "data": {
            "text/plain": [
              "'Bengal'"
            ],
            "application/vnd.google.colaboratory.intrinsic+json": {
              "type": "string"
            }
          },
          "metadata": {},
          "execution_count": 48
        }
      ]
    },
    {
      "cell_type": "markdown",
      "source": [
        "## Funktionen\n",
        "\n",
        "Wir erinnern uns an die `print()`-Funktion. Wir übergeben ihr einen oder mehrere Strings, sie verarbeitet sie und gibt sie zurück.\n",
        "\n",
        "Das ist die grundlegende Idee hinter einer Funktion: Sie funktionieren wie kleine Daten-Maschinen. Wir geben etwas in sie hinein (den Input) sie verarbeiten es und geben das was sie verarbeitet haben wieder zurück.\n",
        "\n",
        "Solche Funktionen können wir auch selbst schreiben, man nennt das die Funktion definieren. Deshalb beginnen wir mit dem Wörtchen `def` wenn wir die Funktion definieren wollen. \n",
        "\n",
        "\n",
        "```python\n",
        "def\n",
        "```\n",
        "\n",
        "Darauf folgt der Name der Funktion:\n",
        "\n",
        "```python\n",
        "def double\n",
        "```\n",
        "\n",
        "Unsere Funktion wird eine Zahl verdoppeln, deshalb nennen wir sie `double`. Wir können ihr aber auch jeden anderen Namen geben den wir wollen. Es ist nur Konvention, dass wenn man mehrere Wörter verwendet, diese mit einem Unterstrich trennt, also z.B. `double_number` schreibt.\n",
        "\n",
        "Als nächstes bekommt die Funktion ein paar Klammern spendiert:\n",
        "\n",
        "```python\n",
        "def double()\n",
        "```\n",
        "\n",
        "In diese Klammern schreiben wir, was wir der Funktion übergeben, den sogeannanten Parameter.\n",
        "\n",
        "```python\n",
        "def double(number)\n",
        "```\n",
        "\n",
        "Und schließen das mit einem Doppelpunkt ab, damit Python weiß, dass jetzt der formale Teil abgeschlossen ist.\n",
        "\n",
        "```python\n",
        "def double(number):\n",
        "```\n",
        "\n",
        "Die nächste Zeile müssen wir mit zwei Leerzeichen einrücken, damit Python weiß, dass der folgende Teil noch zur Funktionsdefinition gehört. Das Colab-Notebook übernimmt das aber für uns automatisch. Hier schreiben wir was die Funktion machen soll, nämlich die übergebene Zahl `number` verdoppeln.\n",
        "\n",
        "\n",
        "```python\n",
        "def double(number):\n",
        "  result = number*2\n",
        "```\n",
        "\n",
        "Damit verdoppelt Python jetzt zwar die Zahl und schreibt sie in eine Variable `result`, aber gibt sie nicht wieder zurück. Dafür brauchen wir das `return`-Statement:\n",
        "\n",
        "```python\n",
        "def double(number):\n",
        "  result = number*2\n",
        "  return result\n",
        "```\n",
        "\n",
        "Damit haben wir unsere Funktion fertig gebaut: Wir können ihr eine Zahl übergeben, sie verarbeitet sie und gibt sie wieder zurück. \n",
        "\n",
        "Das können wir jetzt ausprobieren:\n"
      ],
      "metadata": {
        "id": "IzEGjtMQsbi4"
      }
    },
    {
      "cell_type": "code",
      "source": [
        "def double(number):\n",
        "  result = number*2\n",
        "  return result"
      ],
      "metadata": {
        "id": "W3IU4go23HoO"
      },
      "execution_count": 51,
      "outputs": []
    },
    {
      "cell_type": "markdown",
      "source": [
        "Jetzt können wir die Funktion aufrufen, indem wir ihr eine Zahl übergeben:"
      ],
      "metadata": {
        "id": "AHke-Rt14XOG"
      }
    },
    {
      "cell_type": "code",
      "source": [
        "double(number=2)"
      ],
      "metadata": {
        "colab": {
          "base_uri": "https://localhost:8080/"
        },
        "id": "vfE2RmNB4XGA",
        "outputId": "0b48b8ab-a1bc-48d3-8bbf-ac93b15806f8"
      },
      "execution_count": 55,
      "outputs": [
        {
          "output_type": "execute_result",
          "data": {
            "text/plain": [
              "4"
            ]
          },
          "metadata": {},
          "execution_count": 55
        }
      ]
    },
    {
      "cell_type": "markdown",
      "source": [
        "Eine Funktion kann natürlich auch mehrere Argumente nehmen. Wir können zum Beispiel eine Funktion schreiben, die beliebige Zahlen multipliziert:"
      ],
      "metadata": {
        "id": "XUt8x-jn4jmz"
      }
    },
    {
      "cell_type": "code",
      "source": [
        "def multiply(number, multiplier):\n",
        "  return number*multiplier\n",
        "\n",
        "multiply(number=2, multiplier=3)"
      ],
      "metadata": {
        "colab": {
          "base_uri": "https://localhost:8080/"
        },
        "id": "aNlo5NcF4vDq",
        "outputId": "af4a18f4-5931-4c62-e01f-59f195ee9015"
      },
      "execution_count": 53,
      "outputs": [
        {
          "output_type": "execute_result",
          "data": {
            "text/plain": [
              "6"
            ]
          },
          "metadata": {},
          "execution_count": 53
        }
      ]
    },
    {
      "cell_type": "markdown",
      "source": [
        "Die Parameter in Funktionen können auch Standardwerte zugewiesen bekommen, so dass wir häufig benutzte Werte nicht immer wieder neu eingeben müssen. \n",
        "\n",
        "Wenn wir der `multiply()`-Funktion den Standardwert 2 für den multiplier geben, dann verdoppelt sie uns die Zahl wenn wir ihr nur ein Argument mitgeben."
      ],
      "metadata": {
        "id": "ICfKwmqX44ek"
      }
    },
    {
      "cell_type": "code",
      "source": [
        "def multiply(number, multiplier=2):\n",
        "  return number*multiplier\n",
        "\n",
        "multiply(number=2)"
      ],
      "metadata": {
        "colab": {
          "base_uri": "https://localhost:8080/"
        },
        "id": "HO_ewADZ5SKl",
        "outputId": "a1a5030e-c544-4e78-dfb2-6aaa811b9293"
      },
      "execution_count": 54,
      "outputs": [
        {
          "output_type": "execute_result",
          "data": {
            "text/plain": [
              "4"
            ]
          },
          "metadata": {},
          "execution_count": 54
        }
      ]
    },
    {
      "cell_type": "markdown",
      "source": [
        "Diesen Standardwert können wir einfach überschreiben, indem wir der Funktion zwei Werte übergeben:"
      ],
      "metadata": {
        "id": "E23gVzMr5XVi"
      }
    },
    {
      "cell_type": "code",
      "source": [
        "multiply(number=2, multiplier=5)"
      ],
      "metadata": {
        "colab": {
          "base_uri": "https://localhost:8080/"
        },
        "id": "IXnZV84l5XLa",
        "outputId": "d0342ac7-e1e6-4fd8-e917-cf855b837606"
      },
      "execution_count": 56,
      "outputs": [
        {
          "output_type": "execute_result",
          "data": {
            "text/plain": [
              "10"
            ]
          },
          "metadata": {},
          "execution_count": 56
        }
      ]
    },
    {
      "cell_type": "markdown",
      "source": [
        "Und es funktioniert auch die Namen der Paramter wegzulassen, auch wenn es dann ein wenig unübersichtlicher werden kann:"
      ],
      "metadata": {
        "id": "ycnJb1fy56Lm"
      }
    },
    {
      "cell_type": "code",
      "source": [
        "multiply(2, 5)"
      ],
      "metadata": {
        "colab": {
          "base_uri": "https://localhost:8080/"
        },
        "id": "ec1P07bl6APS",
        "outputId": "f02f43c4-59e7-4d0d-bfdf-0e66bb675859"
      },
      "execution_count": 57,
      "outputs": [
        {
          "output_type": "execute_result",
          "data": {
            "text/plain": [
              "10"
            ]
          },
          "metadata": {},
          "execution_count": 57
        }
      ]
    },
    {
      "cell_type": "markdown",
      "source": [
        "## Einrückungen und Namespaces\n",
        "\n",
        "Wir haben bei der Funktions-Definition oben gesehen, dass wir einen Teil der Funktion ein wenig eingerückt haben. Wie gesagt, war das dafür dass Python weiß, was zur Funktion gehört und was nicht.\n",
        "\n",
        "Was oft verwirrend ist, ist dass Variablen, die in einer Einrückung definiert werden auch nur dort gelten. In einer Definition kann man aber auf die Variablen von einer Einrückungsstufe höher zugreifen:"
      ],
      "metadata": {
        "id": "liqdW_MJ7Bi8"
      }
    },
    {
      "cell_type": "code",
      "source": [
        "outside_var = 2\n",
        "\n",
        "def example():\n",
        "  return outside_var \n",
        "\n",
        "example()"
      ],
      "metadata": {
        "colab": {
          "base_uri": "https://localhost:8080/"
        },
        "id": "LnP0XfJU7BPR",
        "outputId": "8cab0d85-ffeb-4177-d500-b22a5f4f1aca"
      },
      "execution_count": 59,
      "outputs": [
        {
          "output_type": "execute_result",
          "data": {
            "text/plain": [
              "2"
            ]
          },
          "metadata": {},
          "execution_count": 59
        }
      ]
    },
    {
      "cell_type": "markdown",
      "source": [
        "Andersherum funktioniert das aber nicht:"
      ],
      "metadata": {
        "id": "XK7I09vX9Ms7"
      }
    },
    {
      "cell_type": "code",
      "source": [
        "def example():\n",
        "  inside_var = 2\n",
        "  return None\n",
        "\n",
        "inside_var"
      ],
      "metadata": {
        "colab": {
          "base_uri": "https://localhost:8080/",
          "height": 206
        },
        "id": "z2jT4Fj49Okt",
        "outputId": "a9639b21-eecf-467f-9f48-de6014adb83f"
      },
      "execution_count": 60,
      "outputs": [
        {
          "output_type": "error",
          "ename": "NameError",
          "evalue": "ignored",
          "traceback": [
            "\u001b[0;31m---------------------------------------------------------------------------\u001b[0m",
            "\u001b[0;31mNameError\u001b[0m                                 Traceback (most recent call last)",
            "\u001b[0;32m<ipython-input-60-7ffda4f0a10a>\u001b[0m in \u001b[0;36m<module>\u001b[0;34m\u001b[0m\n\u001b[1;32m      3\u001b[0m   \u001b[0;32mreturn\u001b[0m \u001b[0;32mNone\u001b[0m\u001b[0;34m\u001b[0m\u001b[0;34m\u001b[0m\u001b[0m\n\u001b[1;32m      4\u001b[0m \u001b[0;34m\u001b[0m\u001b[0m\n\u001b[0;32m----> 5\u001b[0;31m \u001b[0minside_var\u001b[0m\u001b[0;34m\u001b[0m\u001b[0;34m\u001b[0m\u001b[0m\n\u001b[0m",
            "\u001b[0;31mNameError\u001b[0m: name 'inside_var' is not defined"
          ]
        }
      ]
    },
    {
      "cell_type": "markdown",
      "source": [
        "Das heißt auch, dass Variablennamen je nach Einrückung doppelt belegt sein können:"
      ],
      "metadata": {
        "id": "T1wxzM-k9cIl"
      }
    },
    {
      "cell_type": "code",
      "source": [
        "outside_var = 2\n",
        "\n",
        "def example():\n",
        "  outside_var = 10\n",
        "  return outside_var \n",
        "\n",
        "print(example(), outside_var)"
      ],
      "metadata": {
        "colab": {
          "base_uri": "https://localhost:8080/"
        },
        "id": "b6ZYkaOa9iEm",
        "outputId": "84a8c37f-5294-49b9-c887-0fe2b5b1b948"
      },
      "execution_count": 61,
      "outputs": [
        {
          "output_type": "stream",
          "name": "stdout",
          "text": [
            "10 2\n"
          ]
        }
      ]
    },
    {
      "cell_type": "markdown",
      "source": [
        "Man spricht hier von verschiedenen \"Namespaces\", also Räume in denen Namen gelten. Jede Stufe der Einrückung macht einen neuen Namespace auf, so dass Namen die dort definiert werden nur hier und in niedrigeren Einrückungen gelten.\n",
        "\n",
        "Sowas macht den Code aber schwerer zu verstehen. Deshalb sollte man immer versuchen, Variablennamen nur einfach zu belegen."
      ],
      "metadata": {
        "id": "xb85Y-Ah9v9A"
      }
    },
    {
      "cell_type": "markdown",
      "source": [
        "## If/Else\n",
        "\n",
        "Sehr häufig müssen wir anhand eines Werts entscheiden, wie wir in unserem Programm weitermachen. Dafür haben wir `if`/`else`-Conditions. \n",
        "\n",
        "Sie funktionieren prinzipiell nach dem Prinzip: Wenn etwas erfüllt ist, dann mach das eine und wenn nicht, mach das andere. \n",
        "\n",
        "Zum Beispiel wollen wir wissen, ob eine Zahl größer oder kleiner ist als eine andere. Dann schreiben wir:"
      ],
      "metadata": {
        "id": "TLJzk1yDF08R"
      }
    },
    {
      "cell_type": "code",
      "source": [
        "number = 2\n",
        "\n",
        "if number > 10:\n",
        "  print(\"Number is larger than 10.\")\n",
        "else:\n",
        "  print(\"Number is smaller than 10.\")"
      ],
      "metadata": {
        "colab": {
          "base_uri": "https://localhost:8080/"
        },
        "id": "U7P9IQhhGUpv",
        "outputId": "ab72946c-81db-49bf-99b7-b8f014490221"
      },
      "execution_count": 70,
      "outputs": [
        {
          "output_type": "stream",
          "name": "stdout",
          "text": [
            "Number is smaller than 10.\n"
          ]
        }
      ]
    },
    {
      "cell_type": "code",
      "source": [
        "number = 12\n",
        "\n",
        "if number > 10:\n",
        "  print(\"Number is larger than 10.\")\n",
        "else:\n",
        "  print(\"Number is smaller than 10.\")"
      ],
      "metadata": {
        "colab": {
          "base_uri": "https://localhost:8080/"
        },
        "id": "JfD0ABa1Gw7k",
        "outputId": "7ed5d892-ad1b-4c09-ccfc-ddf661c0720a"
      },
      "execution_count": 71,
      "outputs": [
        {
          "output_type": "stream",
          "name": "stdout",
          "text": [
            "Number is larger than 10.\n"
          ]
        }
      ]
    },
    {
      "cell_type": "markdown",
      "source": [
        "Wenn wir mehrere Conditions haben, dann können wir noch `elif`-Conditions auf der Hälfte einführen:\n"
      ],
      "metadata": {
        "id": "te1McztiG1I2"
      }
    },
    {
      "cell_type": "code",
      "source": [
        "number = 7\n",
        "\n",
        "if number > 10:\n",
        "  print(\"Number is larger than 10.\")\n",
        "elif number > 5 and number <= 10:\n",
        "  print(\"Number is between 5 and 10\")\n",
        "else:\n",
        "  print(\"Number is smaller than 10.\")"
      ],
      "metadata": {
        "colab": {
          "base_uri": "https://localhost:8080/"
        },
        "id": "jpM-wk3VG_R5",
        "outputId": "773356ef-e908-4b93-b5a4-a6262586a8dc"
      },
      "execution_count": 72,
      "outputs": [
        {
          "output_type": "stream",
          "name": "stdout",
          "text": [
            "Number is between 5 and 10\n"
          ]
        }
      ]
    },
    {
      "cell_type": "markdown",
      "source": [
        "Bei der `elif`-Condition sehen wir ein neues Konzept: Wir können Conditions mit `and` oder `or` verknüpfen. \n",
        "\n",
        "Bei einer Verknüpfung mit `and` müssen beide Seiten `True` sein, damit sie `True` zurückgibt:"
      ],
      "metadata": {
        "id": "igY9dK6JHUJG"
      }
    },
    {
      "cell_type": "code",
      "source": [
        "True and True"
      ],
      "metadata": {
        "colab": {
          "base_uri": "https://localhost:8080/"
        },
        "id": "ZzFbhjjeKSdY",
        "outputId": "08960009-8b8a-4aa4-d683-6351b0d42dfa"
      },
      "execution_count": 81,
      "outputs": [
        {
          "output_type": "execute_result",
          "data": {
            "text/plain": [
              "True"
            ]
          },
          "metadata": {},
          "execution_count": 81
        }
      ]
    },
    {
      "cell_type": "code",
      "source": [
        "True and False"
      ],
      "metadata": {
        "colab": {
          "base_uri": "https://localhost:8080/"
        },
        "id": "aY2Ro3_AKURL",
        "outputId": "0e410159-511e-4f05-8640-18c9e3d801dc"
      },
      "execution_count": 82,
      "outputs": [
        {
          "output_type": "execute_result",
          "data": {
            "text/plain": [
              "False"
            ]
          },
          "metadata": {},
          "execution_count": 82
        }
      ]
    },
    {
      "cell_type": "markdown",
      "source": [
        "Bei `or` muss nur eine Seite `True` sein, damit sie `True` zurückgibt."
      ],
      "metadata": {
        "id": "wSAIBZ10KXAN"
      }
    },
    {
      "cell_type": "code",
      "source": [
        "True or False"
      ],
      "metadata": {
        "colab": {
          "base_uri": "https://localhost:8080/"
        },
        "id": "td6hYvGaKkDg",
        "outputId": "bd70ab80-1b29-4622-d184-b51af7c9f99b"
      },
      "execution_count": 83,
      "outputs": [
        {
          "output_type": "execute_result",
          "data": {
            "text/plain": [
              "True"
            ]
          },
          "metadata": {},
          "execution_count": 83
        }
      ]
    },
    {
      "cell_type": "code",
      "source": [
        "False or False"
      ],
      "metadata": {
        "colab": {
          "base_uri": "https://localhost:8080/"
        },
        "id": "q1YnwypEKmV6",
        "outputId": "0db07d33-a34a-4c2c-f890-367b655c47cf"
      },
      "execution_count": 84,
      "outputs": [
        {
          "output_type": "execute_result",
          "data": {
            "text/plain": [
              "False"
            ]
          },
          "metadata": {},
          "execution_count": 84
        }
      ]
    },
    {
      "cell_type": "code",
      "source": [
        "True or True"
      ],
      "metadata": {
        "colab": {
          "base_uri": "https://localhost:8080/"
        },
        "id": "IahPmDaSKn8m",
        "outputId": "46cddc16-8d09-4fd8-d0d0-70de2ac6fcae"
      },
      "execution_count": 85,
      "outputs": [
        {
          "output_type": "execute_result",
          "data": {
            "text/plain": [
              "True"
            ]
          },
          "metadata": {},
          "execution_count": 85
        }
      ]
    },
    {
      "cell_type": "markdown",
      "source": [
        "Natürlich schreibt man das nicht explizit mit `True` und `False`-Werten, sondern nutzt dafür die Conditions, wie oben im `elif`-Statement."
      ],
      "metadata": {
        "id": "t9iQiiLKKqlr"
      }
    },
    {
      "cell_type": "code",
      "source": [
        "2 < 3 and 4 == 4"
      ],
      "metadata": {
        "colab": {
          "base_uri": "https://localhost:8080/"
        },
        "id": "gmJvl2RzK5Hr",
        "outputId": "eb9e9ad3-ee47-4756-ed2b-a8b745e0f4da"
      },
      "execution_count": 86,
      "outputs": [
        {
          "output_type": "execute_result",
          "data": {
            "text/plain": [
              "True"
            ]
          },
          "metadata": {},
          "execution_count": 86
        }
      ]
    },
    {
      "cell_type": "markdown",
      "source": [
        "## Schleifen\n",
        "\n",
        "Wir haben oben bereits Listen, Sets und Dictionaries kennengelernt, die alle aus einer Ansammmlung einzelner Elemente bestehen.\n",
        "\n",
        "Wenn wir jedes der Elemente in diesen Datentypen anschauen und eventuell verändern möchten, dann brauchen wir dafür eine Schleife. Die gängigste Schleife ist die `for`-Schleife.\n",
        "\n",
        "Wenn wir über unsere Liste `cats` iterieren wollen (so nennt man das, wenn man sich mit einer Schleife jedes Element in einer Liste anschaut) schreiben wir die for-Schleife wie folgt:"
      ],
      "metadata": {
        "id": "OWPQNJ15-cu1"
      }
    },
    {
      "cell_type": "code",
      "source": [
        "for cat in cats:\n",
        "  print(cat)"
      ],
      "metadata": {
        "colab": {
          "base_uri": "https://localhost:8080/"
        },
        "id": "9A7GZtD_ATwq",
        "outputId": "5625879a-9750-4e3b-87b8-e23193ba5131"
      },
      "execution_count": 62,
      "outputs": [
        {
          "output_type": "stream",
          "name": "stdout",
          "text": [
            "Bengal\n",
            "German Rex\n",
            "Highlander\n",
            "European Shorthair\n"
          ]
        }
      ]
    },
    {
      "cell_type": "markdown",
      "source": [
        "Das ging jetzt ziemlich schnell. Um das ein bisschen langsamer zu machen, pausieren wir die Schleife bei jeder Runde für eine Sekunde. Was hier genau passiert, ist noch nicht so wichtig. Ich will nur die Schleife besser veranschaulichen."
      ],
      "metadata": {
        "id": "kQkumYCMAgfb"
      }
    },
    {
      "cell_type": "code",
      "source": [
        "from time import sleep\n",
        "\n",
        "for cat in cats:\n",
        "  print(cat)\n",
        "  sleep(1)"
      ],
      "metadata": {
        "colab": {
          "base_uri": "https://localhost:8080/"
        },
        "id": "trhIaE6zAYjy",
        "outputId": "3f3ce1dc-a771-4ed4-951b-1ba81f86e729"
      },
      "execution_count": 63,
      "outputs": [
        {
          "output_type": "stream",
          "name": "stdout",
          "text": [
            "Bengal\n",
            "German Rex\n",
            "Highlander\n",
            "European Shorthair\n"
          ]
        }
      ]
    },
    {
      "cell_type": "markdown",
      "source": [
        "Das heißt, dass Python für jedes Element (`cat`) aus der Liste `cats` einmal die `print()`-Funktion aufrufen.\n",
        "\n",
        "Wir können die Liste so aber nicht verändern, weil wir nur die Variable `cat` verändern würden, ohne sie zurück in die Liste zu schreiben:"
      ],
      "metadata": {
        "id": "WZa2dMZJBi5j"
      }
    },
    {
      "cell_type": "code",
      "source": [
        "for cat in cats:\n",
        "  cat = \"dog\"\n",
        "\n",
        "cats"
      ],
      "metadata": {
        "colab": {
          "base_uri": "https://localhost:8080/"
        },
        "id": "tT8XzD5YCgwc",
        "outputId": "20567886-f4bf-4f7e-bc51-ef6179845037"
      },
      "execution_count": 64,
      "outputs": [
        {
          "output_type": "execute_result",
          "data": {
            "text/plain": [
              "['Bengal', 'German Rex', 'Highlander', 'European Shorthair']"
            ]
          },
          "metadata": {},
          "execution_count": 64
        }
      ]
    },
    {
      "cell_type": "markdown",
      "source": [
        "Um die Liste verändern zu können, müssen wir direkt, also mit den eckigen Klammern auf die Liste zugreifen. Dafür können wir die `enumerate()`-Funktion verwenden. Mit ihr bekommen wir zwei Werte zurück: Den Index den wir in die eckigen Klammern schreiben können und den Wert:"
      ],
      "metadata": {
        "id": "xgcKDlbeCyv6"
      }
    },
    {
      "cell_type": "code",
      "source": [
        "for i, cat in enumerate(cats):\n",
        "  print(i)\n",
        "  print(cat)"
      ],
      "metadata": {
        "colab": {
          "base_uri": "https://localhost:8080/"
        },
        "id": "6lWatf2cE3QS",
        "outputId": "12818872-4e1f-4a9b-9ac0-cec88c0ae555"
      },
      "execution_count": 68,
      "outputs": [
        {
          "output_type": "stream",
          "name": "stdout",
          "text": [
            "0\n",
            "Bengal\n",
            "1\n",
            "German Rex\n",
            "2\n",
            "Highlander\n",
            "3\n",
            "European Shorthair\n"
          ]
        }
      ]
    },
    {
      "cell_type": "markdown",
      "source": [
        "Und wenn wir die Liste verändern wollen, schreiben wir das so:"
      ],
      "metadata": {
        "id": "h19viNS-FQts"
      }
    },
    {
      "cell_type": "code",
      "source": [
        "for i, cat in enumerate(cats):\n",
        "  cats[i] = \"dog\"\n",
        "\n",
        "cats"
      ],
      "metadata": {
        "colab": {
          "base_uri": "https://localhost:8080/"
        },
        "id": "eyL2jeabFUCG",
        "outputId": "93c97798-0bd2-44fb-b9a8-e86764245dc1"
      },
      "execution_count": 69,
      "outputs": [
        {
          "output_type": "execute_result",
          "data": {
            "text/plain": [
              "['dog', 'dog', 'dog', 'dog']"
            ]
          },
          "metadata": {},
          "execution_count": 69
        }
      ]
    },
    {
      "cell_type": "markdown",
      "source": [
        "Ein seltener verwendeter Schleifentyp ist die `while`-Schleife. Diese wird so lange ausgeführt, bis eine gewisse Condition erfüllt ist:"
      ],
      "metadata": {
        "id": "fsRLsMvCFpCM"
      }
    },
    {
      "cell_type": "code",
      "source": [
        "i = 0\n",
        "\n",
        "while(i < 10):\n",
        "  print(i)\n",
        "  i = i + 1"
      ],
      "metadata": {
        "colab": {
          "base_uri": "https://localhost:8080/"
        },
        "id": "X9K0NsMALHKW",
        "outputId": "d1332a64-f61c-4caa-863f-6c15cad2fd75"
      },
      "execution_count": 87,
      "outputs": [
        {
          "output_type": "stream",
          "name": "stdout",
          "text": [
            "0\n",
            "1\n",
            "2\n",
            "3\n",
            "4\n",
            "5\n",
            "6\n",
            "7\n",
            "8\n",
            "9\n"
          ]
        }
      ]
    }
  ]
}