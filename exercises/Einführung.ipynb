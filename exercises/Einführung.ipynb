{
  "nbformat": 4,
  "nbformat_minor": 0,
  "metadata": {
    "colab": {
      "provenance": [],
      "authorship_tag": "ABX9TyPBfz7g5tr14IXGXoW6Y+gl",
      "include_colab_link": true
    },
    "kernelspec": {
      "name": "python3",
      "display_name": "Python 3"
    },
    "language_info": {
      "name": "python"
    }
  },
  "cells": [
    {
      "cell_type": "markdown",
      "metadata": {
        "id": "view-in-github",
        "colab_type": "text"
      },
      "source": [
        "<a href=\"https://colab.research.google.com/github/redadmiral/python-for-journalists/blob/main/exercises/Einf%C3%BChrung.ipynb\" target=\"_parent\"><img src=\"https://colab.research.google.com/assets/colab-badge.svg\" alt=\"Open In Colab\"/></a>"
      ]
    },
    {
      "cell_type": "markdown",
      "source": [
        "# Übung Kurseinführung\n",
        "\n",
        "Den ersten Schritt hast du bereits erledigt – herzlichen Glückwunsch. Du hast es geschafft die Übung zu öffnen!\n",
        "\n",
        "## 1. Textfelder\n",
        "\n",
        "1. Erstelle unter diesem Feld ein Textfeld und erstelle dort eine Überschrift und ein bisschen Fließtext. Kopier gerne einfach ein bisschen Text von einer anderen Homepage oder aus der Angabe.\n",
        "2. Formatiere den Fließtext in **fett** und *kursiv*. \n",
        "3. Erstelle einen [Link](https://example.com) im Fließtext.\n",
        "4. Füge ein Bild hinzu.\n",
        "\n",
        "![cutecat.jpeg](data:image/jpeg;base64,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)"
      ],
      "metadata": {
        "id": "rde-CiMX_luM"
      }
    },
    {
      "cell_type": "markdown",
      "source": [
        "## 2. Codefelder\n",
        "\n",
        "1. Führe die Zeile Code unten mit einem Klick auf den Play-Button aus.\n",
        "2. Führe die Zeile Code unten mit Strg+Enter aus."
      ],
      "metadata": {
        "id": "z1sa9OatBARO"
      }
    },
    {
      "cell_type": "code",
      "source": [
        "print(\"Hello World\")"
      ],
      "metadata": {
        "id": "deexHAH-BM8A"
      },
      "execution_count": null,
      "outputs": []
    },
    {
      "cell_type": "markdown",
      "source": [
        "3. Sieh im Variablen-Inspektor nach, welchen Wert die Variable `text_plus_zwei` hat."
      ],
      "metadata": {
        "id": "UsQtQHGw_x0j"
      }
    },
    {
      "cell_type": "code",
      "execution_count": null,
      "metadata": {
        "id": "EBQ1QApR_lHJ"
      },
      "outputs": [],
      "source": [
        "text_plus_zwei = \"text\" + str(2)"
      ]
    },
    {
      "cell_type": "markdown",
      "source": [
        "4. Starte die Runtime neu und lass sie alle Zellen ausführen.\n"
      ],
      "metadata": {
        "id": "kdH92YExBcqu"
      }
    }
  ]
}