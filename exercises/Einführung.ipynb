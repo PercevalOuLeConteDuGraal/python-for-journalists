{
  "nbformat": 4,
  "nbformat_minor": 0,
  "metadata": {
    "colab": {
      "provenance": [],
      "authorship_tag": "ABX9TyOGc5O9pcIalvQq3366NA56",
      "include_colab_link": true
    },
    "kernelspec": {
      "name": "python3",
      "display_name": "Python 3"
    },
    "language_info": {
      "name": "python"
    }
  },
  "cells": [
    {
      "cell_type": "markdown",
      "metadata": {
        "id": "view-in-github",
        "colab_type": "text"
      },
      "source": [
        "<a href=\"https://colab.research.google.com/github/redadmiral/python-for-journalists/blob/main/exercises/Einf%C3%BChrung.ipynb\" target=\"_parent\"><img src=\"https://colab.research.google.com/assets/colab-badge.svg\" alt=\"Open In Colab\"/></a>"
      ]
    },
    {
      "cell_type": "markdown",
      "source": [
        "# Übung Kurseinführung\n",
        "\n",
        "Den ersten Schritt hast du bereits erledigt – herzlichen Glückwunsch. Du hast es geschafft die Übung zu öffnen!\n",
        "\n",
        "## 1. Textfelder\n",
        "\n",
        "1. Erstelle unter diesem Feld ein Textfeld und erstelle dort eine Überschrift und ein bisschen Fließtext. Kopier gerne einfach ein bisschen Text von einer anderen Homepage oder aus der Angabe.\n",
        "2. Formatiere den Fließtext in **fett** und *kursiv*. \n",
        "3. Erstelle einen Link im Fließtext.\n",
        "4. Füge ein Bild hinzu."
      ],
      "metadata": {
        "id": "rde-CiMX_luM"
      }
    },
    {
      "cell_type": "markdown",
      "source": [
        "## 2. Variablen\n",
        "\n",
        "1. Führe die Zeile Code unten mit einem Klick auf den Play-Button aus.\n",
        "2. Führe die Zeile Code unten mit Strg+Enter aus."
      ],
      "metadata": {
        "id": "z1sa9OatBARO"
      }
    },
    {
      "cell_type": "code",
      "source": [
        "print(\"Hello World\")"
      ],
      "metadata": {
        "colab": {
          "base_uri": "https://localhost:8080/"
        },
        "id": "deexHAH-BM8A",
        "outputId": "dd805fdb-51a6-44bf-d898-66fd64fd3022"
      },
      "execution_count": 1,
      "outputs": [
        {
          "output_type": "stream",
          "name": "stdout",
          "text": [
            "Hello World\n"
          ]
        }
      ]
    },
    {
      "cell_type": "markdown",
      "source": [
        "3. Sieh im Variablen-Inspektor nach, welchen Wert die Variable `text_plus_zwei` hat."
      ],
      "metadata": {
        "id": "UsQtQHGw_x0j"
      }
    },
    {
      "cell_type": "code",
      "execution_count": null,
      "metadata": {
        "id": "EBQ1QApR_lHJ"
      },
      "outputs": [],
      "source": [
        "text_plus_zwei = \"text\" + str(2)"
      ]
    },
    {
      "cell_type": "markdown",
      "source": [
        "4. Starte die Runtime neu und lass sie alle Zellen ausführen."
      ],
      "metadata": {
        "id": "kdH92YExBcqu"
      }
    }
  ]
}