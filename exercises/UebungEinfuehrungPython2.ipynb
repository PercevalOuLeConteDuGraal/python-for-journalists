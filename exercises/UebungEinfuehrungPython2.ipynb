{
  "nbformat": 4,
  "nbformat_minor": 0,
  "metadata": {
    "colab": {
      "provenance": [],
      "authorship_tag": "ABX9TyPu9k33JR2BJo39V5UorFPJ",
      "include_colab_link": true
    },
    "kernelspec": {
      "name": "python3",
      "display_name": "Python 3"
    },
    "language_info": {
      "name": "python"
    }
  },
  "cells": [
    {
      "cell_type": "markdown",
      "metadata": {
        "id": "view-in-github",
        "colab_type": "text"
      },
      "source": [
        "<a href=\"https://colab.research.google.com/github/redadmiral/python-for-journalists/blob/main/exercises/UebungEinfuehrungPython2.ipynb\" target=\"_parent\"><img src=\"https://colab.research.google.com/assets/colab-badge.svg\" alt=\"Open In Colab\"/></a>"
      ]
    },
    {
      "cell_type": "markdown",
      "source": [
        "# Übung Einführung in Python Teil 2\n",
        "\n",
        "## Funktionen\n",
        "\n",
        "1. Schreibe eine Funktion `square`, die das Quadrat einer Zahl zurückgibt."
      ],
      "metadata": {
        "id": "6c3sT4ZB_f1V"
      }
    },
    {
      "cell_type": "code",
      "source": [],
      "metadata": {
        "id": "Hdqqs_TeAH0h"
      },
      "execution_count": 1,
      "outputs": []
    },
    {
      "cell_type": "markdown",
      "source": [
        "Wenn du alles richtig gemacht hast, dann sollte die folgende Zelle keinen Fehler werfen."
      ],
      "metadata": {
        "id": "0ARxugrZAIGf"
      }
    },
    {
      "cell_type": "code",
      "execution_count": 5,
      "metadata": {
        "id": "CtL98lxm_fN_"
      },
      "outputs": [],
      "source": [
        "assert square(2) == 4\n",
        "assert square(-1) == 1\n",
        "assert square(0) == 0\n",
        "assert square(1.5) == 2.25"
      ]
    },
    {
      "cell_type": "markdown",
      "source": [
        "2. Schreibe die Funktion `square` so um, dass wenn sie ohne Argumente aufgerufen wird, das Quadrat von 2 zurückgibt."
      ],
      "metadata": {
        "id": "TESOCo33A0Mg"
      }
    },
    {
      "cell_type": "code",
      "source": [],
      "metadata": {
        "id": "jOLT6YWvNKi7"
      },
      "execution_count": null,
      "outputs": []
    },
    {
      "cell_type": "code",
      "source": [
        "assert square() == 4"
      ],
      "metadata": {
        "id": "8gOWnOJ0Newp"
      },
      "execution_count": null,
      "outputs": []
    },
    {
      "cell_type": "markdown",
      "source": [
        "## Namespaces\n",
        "\n",
        "1. Welche Funktion haben Einrückungen in Python?"
      ],
      "metadata": {
        "id": "ZBfLkgUONoqq"
      }
    },
    {
      "cell_type": "markdown",
      "source": [],
      "metadata": {
        "id": "3MOBCJWnN31W"
      }
    },
    {
      "cell_type": "markdown",
      "source": [
        "2. Welchen Wert gibt die folgende Zelle zurück? Denke zuerst nach und führe dann die Zelle aus."
      ],
      "metadata": {
        "id": "kkp0yk7xN332"
      }
    },
    {
      "cell_type": "code",
      "source": [
        "var = 2\n",
        "\n",
        "def example():\n",
        "  return var \n",
        "\n",
        "example()"
      ],
      "metadata": {
        "id": "_E9bz3hCN64h"
      },
      "execution_count": null,
      "outputs": []
    },
    {
      "cell_type": "markdown",
      "source": [
        "3. Schreibe jetzt `example()` so um, dass sie den Wert 1.5 zurückgibt, aber ohne den Code zu verändern, der bereits unten in der Zelle steht."
      ],
      "metadata": {
        "id": "sPi9QdRWOK8o"
      }
    },
    {
      "cell_type": "code",
      "source": [
        "var = 2\n",
        "\n",
        "def example():\n",
        "  # Hier dein Code:\n",
        "\n",
        "  \n",
        "\n",
        "  return var \n",
        "\n",
        "example()"
      ],
      "metadata": {
        "id": "1XKZAlR4Oajh"
      },
      "execution_count": null,
      "outputs": []
    },
    {
      "cell_type": "markdown",
      "source": [
        "## If/Else Conditions\n",
        "\n",
        "1. Schreibe eine Funktion `stringlength()`, die mittels der Funktion `len()` die länge eines Strings misst. Je nach Länge des Strings soll eine der folgenden Strings zurückgegeben werden:\n",
        "  1. String kürzer als 3 Zeichen: `\"Die Eingabe ist zu kurz\"`\n",
        "  2. String zwischen 3 und 10 Zeichen: `\"Vielen Dank für Ihre Eingabe\"`\n",
        "  3. String länger als 10 Zeichen: `\"Die Eingabe ist zu lang\"`"
      ],
      "metadata": {
        "id": "RfbW1IlQOu8d"
      }
    },
    {
      "cell_type": "code",
      "source": [
        "len(\"test\")"
      ],
      "metadata": {
        "colab": {
          "base_uri": "https://localhost:8080/"
        },
        "id": "YAv8Gcv9SB-k",
        "outputId": "5c015a61-a7bf-447f-8f7b-b034d93e2786"
      },
      "execution_count": 6,
      "outputs": [
        {
          "output_type": "execute_result",
          "data": {
            "text/plain": [
              "4"
            ]
          },
          "metadata": {},
          "execution_count": 6
        }
      ]
    },
    {
      "cell_type": "code",
      "source": [],
      "metadata": {
        "id": "-r9hka0fSHAX"
      },
      "execution_count": null,
      "outputs": []
    },
    {
      "cell_type": "code",
      "source": [
        "assert stringlength(\"a\") == \"Die Eingabe ist zu kurz\"\n",
        "assert stringlength(\"test\") == \"Vielen Dank für Ihre Eingabe\"\n",
        "assert stringlength(\"Dieser string ist zu lang.\") == \"Die Eingabe ist zu lang\""
      ],
      "metadata": {
        "id": "uGtxZd-UPVYU"
      },
      "execution_count": null,
      "outputs": []
    },
    {
      "cell_type": "markdown",
      "source": [
        "2. Schreibe eine Funktion `as_string()`, die zwei beliebige Werte nimmt und sie als String zurückgibt. Nutze dafür den Code in der Zelle unten:"
      ],
      "metadata": {
        "id": "Mu7MwpyEPVi_"
      }
    },
    {
      "cell_type": "code",
      "source": [
        "def as_string(val1, val2):\n",
        "  # Dein Code hier:\n",
        "\n",
        "  return val1 + \" und \" + val2"
      ],
      "metadata": {
        "id": "mzZkDTdHPWKn"
      },
      "execution_count": null,
      "outputs": []
    },
    {
      "cell_type": "code",
      "source": [
        "assert as_string(\"hallo\", \"test\") == \"hallo und test\"\n",
        "assert as_string(1, \"test\") == \"1 und test\"\n",
        "assert as_string(1, 2) == \"1 und 2\""
      ],
      "metadata": {
        "id": "8LzZ3CL4Piiw"
      },
      "execution_count": null,
      "outputs": []
    },
    {
      "cell_type": "markdown",
      "source": [
        "## Schleifen\n",
        "\n",
        "1. Schreibe eine Schleife, die jedes Element in der Liste `numbers` mit `print()` ausgibt."
      ],
      "metadata": {
        "id": "7D-kwjgXTeuz"
      }
    },
    {
      "cell_type": "code",
      "source": [
        "numbers = [2, 4, 5, 7, 5, 2, 6, 0, 5, 3, 3, 7, 8]"
      ],
      "metadata": {
        "id": "_mCYmbtZTzHw"
      },
      "execution_count": null,
      "outputs": []
    },
    {
      "cell_type": "code",
      "source": [],
      "metadata": {
        "id": "AIrNAC1LTzJq"
      },
      "execution_count": null,
      "outputs": []
    },
    {
      "cell_type": "markdown",
      "source": [
        "2. Ersetze jeden Wert in `numbers`, der größer ist als 5 mit dem Wert 10. Nutze dafür eine `for`-Schleife."
      ],
      "metadata": {
        "id": "qhytDwZCT4bF"
      }
    },
    {
      "cell_type": "code",
      "source": [],
      "metadata": {
        "id": "AVeAG4VUUELN"
      },
      "execution_count": null,
      "outputs": []
    },
    {
      "cell_type": "code",
      "source": [
        "assert numbers == [2, 4, 5, 10, 5, 2, 10, 0, 5, 3, 3, 10, 10]"
      ],
      "metadata": {
        "id": "xdmbZpcXUEOd"
      },
      "execution_count": null,
      "outputs": []
    }
  ]
}