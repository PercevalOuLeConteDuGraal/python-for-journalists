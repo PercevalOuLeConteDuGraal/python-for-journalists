{
  "nbformat": 4,
  "nbformat_minor": 0,
  "metadata": {
    "colab": {
      "provenance": [],
      "include_colab_link": true
    },
    "kernelspec": {
      "name": "python3",
      "display_name": "Python 3"
    },
    "language_info": {
      "name": "python"
    }
  },
  "cells": [
    {
      "cell_type": "markdown",
      "metadata": {
        "id": "view-in-github",
        "colab_type": "text"
      },
      "source": [
        "<a href=\"https://colab.research.google.com/github/PercevalOuLeConteDuGraal/python-for-journalists/blob/main/exercises/UebungExplorativeAnalyse.ipynb\" target=\"_parent\"><img src=\"https://colab.research.google.com/assets/colab-badge.svg\" alt=\"Open In Colab\"/></a>"
      ]
    },
    {
      "cell_type": "markdown",
      "source": [
        "# Übung Einführung Pandas\n",
        "\n",
        "1. Lade den Datensatz der Stadt Zürich mit Hundenamen, indem du der read_csv() Funktion die URL `https://data.stadt-zuerich.ch/dataset/sid_stapo_hundenamen_od1002/download/KUL100OD1002.csv`übergibst. Speichere sie in der Variable `dognames`."
      ],
      "metadata": {
        "id": "SUGUJZsoOoex"
      }
    },
    {
      "cell_type": "code",
      "execution_count": 46,
      "metadata": {
        "id": "YcxLOQVqqWts"
      },
      "outputs": [],
      "source": [
        "import pandas as pd \n",
        "dognames = pd.read_csv(\"https://data.stadt-zuerich.ch/dataset/sid_stapo_hundenamen_od1002/download/KUL100OD1002.csv\")"
      ]
    },
    {
      "cell_type": "code",
      "source": [
        "assert dognames.size == 445739"
      ],
      "metadata": {
        "id": "n1gJFGFYPKoH"
      },
      "execution_count": 47,
      "outputs": []
    },
    {
      "cell_type": "markdown",
      "source": [
        "2. Welche Namen haben die Spalten in Dognames? Nutze um nachzusehen das `.columns` Property und speichere das Ergebnis in einer Variable `cols`."
      ],
      "metadata": {
        "id": "DQGcZF8KPUQY"
      }
    },
    {
      "cell_type": "code",
      "source": [
        "cols = dognames.columns\n",
        "cols"
      ],
      "metadata": {
        "id": "H5klPY7DsqIu",
        "colab": {
          "base_uri": "https://localhost:8080/"
        },
        "outputId": "fcf74b2b-8cd4-4f16-d44c-69e6e4cb29c2"
      },
      "execution_count": 6,
      "outputs": [
        {
          "output_type": "execute_result",
          "data": {
            "text/plain": [
              "Index(['StichtagDatJahr', 'HundenameText', 'GebDatHundJahr', 'SexHundCd',\n",
              "       'SexHundLang', 'SexHundSort', 'AnzHunde'],\n",
              "      dtype='object')"
            ]
          },
          "metadata": {},
          "execution_count": 6
        }
      ]
    },
    {
      "cell_type": "code",
      "source": [
        "assert len(cols) == 7\n",
        "assert cols[-1] == \"AnzHunde\""
      ],
      "metadata": {
        "id": "RlyzVsAYRp-I"
      },
      "execution_count": 7,
      "outputs": []
    },
    {
      "cell_type": "markdown",
      "source": [
        "3. Welche Columns erscheinen dir relevant?"
      ],
      "metadata": {
        "id": "1gEzj63xR5Mq"
      }
    },
    {
      "cell_type": "markdown",
      "source": [
        "GebDatHundJahr, SexHundCd, AnzHunde "
      ],
      "metadata": {
        "id": "3eduvphmSMuz"
      }
    },
    {
      "cell_type": "markdown",
      "source": [
        "4. Filtere alle Columns aus dem DataFrame dognames, die dir als irrelevant erscheinen.\n",
        "\n",
        "Mein Vorschlag wäre, sich auf die folgenden Columns zu beschränken: `'StichtagDatJahr', 'HundenameText', 'GebDatHundJahr', 'SexHundCd',\n",
        " 'SexHundLang', 'AnzHunde'`.\n"
      ],
      "metadata": {
        "id": "vWe-6Fg6SM5h"
      }
    },
    {
      "cell_type": "code",
      "source": [
        "dognames = dognames[['StichtagDatJahr', 'HundenameText', 'GebDatHundJahr', 'SexHundCd', 'SexHundLang', 'AnzHunde']]"
      ],
      "metadata": {
        "id": "IgxAvasDtGga"
      },
      "execution_count": 9,
      "outputs": []
    },
    {
      "cell_type": "code",
      "source": [
        "# Nur wenn du dich an meinen Vorschlag orientierst.\n",
        "assert dognames.size == 382062"
      ],
      "metadata": {
        "id": "D30vPE0xSvCP"
      },
      "execution_count": 10,
      "outputs": []
    },
    {
      "cell_type": "markdown",
      "source": [
        "5. In welchen Spalten sind NA-Werte?\n",
        "\n",
        "  5.1 Was ist ein NA-Wert? Ein leeres Feld in einer Tabelle"
      ],
      "metadata": {
        "id": "VBNKPMcgS-QG"
      }
    },
    {
      "cell_type": "code",
      "source": [
        "dognames.isna().sum()"
      ],
      "metadata": {
        "id": "qgti1RViuCQI",
        "colab": {
          "base_uri": "https://localhost:8080/"
        },
        "outputId": "2ef502d4-3aa9-4a37-b782-7153ab6b061a"
      },
      "execution_count": 11,
      "outputs": [
        {
          "output_type": "execute_result",
          "data": {
            "text/plain": [
              "StichtagDatJahr    0\n",
              "HundenameText      0\n",
              "GebDatHundJahr     0\n",
              "SexHundCd          0\n",
              "SexHundLang        0\n",
              "AnzHunde           0\n",
              "dtype: int64"
            ]
          },
          "metadata": {},
          "execution_count": 11
        }
      ]
    },
    {
      "cell_type": "markdown",
      "source": [
        "6. Wie viele Hunde sind männlich, wie viele weiblich? Speichere das Ergebnis in der Variable dogs_sex ab."
      ],
      "metadata": {
        "id": "ldrWTTIcTMB_"
      }
    },
    {
      "cell_type": "code",
      "source": [
        "dogs_sex = dognames[\"SexHundLang\"].value_counts()\n",
        "dogs_sex"
      ],
      "metadata": {
        "id": "Oai5qnMGuIYX",
        "colab": {
          "base_uri": "https://localhost:8080/"
        },
        "outputId": "fb379e81-2c94-4a3c-c847-0e76e586e086"
      },
      "execution_count": 16,
      "outputs": [
        {
          "output_type": "execute_result",
          "data": {
            "text/plain": [
              "männlich    31999\n",
              "weiblich    31678\n",
              "Name: SexHundLang, dtype: int64"
            ]
          },
          "metadata": {},
          "execution_count": 16
        }
      ]
    },
    {
      "cell_type": "code",
      "source": [
        "assert dogs_sex.sum() == 63677"
      ],
      "metadata": {
        "id": "Thh3K0iEThgu"
      },
      "execution_count": 17,
      "outputs": []
    },
    {
      "cell_type": "markdown",
      "source": [
        "7. Erscheint dir diese Zahl realistisch? Warum?"
      ],
      "metadata": {
        "id": "_D04r4ObTsev"
      }
    },
    {
      "cell_type": "markdown",
      "source": [],
      "metadata": {
        "id": "kyHIotBBT6jr"
      }
    },
    {
      "cell_type": "markdown",
      "source": [
        "8. Welche Hundenamen kommen am häufigsten vor?\n",
        "Speichere die entstandene Tabelle in der Variable pop_dognames"
      ],
      "metadata": {
        "id": "4mCTxQCVUK3v"
      }
    },
    {
      "cell_type": "code",
      "source": [
        "pop_dognames = dognames[\"HundenameText\"].value_counts()\n",
        "pop_dognames"
      ],
      "metadata": {
        "id": "_nT7PZxPuqvW",
        "colab": {
          "base_uri": "https://localhost:8080/"
        },
        "outputId": "bb26d375-75dc-4ec8-bab7-55bb046a91c6"
      },
      "execution_count": 20,
      "outputs": [
        {
          "output_type": "execute_result",
          "data": {
            "text/plain": [
              "Coco                              166\n",
              "Luna                              154\n",
              "Lucky                             149\n",
              "Rocky                             138\n",
              "Charly                            125\n",
              "                                 ... \n",
              "Amadeus v. der Egsdorfer Meute      1\n",
              "Lasco                               1\n",
              "Hades (Gacroche)                    1\n",
              "HANS AMBROFELLIS                    1\n",
              "Élton                               1\n",
              "Name: HundenameText, Length: 9252, dtype: int64"
            ]
          },
          "metadata": {},
          "execution_count": 20
        }
      ]
    },
    {
      "cell_type": "code",
      "source": [
        "assert pop_dognames[0] == 166\n",
        "assert pop_dognames.index[5] == \"Snoopy\""
      ],
      "metadata": {
        "id": "-FRY0whxUbmd"
      },
      "execution_count": 21,
      "outputs": []
    },
    {
      "cell_type": "markdown",
      "source": [
        "9. Filtere die Column `HundenameText` so, dass nur Namen, die aus einem Buchstaben bestehen angezeigt werden.\n",
        "\n",
        "  9.1 Ruf dafür zuerst die `.str.len()` Methode auf der Spalte auf.\n",
        "\n",
        "  9.2 Füge dann den Vergleichsoperator hinzu, also entweder `< 2` oder `== 1`. Du erhältst eine List mit boolschen Werten.\n",
        "  \n",
        "  9.3 Speichere diese List in einer Variable mit dem Namen `mask`."
      ],
      "metadata": {
        "id": "NZb03MkHSAGF"
      }
    },
    {
      "cell_type": "code",
      "source": [
        "mask = dognames[\"HundenameText\"].str.len() == 1\n",
        "mask"
      ],
      "metadata": {
        "id": "IzofR6SPSDEM",
        "colab": {
          "base_uri": "https://localhost:8080/"
        },
        "outputId": "89db077e-5e16-4a86-be09-c71a824f7f7e"
      },
      "execution_count": 29,
      "outputs": [
        {
          "output_type": "execute_result",
          "data": {
            "text/plain": [
              "0        False\n",
              "1         True\n",
              "2         True\n",
              "3         True\n",
              "4        False\n",
              "         ...  \n",
              "63672    False\n",
              "63673    False\n",
              "63674    False\n",
              "63675    False\n",
              "63676    False\n",
              "Name: HundenameText, Length: 63677, dtype: bool"
            ]
          },
          "metadata": {},
          "execution_count": 29
        }
      ]
    },
    {
      "cell_type": "code",
      "source": [
        "assert len(mask) == 63677\n",
        "assert mask.sum() == 28"
      ],
      "metadata": {
        "id": "ckcg2GYlS8NH"
      },
      "execution_count": 30,
      "outputs": []
    },
    {
      "cell_type": "markdown",
      "source": [
        "10. Wende nun die Maske auf den DataFrame an, indem du ihn in die eckigen Klammern schreibst und wähle die Column `HundenamenText` aus. Speichere die Spalte in die Variable `shortnames`.\n",
        "\n"
      ],
      "metadata": {
        "id": "u8QXyDlKTGDc"
      }
    },
    {
      "cell_type": "code",
      "source": [
        "shortnames = dognames[dognames[\"HundenameText\"].str.len() == 1][\"HundenameText\"]"
      ],
      "metadata": {
        "id": "Cx2e3gW2zkrr"
      },
      "execution_count": 56,
      "outputs": []
    },
    {
      "cell_type": "code",
      "source": [
        "assert shortnames.size == 28\n",
        "assert list(shortnames)[0] == \"?\""
      ],
      "metadata": {
        "id": "zIGM32cmTye_"
      },
      "execution_count": 57,
      "outputs": []
    },
    {
      "cell_type": "markdown",
      "source": [
        "11. Plotte die 30 beliebtesten Hundenamen als Barchart.\n",
        "\n",
        "  11.1 Nutze dafür die Variable `pop_dognames` von oben und wende die `.head()`-Methode darauf an. Gib der Methode die richtigen Parameter mit, dass 30 Werte angezeigt werden. Und speichere das Ergebnis in der Variable `top30_names`.\n",
        "  \n",
        "  11.2  Rufe dann die `.plot()`-Methode auf `top30_names` auf und übergib den richtigen Parameter, um ein Barchart zu erzeugen. \n",
        "\n",
        "  11.3 Warum ist ein Barchart hier eine gute Darstellungsform?"
      ],
      "metadata": {
        "id": "sv0xtDvRUavw"
      }
    },
    {
      "cell_type": "code",
      "source": [
        "top30_names = pop_dognames.head(30)"
      ],
      "metadata": {
        "id": "hYvHL1qJu35A"
      },
      "execution_count": 40,
      "outputs": []
    },
    {
      "cell_type": "code",
      "source": [
        "assert top30_names.size == 30"
      ],
      "metadata": {
        "id": "82ejsfXGWmzH"
      },
      "execution_count": 39,
      "outputs": []
    },
    {
      "cell_type": "code",
      "source": [
        "top30_names.plot()"
      ],
      "metadata": {
        "id": "1px_jXT4VyB3",
        "colab": {
          "base_uri": "https://localhost:8080/",
          "height": 447
        },
        "outputId": "b8033118-c376-4222-d8f3-17e64ae82147"
      },
      "execution_count": 58,
      "outputs": [
        {
          "output_type": "execute_result",
          "data": {
            "text/plain": [
              "<Axes: >"
            ]
          },
          "metadata": {},
          "execution_count": 58
        },
        {
          "output_type": "display_data",
          "data": {
            "text/plain": [
              "<Figure size 640x480 with 1 Axes>"
            ],
            "image/png": "[encoded data removed]"
          },
          "metadata": {}
        }
      ]
    },
    {
      "cell_type": "markdown",
      "source": [
        "12. Freiwillige Spaßaufgabe: Sieh nach wie viele Hunde deinen Vornamen tragen. Erstelle dafür wieder wie oben eine Maske, nutze diesmal aber die `str.contains()`-Methode statt der `str.len()`-Methode. Übergib der Methode den Namen nach dem du filtern willst und wende die Maske auf den Dataframe an."
      ],
      "metadata": {
        "id": "tB7JyloxWxCI"
      }
    },
    {
      "cell_type": "code",
      "source": [
        "maskName = dognames[\"HundenameText\"].str.contains(\"Marco\")\n",
        "maskName.sum()"
      ],
      "metadata": {
        "id": "JSZCrs25wTiN",
        "colab": {
          "base_uri": "https://localhost:8080/"
        },
        "outputId": "9b7c1e63-d042-4f65-efde-d0944b0f1e2c"
      },
      "execution_count": 64,
      "outputs": [
        {
          "output_type": "execute_result",
          "data": {
            "text/plain": [
              "4"
            ]
          },
          "metadata": {},
          "execution_count": 64
        }
      ]
    }
  ]
}