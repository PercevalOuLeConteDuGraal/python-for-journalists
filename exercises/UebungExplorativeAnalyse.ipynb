{
  "nbformat": 4,
  "nbformat_minor": 0,
  "metadata": {
    "colab": {
      "provenance": [],
      "authorship_tag": "ABX9TyNUsCpawmElCgdeOKZPJBGh",
      "include_colab_link": true
    },
    "kernelspec": {
      "name": "python3",
      "display_name": "Python 3"
    },
    "language_info": {
      "name": "python"
    }
  },
  "cells": [
    {
      "cell_type": "markdown",
      "metadata": {
        "id": "view-in-github",
        "colab_type": "text"
      },
      "source": [
        "<a href=\"https://colab.research.google.com/github/redadmiral/python-for-journalists/blob/main/exercises/UebungExplorativeAnalyse.ipynb\" target=\"_parent\"><img src=\"https://colab.research.google.com/assets/colab-badge.svg\" alt=\"Open In Colab\"/></a>"
      ]
    },
    {
      "cell_type": "markdown",
      "source": [
        "# Übung Einführung Pandas\n",
        "\n",
        "1. Lade den Datensatz der Stadt Zürich mit Hundenamen, indem du der read_csv() Funktion die URL `https://data.stadt-zuerich.ch/dataset/sid_stapo_hundenamen_od1002/download/KUL100OD1002.csv`übergibst. Speichere sie in der Variable `dognames`."
      ],
      "metadata": {
        "id": "SUGUJZsoOoex"
      }
    },
    {
      "cell_type": "code",
      "execution_count": null,
      "metadata": {
        "id": "YcxLOQVqqWts"
      },
      "outputs": [],
      "source": [
        "import pandas as pd\n"
      ]
    },
    {
      "cell_type": "code",
      "source": [
        "assert dognames.size == 445739"
      ],
      "metadata": {
        "id": "n1gJFGFYPKoH"
      },
      "execution_count": 3,
      "outputs": []
    },
    {
      "cell_type": "markdown",
      "source": [
        "2. Welche Namen haben die Spalten in Dognames? Nutze um nachzusehen das `.columns` Property und speichere das Ergebnis in einer Variable `cols`."
      ],
      "metadata": {
        "id": "DQGcZF8KPUQY"
      }
    },
    {
      "cell_type": "code",
      "source": [],
      "metadata": {
        "id": "H5klPY7DsqIu"
      },
      "execution_count": 4,
      "outputs": []
    },
    {
      "cell_type": "code",
      "source": [
        "assert len(cols) == 7\n",
        "assert cols[-1] == \"AnzHunde\""
      ],
      "metadata": {
        "id": "RlyzVsAYRp-I"
      },
      "execution_count": 5,
      "outputs": []
    },
    {
      "cell_type": "markdown",
      "source": [
        "3. Welche Columns erscheinen dir relevant? "
      ],
      "metadata": {
        "id": "1gEzj63xR5Mq"
      }
    },
    {
      "cell_type": "markdown",
      "source": [],
      "metadata": {
        "id": "3eduvphmSMuz"
      }
    },
    {
      "cell_type": "markdown",
      "source": [
        "4. Filtere alle Columns aus dem DataFrame dognames, die dir als irrelevant erscheinen.\n",
        "\n",
        "Mein Vorschlag wäre, sich auf die folgenden Columns zu beschränken: `'StichtagDatJahr', 'HundenameText', 'GebDatHundJahr', 'SexHundCd',\n",
        " 'SexHundLang', 'AnzHunde'`.\n"
      ],
      "metadata": {
        "id": "vWe-6Fg6SM5h"
      }
    },
    {
      "cell_type": "code",
      "source": [],
      "metadata": {
        "id": "IgxAvasDtGga"
      },
      "execution_count": null,
      "outputs": []
    },
    {
      "cell_type": "code",
      "source": [
        "# Nur wenn du dich an meinen Vorschlag orientierst.\n",
        "assert dognames.size == 382062"
      ],
      "metadata": {
        "id": "D30vPE0xSvCP"
      },
      "execution_count": 7,
      "outputs": []
    },
    {
      "cell_type": "markdown",
      "source": [
        "5. In welchen Spalten sind NA-Werte?\n",
        "\n",
        "  5.1 Was ist ein NA-Wert?"
      ],
      "metadata": {
        "id": "VBNKPMcgS-QG"
      }
    },
    {
      "cell_type": "code",
      "source": [],
      "metadata": {
        "id": "qgti1RViuCQI"
      },
      "execution_count": null,
      "outputs": []
    },
    {
      "cell_type": "markdown",
      "source": [
        "6. Wie viele Hunde sind männlich, wie viele weiblich? Speichere das Ergebnis in der Variable dogs_sex ab."
      ],
      "metadata": {
        "id": "ldrWTTIcTMB_"
      }
    },
    {
      "cell_type": "code",
      "source": [],
      "metadata": {
        "id": "Oai5qnMGuIYX"
      },
      "execution_count": null,
      "outputs": []
    },
    {
      "cell_type": "code",
      "source": [
        "assert dogs_sex.sum() == 63677"
      ],
      "metadata": {
        "id": "Thh3K0iEThgu"
      },
      "execution_count": 10,
      "outputs": []
    },
    {
      "cell_type": "markdown",
      "source": [
        "7. Erscheint dir diese Zahl realistisch? Warum?"
      ],
      "metadata": {
        "id": "_D04r4ObTsev"
      }
    },
    {
      "cell_type": "markdown",
      "source": [],
      "metadata": {
        "id": "kyHIotBBT6jr"
      }
    },
    {
      "cell_type": "markdown",
      "source": [
        "8. Welche Hundenamen kommen am häufigsten vor?\n",
        "Speichere die entstandene Tabelle in der Variable pop_dognames"
      ],
      "metadata": {
        "id": "4mCTxQCVUK3v"
      }
    },
    {
      "cell_type": "code",
      "source": [],
      "metadata": {
        "id": "_nT7PZxPuqvW"
      },
      "execution_count": null,
      "outputs": []
    },
    {
      "cell_type": "code",
      "source": [
        "assert pop_dognames[0] == 166\n",
        "assert pop_dognames.index[5] == \"Snoopy\""
      ],
      "metadata": {
        "id": "-FRY0whxUbmd"
      },
      "execution_count": 37,
      "outputs": []
    },
    {
      "cell_type": "markdown",
      "source": [
        "9. Filtere die Column `HundenameText` so, dass nur Namen, die aus einem Buchstaben bestehen angezeigt werden.\n",
        "\n",
        "  9.1 Ruf dafür zuerst die `.str.len()` Methode auf der Spalte auf.\n",
        "\n",
        "  9.2 Füge dann den Vergleichsoperator hinzu, also entweder `< 2` oder `== 1`. Du erhältst eine List mit boolschen Werten.\n",
        "  \n",
        "  9.3 Speichere diese List in einer Variable mit dem Namen `mask`."
      ],
      "metadata": {
        "id": "NZb03MkHSAGF"
      }
    },
    {
      "cell_type": "code",
      "source": [],
      "metadata": {
        "id": "IzofR6SPSDEM"
      },
      "execution_count": 18,
      "outputs": []
    },
    {
      "cell_type": "code",
      "source": [
        "assert len(mask) == 63677\n",
        "assert mask.sum() == 28"
      ],
      "metadata": {
        "id": "ckcg2GYlS8NH"
      },
      "execution_count": 21,
      "outputs": []
    },
    {
      "cell_type": "markdown",
      "source": [
        "10. Wende nun die Maske auf den DataFrame an, indem du ihn in die eckigen Klammern schreibst und wähle die Column `HundenamenText` aus. Speichere die Spalte in die Variable `shortnames`.\n",
        "\n"
      ],
      "metadata": {
        "id": "u8QXyDlKTGDc"
      }
    },
    {
      "cell_type": "code",
      "source": [],
      "metadata": {
        "id": "Cx2e3gW2zkrr"
      },
      "execution_count": 24,
      "outputs": []
    },
    {
      "cell_type": "code",
      "source": [
        "assert shortnames.size == 28\n",
        "assert list(shortnames)[0] == \"?\""
      ],
      "metadata": {
        "id": "zIGM32cmTye_"
      },
      "execution_count": 31,
      "outputs": []
    },
    {
      "cell_type": "markdown",
      "source": [
        "11. Plotte die 30 beliebtesten Hundenamen als Barchart.\n",
        "\n",
        "  11.1 Nutze dafür die Variable `pop_dognames` von oben und wende die `.head()`-Methode darauf an. Gib der Methode die richtigen Parameter mit, dass 30 Werte angezeigt werden. Und speichere das Ergebnis in der Variable `top30_names`.\n",
        "  \n",
        "  11.2  Rufe dann die `.plot()`-Methode auf `top30_names` auf und übergib den richtigen Parameter, um ein Barchart zu erzeugen. \n",
        "\n",
        "  11.3 Warum ist ein Barchart hier eine gute Darstellungsform?"
      ],
      "metadata": {
        "id": "sv0xtDvRUavw"
      }
    },
    {
      "cell_type": "code",
      "source": [],
      "metadata": {
        "id": "hYvHL1qJu35A"
      },
      "execution_count": 34,
      "outputs": []
    },
    {
      "cell_type": "code",
      "source": [
        "assert top30_names.size == 30"
      ],
      "metadata": {
        "id": "82ejsfXGWmzH"
      },
      "execution_count": 36,
      "outputs": []
    },
    {
      "cell_type": "code",
      "source": [],
      "metadata": {
        "id": "1px_jXT4VyB3"
      },
      "execution_count": null,
      "outputs": []
    },
    {
      "cell_type": "markdown",
      "source": [
        "12. Freiwillige Spaßaufgabe: Sieh nach wie viele Hunde deinen Vornamen tragen. Erstelle dafür wieder wie oben eine Maske, nutze diesmal aber die `str.contains()`-Methode statt der `str.len()`-Methode. Übergib der Methode den Namen nach dem du filtern willst und wende die Maske auf den Dataframe an."
      ],
      "metadata": {
        "id": "tB7JyloxWxCI"
      }
    },
    {
      "cell_type": "code",
      "source": [],
      "metadata": {
        "id": "JSZCrs25wTiN"
      },
      "execution_count": null,
      "outputs": []
    }
  ]
}