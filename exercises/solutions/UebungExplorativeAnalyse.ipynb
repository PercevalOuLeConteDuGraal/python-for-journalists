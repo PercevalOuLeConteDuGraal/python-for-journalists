{
  "nbformat": 4,
  "nbformat_minor": 0,
  "metadata": {
    "colab": {
      "provenance": [],
      "authorship_tag": "ABX9TyPPMc7l89gkSjQ6rokE3et9",
      "include_colab_link": true
    },
    "kernelspec": {
      "name": "python3",
      "display_name": "Python 3"
    },
    "language_info": {
      "name": "python"
    }
  },
  "cells": [
    {
      "cell_type": "markdown",
      "metadata": {
        "id": "view-in-github",
        "colab_type": "text"
      },
      "source": [
        "<a href=\"https://colab.research.google.com/github/redadmiral/python-for-journalists/blob/main/exercises/solutions/UebungExplorativeAnalyse.ipynb\" target=\"_parent\"><img src=\"https://colab.research.google.com/assets/colab-badge.svg\" alt=\"Open In Colab\"/></a>"
      ]
    },
    {
      "cell_type": "markdown",
      "source": [
        "# Übung Einführung Pandas\n",
        "\n",
        "1. Lade den Datensatz der Stadt Zürich mit Hundenamen, indem du der read_csv() Funktion die URL `https://data.stadt-zuerich.ch/dataset/sid_stapo_hundenamen_od1002/download/KUL100OD1002.csv`übergibst. Speichere sie in der Variable `dognames`."
      ],
      "metadata": {
        "id": "SUGUJZsoOoex"
      }
    },
    {
      "cell_type": "code",
      "execution_count": 2,
      "metadata": {
        "colab": {
          "base_uri": "https://localhost:8080/"
        },
        "id": "YcxLOQVqqWts",
        "outputId": "46383972-08aa-4898-ea59-e4101acd9953"
      },
      "outputs": [
        {
          "output_type": "execute_result",
          "data": {
            "text/plain": [
              "445739"
            ]
          },
          "metadata": {},
          "execution_count": 2
        }
      ],
      "source": [
        "import pandas as pd\n",
        "\n",
        "dognames = pd.read_csv(\"https://data.stadt-zuerich.ch/dataset/sid_stapo_hundenamen_od1002/download/KUL100OD1002.csv\")\n",
        "dognames.size"
      ]
    },
    {
      "cell_type": "code",
      "source": [
        "assert dognames.size == 445739"
      ],
      "metadata": {
        "id": "n1gJFGFYPKoH"
      },
      "execution_count": 3,
      "outputs": []
    },
    {
      "cell_type": "markdown",
      "source": [
        "2. Welche Namen haben die Spalten in Dognames? Nutze um nachzusehen das `.columns` Property und speichere das Ergebnis in einer Variable `cols`."
      ],
      "metadata": {
        "id": "DQGcZF8KPUQY"
      }
    },
    {
      "cell_type": "code",
      "source": [
        "cols = dognames.columns"
      ],
      "metadata": {
        "id": "H5klPY7DsqIu"
      },
      "execution_count": 4,
      "outputs": []
    },
    {
      "cell_type": "code",
      "source": [
        "assert len(cols) == 7\n",
        "assert cols[-1] == \"AnzHunde\""
      ],
      "metadata": {
        "id": "RlyzVsAYRp-I"
      },
      "execution_count": 5,
      "outputs": []
    },
    {
      "cell_type": "markdown",
      "source": [
        "3. Welche Columns erscheinen dir relevant? "
      ],
      "metadata": {
        "id": "1gEzj63xR5Mq"
      }
    },
    {
      "cell_type": "markdown",
      "source": [],
      "metadata": {
        "id": "3eduvphmSMuz"
      }
    },
    {
      "cell_type": "markdown",
      "source": [
        "4. Filtere alle Columns aus dem DataFrame dognames, die dir als irrelevant erscheinen.\n",
        "\n",
        "Mein Vorschlag wäre, sich auf die folgenden Columns zu beschränken: `'StichtagDatJahr', 'HundenameText', 'GebDatHundJahr', 'SexHundCd',\n",
        " 'SexHundLang', 'AnzHunde'`.\n"
      ],
      "metadata": {
        "id": "vWe-6Fg6SM5h"
      }
    },
    {
      "cell_type": "code",
      "source": [
        "dognames = dognames[['StichtagDatJahr', 'HundenameText', 'GebDatHundJahr', 'SexHundCd',\n",
        " 'SexHundLang', 'AnzHunde']]\n",
        "\n",
        "dognames.size"
      ],
      "metadata": {
        "colab": {
          "base_uri": "https://localhost:8080/"
        },
        "id": "IgxAvasDtGga",
        "outputId": "1665e7cc-436a-440d-975b-10f11323399e"
      },
      "execution_count": 6,
      "outputs": [
        {
          "output_type": "execute_result",
          "data": {
            "text/plain": [
              "382062"
            ]
          },
          "metadata": {},
          "execution_count": 6
        }
      ]
    },
    {
      "cell_type": "code",
      "source": [
        "# Nur wenn du dich an meinen Vorschlag orientierst.\n",
        "assert dognames.size == 382062"
      ],
      "metadata": {
        "id": "D30vPE0xSvCP"
      },
      "execution_count": 7,
      "outputs": []
    },
    {
      "cell_type": "markdown",
      "source": [
        "5. In welchen Spalten sind NA-Werte?\n",
        "\n",
        "  5.1 Was ist ein NA-Wert?"
      ],
      "metadata": {
        "id": "VBNKPMcgS-QG"
      }
    },
    {
      "cell_type": "code",
      "source": [
        "dognames.isna().sum()"
      ],
      "metadata": {
        "colab": {
          "base_uri": "https://localhost:8080/"
        },
        "id": "qgti1RViuCQI",
        "outputId": "48e62002-fb2d-4de1-9cd9-58529af656e5"
      },
      "execution_count": 8,
      "outputs": [
        {
          "output_type": "execute_result",
          "data": {
            "text/plain": [
              "StichtagDatJahr    0\n",
              "HundenameText      0\n",
              "GebDatHundJahr     0\n",
              "SexHundCd          0\n",
              "SexHundLang        0\n",
              "AnzHunde           0\n",
              "dtype: int64"
            ]
          },
          "metadata": {},
          "execution_count": 8
        }
      ]
    },
    {
      "cell_type": "markdown",
      "source": [
        "6. Wie viele Hunde sind männlich, wie viele weiblich? Speichere das Ergebnis in der Variable dogs_sex ab."
      ],
      "metadata": {
        "id": "ldrWTTIcTMB_"
      }
    },
    {
      "cell_type": "code",
      "source": [
        "dogs_sex = dognames[\"SexHundLang\"].value_counts()\n",
        "dogs_sex"
      ],
      "metadata": {
        "colab": {
          "base_uri": "https://localhost:8080/"
        },
        "id": "Oai5qnMGuIYX",
        "outputId": "17bf26ca-6a2b-4608-eba8-a40f544014d8"
      },
      "execution_count": 9,
      "outputs": [
        {
          "output_type": "execute_result",
          "data": {
            "text/plain": [
              "männlich    31999\n",
              "weiblich    31678\n",
              "Name: SexHundLang, dtype: int64"
            ]
          },
          "metadata": {},
          "execution_count": 9
        }
      ]
    },
    {
      "cell_type": "code",
      "source": [
        "assert dogs_sex.sum() == 63677"
      ],
      "metadata": {
        "id": "Thh3K0iEThgu"
      },
      "execution_count": 10,
      "outputs": []
    },
    {
      "cell_type": "markdown",
      "source": [
        "7. Erscheint dir diese Zahl realistisch? Warum?"
      ],
      "metadata": {
        "id": "_D04r4ObTsev"
      }
    },
    {
      "cell_type": "markdown",
      "source": [],
      "metadata": {
        "id": "kyHIotBBT6jr"
      }
    },
    {
      "cell_type": "code",
      "source": [
        "dognames[\"SexHundLang\"].size"
      ],
      "metadata": {
        "colab": {
          "base_uri": "https://localhost:8080/"
        },
        "id": "ZOkX2GAKueUf",
        "outputId": "2c272b57-fd09-4db7-d069-5c44723b9596"
      },
      "execution_count": 11,
      "outputs": [
        {
          "output_type": "execute_result",
          "data": {
            "text/plain": [
              "63677"
            ]
          },
          "metadata": {},
          "execution_count": 11
        }
      ]
    },
    {
      "cell_type": "markdown",
      "source": [
        "8. Welche Hundenamen kommen am häufigsten vor?\n",
        "Speichere die entstandene Tabelle in der Variable pop_dognames"
      ],
      "metadata": {
        "id": "4mCTxQCVUK3v"
      }
    },
    {
      "cell_type": "code",
      "source": [
        "pop_dognames = dognames[\"HundenameText\"].value_counts()\n",
        "pop_dognames"
      ],
      "metadata": {
        "colab": {
          "base_uri": "https://localhost:8080/"
        },
        "id": "_nT7PZxPuqvW",
        "outputId": "39bd5487-c5dc-4ce5-b178-cd7322b18edb"
      },
      "execution_count": 12,
      "outputs": [
        {
          "output_type": "execute_result",
          "data": {
            "text/plain": [
              "Coco                              166\n",
              "Luna                              154\n",
              "Lucky                             149\n",
              "Rocky                             138\n",
              "Charly                            125\n",
              "                                 ... \n",
              "Amadeus v. der Egsdorfer Meute      1\n",
              "Lasco                               1\n",
              "Hades (Gacroche)                    1\n",
              "HANS AMBROFELLIS                    1\n",
              "Élton                               1\n",
              "Name: HundenameText, Length: 9252, dtype: int64"
            ]
          },
          "metadata": {},
          "execution_count": 12
        }
      ]
    },
    {
      "cell_type": "code",
      "source": [
        "pop_dognames[0] == 166\n",
        "pop_dognames.index[5] == \"Snoopy\""
      ],
      "metadata": {
        "colab": {
          "base_uri": "https://localhost:8080/"
        },
        "id": "-FRY0whxUbmd",
        "outputId": "2a1cbe68-e5dd-4340-d895-9d8158440e46"
      },
      "execution_count": 13,
      "outputs": [
        {
          "output_type": "execute_result",
          "data": {
            "text/plain": [
              "True"
            ]
          },
          "metadata": {},
          "execution_count": 13
        }
      ]
    },
    {
      "cell_type": "markdown",
      "source": [
        "9. Filtere die Column `HundenameText` so, dass nur Namen, die aus einem Buchstaben bestehen angezeigt werden.\n",
        "\n",
        "  9.1 Ruf dafür zuerst die `.str.len()` Methode auf der Spalte auf.\n",
        "\n",
        "  9.2 Füge dann den Vergleichsoperator hinzu, also entweder `< 2` oder `== 1`. Du erhältst eine List mit boolschen Werten.\n",
        "  \n",
        "  9.3 Speichere diese List in einer Variable mit dem Namen `mask`."
      ],
      "metadata": {
        "id": "NZb03MkHSAGF"
      }
    },
    {
      "cell_type": "code",
      "source": [
        "mask = dognames[\"HundenameText\"].str.len() < 2"
      ],
      "metadata": {
        "id": "IzofR6SPSDEM"
      },
      "execution_count": 18,
      "outputs": []
    },
    {
      "cell_type": "code",
      "source": [
        "assert len(mask) == 63677\n",
        "assert mask.sum() == 28"
      ],
      "metadata": {
        "id": "ckcg2GYlS8NH"
      },
      "execution_count": 21,
      "outputs": []
    },
    {
      "cell_type": "markdown",
      "source": [
        "10. Wende nun die Maske auf den DataFrame an, indem du ihn in die eckigen Klammern schreibst und wähle die Column `HundenamenText` aus. Speichere die Spalte in die Variable `shortnames`.\n",
        "\n"
      ],
      "metadata": {
        "id": "u8QXyDlKTGDc"
      }
    },
    {
      "cell_type": "code",
      "source": [
        "shortnames = dognames[mask][\"HundenameText\"]"
      ],
      "metadata": {
        "id": "Cx2e3gW2zkrr"
      },
      "execution_count": 24,
      "outputs": []
    },
    {
      "cell_type": "code",
      "source": [
        "assert shortnames.size == 28\n",
        "assert list(shortnames)[0] == \"?\""
      ],
      "metadata": {
        "id": "zIGM32cmTye_"
      },
      "execution_count": 31,
      "outputs": []
    },
    {
      "cell_type": "markdown",
      "source": [
        "11. Plotte die 30 beliebtesten Hundenamen als Barchart.\n",
        "\n",
        "  11.1 Nutze dafür die Variable `pop_dognames` von oben und wende die `.head()`-Methode darauf an. Gib der Methode die richtigen Parameter mit, dass 30 Werte angezeigt werden. Und speichere das Ergebnis in der Variable `top30_names`.\n",
        "  \n",
        "  11.2  Rufe dann die `.plot()`-Methode auf `top30_names` auf und übergib den richtigen Parameter, um ein Barchart zu erzeugen. \n",
        "\n",
        "  11.3 Warum ist ein Barchart hier eine gute Darstellungsform?"
      ],
      "metadata": {
        "id": "sv0xtDvRUavw"
      }
    },
    {
      "cell_type": "code",
      "source": [
        "top30_names = pd.DataFrame(pop_dognames).head(30)\n"
      ],
      "metadata": {
        "id": "hYvHL1qJu35A"
      },
      "execution_count": 34,
      "outputs": []
    },
    {
      "cell_type": "code",
      "source": [
        "assert top30_names.size == 30"
      ],
      "metadata": {
        "id": "82ejsfXGWmzH"
      },
      "execution_count": 36,
      "outputs": []
    },
    {
      "cell_type": "code",
      "source": [
        "top30_names.plot(kind=\"bar\")"
      ],
      "metadata": {
        "colab": {
          "base_uri": "https://localhost:8080/",
          "height": 485
        },
        "id": "1px_jXT4VyB3",
        "outputId": "6258af9b-3428-431e-82df-601cf8920d45"
      },
      "execution_count": 35,
      "outputs": [
        {
          "output_type": "execute_result",
          "data": {
            "text/plain": [
              "<Axes: >"
            ]
          },
          "metadata": {},
          "execution_count": 35
        },
        {
          "output_type": "display_data",
          "data": {
            "text/plain": [
              "<Figure size 640x480 with 1 Axes>"
            ],
            "image/png": "[encoded data removed]"
          },
          "metadata": {}
        }
      ]
    },
    {
      "cell_type": "markdown",
      "source": [
        "12. Freiwillige Spaßaufgabe: Sieh nach wie viele Hunde deinen Vornamen tragen. Erstelle dafür wieder wie oben eine Maske, nutze diesmal aber die `str.contains()`-Methode statt der `str.len()`-Methode. Übergib der Methode den Namen nach dem du filtern willst und wende die Maske auf den Dataframe an."
      ],
      "metadata": {
        "id": "tB7JyloxWxCI"
      }
    },
    {
      "cell_type": "code",
      "source": [
        "dognames[dognames[\"HundenameText\"].str.contains(\"Marco\")]"
      ],
      "metadata": {
        "colab": {
          "base_uri": "https://localhost:8080/",
          "height": 174
        },
        "id": "JSZCrs25wTiN",
        "outputId": "0881892c-fd98-4e64-d3a4-e5abdd3fb35d"
      },
      "execution_count": 17,
      "outputs": [
        {
          "output_type": "execute_result",
          "data": {
            "text/plain": [
              "       StichtagDatJahr       HundenameText  GebDatHundJahr  SexHundCd  \\\n",
              "36734             2020  Marco Polo (Harry)            2019          1   \n",
              "44105             2021  Marco Polo (Harry)            2019          1   \n",
              "51952             2022  Marco Polo (Harry)            2019          1   \n",
              "60198             2023  Marco Polo (Harry)            2019          1   \n",
              "\n",
              "      SexHundLang  AnzHunde  \n",
              "36734    männlich         1  \n",
              "44105    männlich         1  \n",
              "51952    männlich         1  \n",
              "60198    männlich         1  "
            ],
            "text/html": [
              "\n",
              "  <div id=\"df-6780bdcc-050c-48af-bf55-1443dfdfb5a5\">\n",
              "    <div class=\"colab-df-container\">\n",
              "      <div>\n",
              "<style scoped>\n",
              "    .dataframe tbody tr th:only-of-type {\n",
              "        vertical-align: middle;\n",
              "    }\n",
              "\n",
              "    .dataframe tbody tr th {\n",
              "        vertical-align: top;\n",
              "    }\n",
              "\n",
              "    .dataframe thead th {\n",
              "        text-align: right;\n",
              "    }\n",
              "</style>\n",
              "<table border=\"1\" class=\"dataframe\">\n",
              "  <thead>\n",
              "    <tr style=\"text-align: right;\">\n",
              "      <th></th>\n",
              "      <th>StichtagDatJahr</th>\n",
              "      <th>HundenameText</th>\n",
              "      <th>GebDatHundJahr</th>\n",
              "      <th>SexHundCd</th>\n",
              "      <th>SexHundLang</th>\n",
              "      <th>AnzHunde</th>\n",
              "    </tr>\n",
              "  </thead>\n",
              "  <tbody>\n",
              "    <tr>\n",
              "      <th>36734</th>\n",
              "      <td>2020</td>\n",
              "      <td>Marco Polo (Harry)</td>\n",
              "      <td>2019</td>\n",
              "      <td>1</td>\n",
              "      <td>männlich</td>\n",
              "      <td>1</td>\n",
              "    </tr>\n",
              "    <tr>\n",
              "      <th>44105</th>\n",
              "      <td>2021</td>\n",
              "      <td>Marco Polo (Harry)</td>\n",
              "      <td>2019</td>\n",
              "      <td>1</td>\n",
              "      <td>männlich</td>\n",
              "      <td>1</td>\n",
              "    </tr>\n",
              "    <tr>\n",
              "      <th>51952</th>\n",
              "      <td>2022</td>\n",
              "      <td>Marco Polo (Harry)</td>\n",
              "      <td>2019</td>\n",
              "      <td>1</td>\n",
              "      <td>männlich</td>\n",
              "      <td>1</td>\n",
              "    </tr>\n",
              "    <tr>\n",
              "      <th>60198</th>\n",
              "      <td>2023</td>\n",
              "      <td>Marco Polo (Harry)</td>\n",
              "      <td>2019</td>\n",
              "      <td>1</td>\n",
              "      <td>männlich</td>\n",
              "      <td>1</td>\n",
              "    </tr>\n",
              "  </tbody>\n",
              "</table>\n",
              "</div>\n",
              "      <button class=\"colab-df-convert\" onclick=\"convertToInteractive('df-6780bdcc-050c-48af-bf55-1443dfdfb5a5')\"\n",
              "              title=\"Convert this dataframe to an interactive table.\"\n",
              "              style=\"display:none;\">\n",
              "        \n",
              "  <svg xmlns=\"http://www.w3.org/2000/svg\" height=\"24px\"viewBox=\"0 0 24 24\"\n",
              "       width=\"24px\">\n",
              "    <path d=\"M0 0h24v24H0V0z\" fill=\"none\"/>\n",
              "    <path d=\"M18.56 5.44l.94 2.06.94-2.06 2.06-.94-2.06-.94-.94-2.06-.94 2.06-2.06.94zm-11 1L8.5 8.5l.94-2.06 2.06-.94-2.06-.94L8.5 2.5l-.94 2.06-2.06.94zm10 10l.94 2.06.94-2.06 2.06-.94-2.06-.94-.94-2.06-.94 2.06-2.06.94z\"/><path d=\"M17.41 7.96l-1.37-1.37c-.4-.4-.92-.59-1.43-.59-.52 0-1.04.2-1.43.59L10.3 9.45l-7.72 7.72c-.78.78-.78 2.05 0 2.83L4 21.41c.39.39.9.59 1.41.59.51 0 1.02-.2 1.41-.59l7.78-7.78 2.81-2.81c.8-.78.8-2.07 0-2.86zM5.41 20L4 18.59l7.72-7.72 1.47 1.35L5.41 20z\"/>\n",
              "  </svg>\n",
              "      </button>\n",
              "      \n",
              "  <style>\n",
              "    .colab-df-container {\n",
              "      display:flex;\n",
              "      flex-wrap:wrap;\n",
              "      gap: 12px;\n",
              "    }\n",
              "\n",
              "    .colab-df-convert {\n",
              "      background-color: #E8F0FE;\n",
              "      border: none;\n",
              "      border-radius: 50%;\n",
              "      cursor: pointer;\n",
              "      display: none;\n",
              "      fill: #1967D2;\n",
              "      height: 32px;\n",
              "      padding: 0 0 0 0;\n",
              "      width: 32px;\n",
              "    }\n",
              "\n",
              "    .colab-df-convert:hover {\n",
              "      background-color: #E2EBFA;\n",
              "      box-shadow: 0px 1px 2px rgba(60, 64, 67, 0.3), 0px 1px 3px 1px rgba(60, 64, 67, 0.15);\n",
              "      fill: #174EA6;\n",
              "    }\n",
              "\n",
              "    [theme=dark] .colab-df-convert {\n",
              "      background-color: #3B4455;\n",
              "      fill: #D2E3FC;\n",
              "    }\n",
              "\n",
              "    [theme=dark] .colab-df-convert:hover {\n",
              "      background-color: #434B5C;\n",
              "      box-shadow: 0px 1px 3px 1px rgba(0, 0, 0, 0.15);\n",
              "      filter: drop-shadow(0px 1px 2px rgba(0, 0, 0, 0.3));\n",
              "      fill: #FFFFFF;\n",
              "    }\n",
              "  </style>\n",
              "\n",
              "      <script>\n",
              "        const buttonEl =\n",
              "          document.querySelector('#df-6780bdcc-050c-48af-bf55-1443dfdfb5a5 button.colab-df-convert');\n",
              "        buttonEl.style.display =\n",
              "          google.colab.kernel.accessAllowed ? 'block' : 'none';\n",
              "\n",
              "        async function convertToInteractive(key) {\n",
              "          const element = document.querySelector('#df-6780bdcc-050c-48af-bf55-1443dfdfb5a5');\n",
              "          const dataTable =\n",
              "            await google.colab.kernel.invokeFunction('convertToInteractive',\n",
              "                                                     [key], {});\n",
              "          if (!dataTable) return;\n",
              "\n",
              "          const docLinkHtml = 'Like what you see? Visit the ' +\n",
              "            '<a target=\"_blank\" href=https://colab.research.google.com/notebooks/data_table.ipynb>data table notebook</a>'\n",
              "            + ' to learn more about interactive tables.';\n",
              "          element.innerHTML = '';\n",
              "          dataTable['output_type'] = 'display_data';\n",
              "          await google.colab.output.renderOutput(dataTable, element);\n",
              "          const docLink = document.createElement('div');\n",
              "          docLink.innerHTML = docLinkHtml;\n",
              "          element.appendChild(docLink);\n",
              "        }\n",
              "      </script>\n",
              "    </div>\n",
              "  </div>\n",
              "  "
            ]
          },
          "metadata": {},
          "execution_count": 17
        }
      ]
    }
  ]
}