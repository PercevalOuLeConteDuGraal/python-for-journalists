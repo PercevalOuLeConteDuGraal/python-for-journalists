{
  "nbformat": 4,
  "nbformat_minor": 0,
  "metadata": {
    "colab": {
      "provenance": [],
      "authorship_tag": "ABX9TyMui1/uV8TDopsW7xuG6LA9",
      "include_colab_link": true
    },
    "kernelspec": {
      "name": "python3",
      "display_name": "Python 3"
    },
    "language_info": {
      "name": "python"
    }
  },
  "cells": [
    {
      "cell_type": "markdown",
      "metadata": {
        "id": "view-in-github",
        "colab_type": "text"
      },
      "source": [
        "<a href=\"https://colab.research.google.com/github/redadmiral/python-for-journalists/blob/main/exercises/solutions/UebungEinfuehrungPython2.ipynb\" target=\"_parent\"><img src=\"https://colab.research.google.com/assets/colab-badge.svg\" alt=\"Open In Colab\"/></a>"
      ]
    },
    {
      "cell_type": "markdown",
      "source": [
        "# Übung Einführung in Python Teil 2\n",
        "\n",
        "## Funktionen\n",
        "\n",
        "1. Schreibe eine Funktion `square`, die das Quadrat einer Zahl zurückgibt."
      ],
      "metadata": {
        "id": "6c3sT4ZB_f1V"
      }
    },
    {
      "cell_type": "code",
      "source": [
        "def square(number):\n",
        "  return number*number"
      ],
      "metadata": {
        "id": "Hdqqs_TeAH0h"
      },
      "execution_count": 1,
      "outputs": []
    },
    {
      "cell_type": "markdown",
      "source": [
        "Wenn du alles richtig gemacht hast, dann sollte die folgende Zelle keinen Fehler werfen."
      ],
      "metadata": {
        "id": "0ARxugrZAIGf"
      }
    },
    {
      "cell_type": "code",
      "execution_count": 2,
      "metadata": {
        "id": "CtL98lxm_fN_"
      },
      "outputs": [],
      "source": [
        "assert square(2) == 4\n",
        "assert square(-1) == 1\n",
        "assert square(0) == 0\n",
        "assert square(1.5) == 2.25"
      ]
    },
    {
      "cell_type": "markdown",
      "source": [
        "2. Schreibe die Funktion `square` so um, dass wenn sie ohne Argumente aufgerufen wird, das Quadrat von 2 zurückgibt."
      ],
      "metadata": {
        "id": "TESOCo33A0Mg"
      }
    },
    {
      "cell_type": "code",
      "source": [
        "def square(number=2):\n",
        "  return number*number"
      ],
      "metadata": {
        "id": "jOLT6YWvNKi7"
      },
      "execution_count": 3,
      "outputs": []
    },
    {
      "cell_type": "code",
      "source": [
        "assert square() == 4\n",
        "assert square(3) == 9\n",
        "assert square(1.5) == 2.25"
      ],
      "metadata": {
        "id": "8gOWnOJ0Newp"
      },
      "execution_count": 4,
      "outputs": []
    },
    {
      "cell_type": "markdown",
      "source": [
        "## Namespaces\n",
        "\n",
        "1. Welche Funktion haben Einrückungen in Python?"
      ],
      "metadata": {
        "id": "ZBfLkgUONoqq"
      }
    },
    {
      "cell_type": "markdown",
      "source": [
        "Dadurch weiß der Python Interpreter, welcher Teil des Codes zu einer Funktion oder Schleife gehört."
      ],
      "metadata": {
        "id": "3MOBCJWnN31W"
      }
    },
    {
      "cell_type": "markdown",
      "source": [
        "2. Welchen Wert gibt die folgende Zelle zurück? Denke zuerst nach und führe dann die Zelle aus."
      ],
      "metadata": {
        "id": "kkp0yk7xN332"
      }
    },
    {
      "cell_type": "code",
      "source": [
        "var = 2\n",
        "\n",
        "def example():\n",
        "  return var \n",
        "\n",
        "example()"
      ],
      "metadata": {
        "id": "_E9bz3hCN64h"
      },
      "execution_count": null,
      "outputs": []
    },
    {
      "cell_type": "markdown",
      "source": [
        "3. Schreibe jetzt `example()` so um, dass sie den Wert 1.5 zurückgibt, aber ohne den Code zu verändern, der bereits unten in der Zelle steht."
      ],
      "metadata": {
        "id": "sPi9QdRWOK8o"
      }
    },
    {
      "cell_type": "code",
      "source": [
        "var = 2\n",
        "\n",
        "def example():\n",
        "  # Hier dein Code:\n",
        "  var = 1.5\n",
        "  \n",
        "\n",
        "  return var \n",
        "\n",
        "example()"
      ],
      "metadata": {
        "id": "1XKZAlR4Oajh",
        "outputId": "63dca13b-e097-4b6d-ac05-9c90c25c97f5",
        "colab": {
          "base_uri": "https://localhost:8080/"
        }
      },
      "execution_count": 5,
      "outputs": [
        {
          "output_type": "execute_result",
          "data": {
            "text/plain": [
              "1.5"
            ]
          },
          "metadata": {},
          "execution_count": 5
        }
      ]
    },
    {
      "cell_type": "markdown",
      "source": [
        "## If/Else Conditions\n",
        "\n",
        "1. Schreibe eine Funktion `stringlength()`, die mittels der Funktion `len()` die länge eines Strings misst. Je nach Länge des Strings soll eine der folgenden Strings zurückgegeben werden:\n",
        "  1. String kürzer als 3 Zeichen: `\"Die Eingabe ist zu kurz\"`\n",
        "  2. String zwischen 3 und 10 Zeichen: `\"Vielen Dank für Ihre Eingabe\"`\n",
        "  3. String länger als 10 Zeichen: `\"Die Eingabe ist zu lang\"`"
      ],
      "metadata": {
        "id": "RfbW1IlQOu8d"
      }
    },
    {
      "cell_type": "code",
      "source": [
        "len([1, 3, 4, 4])"
      ],
      "metadata": {
        "colab": {
          "base_uri": "https://localhost:8080/"
        },
        "id": "YAv8Gcv9SB-k",
        "outputId": "c5ddb201-fd8e-47ce-d581-31b89fda2c69"
      },
      "execution_count": 10,
      "outputs": [
        {
          "output_type": "execute_result",
          "data": {
            "text/plain": [
              "4"
            ]
          },
          "metadata": {},
          "execution_count": 10
        }
      ]
    },
    {
      "cell_type": "code",
      "source": [
        "def stringlength(string):\n",
        "  if len(string) < 3:\n",
        "    return \"Die Eingabe ist zu kurz\"\n",
        "  elif len(string) >= 3 or len(string) <= 10:\n",
        "    return \"Vielen Dank für Ihre Eingabe\"\n",
        "  else:\n",
        "    return \"Die Eingabe ist zu lang\""
      ],
      "metadata": {
        "id": "-r9hka0fSHAX",
        "outputId": "6f26637a-3b33-4d1d-d841-cfed858ad7d6",
        "colab": {
          "base_uri": "https://localhost:8080/"
        }
      },
      "execution_count": 14,
      "outputs": [
        {
          "output_type": "stream",
          "name": "stdout",
          "text": [
            "2\n",
            "Tschüss\n"
          ]
        }
      ]
    },
    {
      "cell_type": "code",
      "source": [
        "assert stringlength(\"a\") == \"Die Eingabe ist zu kurz\"\n",
        "assert stringlength(\"test\") == \"Vielen Dank für Ihre Eingabe\"\n",
        "assert stringlength(\"Dieser string ist zu lang.\") == \"Die Eingabe ist zu lang\""
      ],
      "metadata": {
        "id": "uGtxZd-UPVYU"
      },
      "execution_count": 11,
      "outputs": []
    },
    {
      "cell_type": "markdown",
      "source": [
        "2. Schreibe eine Funktion `as_string()`, die zwei beliebige Werte nimmt und sie als String zurückgibt. Nutze dafür den Code in der Zelle unten:"
      ],
      "metadata": {
        "id": "Mu7MwpyEPVi_"
      }
    },
    {
      "cell_type": "code",
      "source": [
        "def as_string(val1, val2):\n",
        "  # Dein Code hier:\n",
        "\n",
        "  if type(val1) != str:\n",
        "    val1 = str(val1)\n",
        "\n",
        "  if type(val2) != str:\n",
        "    val2 = str(val2)\n",
        "\n",
        "  return val1 + \" und \" + val2"
      ],
      "metadata": {
        "id": "mzZkDTdHPWKn"
      },
      "execution_count": 19,
      "outputs": []
    },
    {
      "cell_type": "code",
      "source": [
        "1 != 1 or 1 == 2"
      ],
      "metadata": {
        "id": "P3I7ZTk4SCR2",
        "outputId": "2b697924-f92c-4e15-ced0-56150fafd260",
        "colab": {
          "base_uri": "https://localhost:8080/"
        }
      },
      "execution_count": 27,
      "outputs": [
        {
          "output_type": "execute_result",
          "data": {
            "text/plain": [
              "False"
            ]
          },
          "metadata": {},
          "execution_count": 27
        }
      ]
    },
    {
      "cell_type": "code",
      "source": [
        "assert as_string(\"hallo\", \"test\") == \"hallo und test\"\n",
        "assert as_string(1, \"test\") == \"1 und test\"\n",
        "assert as_string(1, 2) == \"1 und 2\""
      ],
      "metadata": {
        "id": "8LzZ3CL4Piiw"
      },
      "execution_count": 20,
      "outputs": []
    },
    {
      "cell_type": "markdown",
      "source": [
        "## Schleifen\n",
        "\n",
        "1. Schreibe eine Schleife, die jedes Element in der Liste `numbers` mit `print()` ausgibt."
      ],
      "metadata": {
        "id": "7D-kwjgXTeuz"
      }
    },
    {
      "cell_type": "code",
      "source": [
        "numbers = [2, 4, 5, 7, 5, 2, 6, 0, 5, 3, 3, 7, 8]"
      ],
      "metadata": {
        "id": "_mCYmbtZTzHw"
      },
      "execution_count": 3,
      "outputs": []
    },
    {
      "cell_type": "code",
      "source": [
        "for zahl in numbers:\n",
        "  print(zahl)"
      ],
      "metadata": {
        "id": "AIrNAC1LTzJq",
        "outputId": "d4864659-3ace-4584-da5a-af1c706f50af",
        "colab": {
          "base_uri": "https://localhost:8080/"
        }
      },
      "execution_count": 4,
      "outputs": [
        {
          "output_type": "stream",
          "name": "stdout",
          "text": [
            "2\n",
            "4\n",
            "5\n",
            "7\n",
            "5\n",
            "2\n",
            "6\n",
            "0\n",
            "5\n",
            "3\n",
            "3\n",
            "7\n",
            "8\n"
          ]
        }
      ]
    },
    {
      "cell_type": "markdown",
      "source": [
        "2. Ersetze jeden Wert in `numbers`, der größer ist als 5 mit dem Wert 10. Nutze dafür eine `for`-Schleife."
      ],
      "metadata": {
        "id": "qhytDwZCT4bF"
      }
    },
    {
      "cell_type": "code",
      "source": [
        "for i, zahl in enumerate(numbers):\n",
        "  if zahl > 5:\n",
        "    numbers[i] = 10\n",
        "\n",
        "numbers"
      ],
      "metadata": {
        "id": "AVeAG4VUUELN",
        "outputId": "eb871142-a48e-4ec7-f00d-35cb4b745162",
        "colab": {
          "base_uri": "https://localhost:8080/"
        }
      },
      "execution_count": 47,
      "outputs": [
        {
          "output_type": "execute_result",
          "data": {
            "text/plain": [
              "[2, 4, 5, 10, 5, 2, 10, 0, 5, 3, 3, 10, 10]"
            ]
          },
          "metadata": {},
          "execution_count": 47
        }
      ]
    },
    {
      "cell_type": "code",
      "source": [
        "assert numbers == [2, 4, 5, 10, 5, 2, 10, 0, 5, 3, 3, 10, 10]"
      ],
      "metadata": {
        "id": "xdmbZpcXUEOd"
      },
      "execution_count": 18,
      "outputs": []
    }
  ]
}