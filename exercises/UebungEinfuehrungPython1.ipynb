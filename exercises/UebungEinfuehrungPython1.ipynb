{
  "nbformat": 4,
  "nbformat_minor": 0,
  "metadata": {
    "colab": {
      "provenance": [],
      "authorship_tag": "ABX9TyPYyx2ldmxQXBan4G6f4Pgd",
      "include_colab_link": true
    },
    "kernelspec": {
      "name": "python3",
      "display_name": "Python 3"
    },
    "language_info": {
      "name": "python"
    }
  },
  "cells": [
    {
      "cell_type": "markdown",
      "metadata": {
        "id": "view-in-github",
        "colab_type": "text"
      },
      "source": [
        "<a href=\"https://colab.research.google.com/github/redadmiral/python-for-journalists/blob/main/exercises/UebungEinfuehrungPython1.ipynb\" target=\"_parent\"><img src=\"https://colab.research.google.com/assets/colab-badge.svg\" alt=\"Open In Colab\"/></a>"
      ]
    },
    {
      "cell_type": "markdown",
      "source": [
        "# Übung: Einführung in Python\n",
        "\n",
        "1. Welche Funktion haben Variablen beim Programmieren?\n"
      ],
      "metadata": {
        "id": "sXcgcLLlwu8_"
      }
    },
    {
      "cell_type": "markdown",
      "source": [],
      "metadata": {
        "id": "nHMF29GaywzW"
      }
    },
    {
      "cell_type": "markdown",
      "source": [
        "2. Was ist der Unterschied zwischen `=` und `==`?\n"
      ],
      "metadata": {
        "id": "bfc9Q0sHyxCa"
      }
    },
    {
      "cell_type": "markdown",
      "source": [],
      "metadata": {
        "id": "beWRuZuLyyYk"
      }
    },
    {
      "cell_type": "markdown",
      "source": [
        "3. Finde die Datentypen der folgenden Variablen heraus. \n",
        "  1. Überlege dabei zuerst, welcher Datentyp es sein sollte und schreib es hinter das `#` damit leitest du einen Kommentar ein und Python ignoriert die Zeile. \n",
        "  2. Gib alle Ergebnisse in der Zelle mit der `print()`-Funktion aus."
      ],
      "metadata": {
        "id": "k8yrXqv9yybx"
      }
    },
    {
      "cell_type": "code",
      "execution_count": null,
      "metadata": {
        "id": "vW1O3cCUwmXs"
      },
      "outputs": [],
      "source": [
        "#\n",
        "var1 = \"Ich bin ein Satz\"\n",
        "\n",
        "#\n",
        "var2 = 12\n",
        "\n",
        "#\n",
        "var3 = 14.5\n",
        "\n",
        "#\n",
        "var4 = 12 * 3.5\n",
        "\n",
        "#\n",
        "var5 = \"test\" == 'test'\n",
        "\n",
        "#\n",
        "var6 = str(var2)\n",
        "\n",
        "#\n",
        "var7 = var1 + str(var3)"
      ]
    },
    {
      "cell_type": "markdown",
      "source": [
        "## Boolsche Werte\n",
        "\n",
        "1. Finde heraus, welchen Boolschen Wert die folgenden Ausdrücke haben:"
      ],
      "metadata": {
        "id": "eT2a6RdZyZU8"
      }
    },
    {
      "cell_type": "code",
      "source": [
        "#\n",
        "bool1 = 1 > 3\n",
        "\n",
        "#\n",
        "bool2 = 4 == 4\n",
        "\n",
        "#\n",
        "bool3 = 5 >= 4\n",
        "\n",
        "#\n",
        "bool4 = \"Hans\" == \"Peter\"\n",
        "\n",
        "#\n",
        "bool5 = \"Hans\" == 'Hans' \n",
        "\n",
        "#\n",
        "bool6= \"5\" != 5\n",
        "\n",
        "#\n",
        "bool7 = 5.0 == 5"
      ],
      "metadata": {
        "id": "anuQAzA9zj-l"
      },
      "execution_count": null,
      "outputs": []
    },
    {
      "cell_type": "markdown",
      "source": [
        "# Listen\n",
        "\n",
        "1. Erstelle eine Liste `names` mit den Ausdrücken `Hans, Sabine, Kim und Irmgard.`\n",
        "2. Greife auf das erste Element der Liste zu.\n",
        "3. Greife auf das vorletze Element der Liste zu.\n",
        "4. Erstelle auf zwei verschiedene Arten eine Liste aus der Liste `names`, die die Einträge `Sabine, Kim und Irmgard` enthält.\n"
      ],
      "metadata": {
        "id": "20E4Csyk0YXx"
      }
    },
    {
      "cell_type": "code",
      "source": [],
      "metadata": {
        "id": "4Rmngns-2vIM"
      },
      "execution_count": null,
      "outputs": []
    },
    {
      "cell_type": "markdown",
      "source": [
        "5. Welcher ist der höchste Wert der Liste `values`? Mit welcher Funktion kannst du das herausfinden?\n",
        "6. Such im Internet nach einer Möglichkeit die Liste `values` zu sortieren."
      ],
      "metadata": {
        "id": "O5acwHB42vP6"
      }
    },
    {
      "cell_type": "code",
      "source": [
        "values = [1, 5, 8, 4, 7, 4, 7, 9, 2, 4, 6, 8]"
      ],
      "metadata": {
        "id": "sy4E3uJs3Icy"
      },
      "execution_count": null,
      "outputs": []
    },
    {
      "cell_type": "markdown",
      "source": [
        "# Dictionaries\n",
        "\n",
        "1. Warum heißen Dictionaries Dictionaries?"
      ],
      "metadata": {
        "id": "pIcyx_Fk3TUj"
      }
    },
    {
      "cell_type": "markdown",
      "source": [],
      "metadata": {
        "id": "JffFSwb03vRf"
      }
    },
    {
      "cell_type": "markdown",
      "source": [
        "2. Erstelle ein Dictionary aus der Liste `names` und der Liste `values`. Mach die Namen der Variablen zu den Keys. "
      ],
      "metadata": {
        "id": "QnNnI_LE3vUW"
      }
    },
    {
      "cell_type": "code",
      "source": [],
      "metadata": {
        "id": "5uzzH5DH4qzy"
      },
      "execution_count": null,
      "outputs": []
    },
    {
      "cell_type": "markdown",
      "source": [
        "3. Greif auf das erste Element der Liste `names` zu."
      ],
      "metadata": {
        "id": "kHLTtpOT4q6G"
      }
    },
    {
      "cell_type": "code",
      "source": [],
      "metadata": {
        "id": "MFxvUhkY40su"
      },
      "execution_count": null,
      "outputs": []
    },
    {
      "cell_type": "markdown",
      "source": [
        "4. Nun lösche die Liste `values` aus dem Dictionary.\n",
        "  1. Ist die Liste `values` noch in der Variable `values` gespeichert? Was denkst du?"
      ],
      "metadata": {
        "id": "PBoTSgc540zn"
      }
    },
    {
      "cell_type": "code",
      "source": [],
      "metadata": {
        "id": "RaWkNCnW5Dhc"
      },
      "execution_count": null,
      "outputs": []
    }
  ]
}