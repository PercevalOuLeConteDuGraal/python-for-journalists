{
  "nbformat": 4,
  "nbformat_minor": 0,
  "metadata": {
    "colab": {
      "provenance": [],
      "authorship_tag": "ABX9TyPoWujTzj8giltBc8MWxCsw",
      "include_colab_link": true
    },
    "kernelspec": {
      "name": "python3",
      "display_name": "Python 3"
    },
    "language_info": {
      "name": "python"
    }
  },
  "cells": [
    {
      "cell_type": "markdown",
      "metadata": {
        "id": "view-in-github",
        "colab_type": "text"
      },
      "source": [
        "<a href=\"https://colab.research.google.com/github/redadmiral/python-for-journalists/blob/main/exercises/UebungDataCleaningPandas.ipynb\" target=\"_parent\"><img src=\"https://colab.research.google.com/assets/colab-badge.svg\" alt=\"Open In Colab\"/></a>"
      ]
    },
    {
      "cell_type": "markdown",
      "source": [
        "## Übung Data Cleaning\n",
        "\n",
        "Zuerst lesen wir wieder den Datensatz mit den Hundenamen aus der letzten Übung ein. Nutze dafür den Datensatz der unter [https://data.stadt-zuerich.ch/dataset/sid_stapo_hundenamen_od1002/download/KUL100OD1002.csv](https://data.stadt-zuerich.ch/dataset/sid_stapo_hundenamen_od1002/download/KUL100OD1002.csv) liegt und die `pd.read_csv()`-Funktion.\n",
        "\n",
        "Speichere den Datensatz in der Variable `dognames`."
      ],
      "metadata": {
        "id": "fwc6C5icaqos"
      }
    },
    {
      "cell_type": "code",
      "execution_count": null,
      "metadata": {
        "id": "46qoSfMw_q0C"
      },
      "outputs": [],
      "source": [
        "import pandas as pd"
      ]
    },
    {
      "cell_type": "code",
      "source": [
        "assert dognames.size == 445739"
      ],
      "metadata": {
        "id": "Hh9OdXgKbFlw"
      },
      "execution_count": 78,
      "outputs": []
    },
    {
      "cell_type": "markdown",
      "source": [
        "2. In der letzen Übung haben wir uns bereits die Hundenamen angesehen. Dabei haben wir auch einen String gefunden der darauf hindeutet, dass es kein echter Hundename ist, sondern ein fehlender Wert. Welcher Wert war das?"
      ],
      "metadata": {
        "id": "6-9UATZabOAD"
      }
    },
    {
      "cell_type": "markdown",
      "source": [],
      "metadata": {
        "id": "hqLyoVfBbdFj"
      }
    },
    {
      "cell_type": "markdown",
      "source": [
        "3. Auch in der Spalte `GebDatHundJahr` sind fehlende Werte, die nicht als solche gekennzeichnet sind. Die fehlenden Werte sind nach der gleichen Systematik benannt wie in dem Datensatz im Video. Welcher Wert steht hier für den fehlenden Wert?\n",
        "\n",
        "Wie kannst du diesen Wert mit Pandas herausfinden?"
      ],
      "metadata": {
        "id": "_bTOxnZHbdvy"
      }
    },
    {
      "cell_type": "code",
      "source": [],
      "metadata": {
        "id": "oNZ072jiaMiV"
      },
      "execution_count": null,
      "outputs": []
    },
    {
      "cell_type": "markdown",
      "source": [
        "  4.1 Der fehlende Wert in der Spalte `GebDatHundJahr` ist 9999.\n",
        "\n",
        "  Erstelle eine Maske namens `mask_na_year` in der jede Zeile in der 9999 als  Geburtsjahr eingetragen ist, mit `True` versehen und die restlichen Zeilen mit `False` maskiert sind.\n",
        "\n"
      ],
      "metadata": {
        "id": "gQJJ8v1dcdPd"
      }
    },
    {
      "cell_type": "code",
      "source": [],
      "metadata": {
        "id": "_e96TlOfdEoF"
      },
      "execution_count": 80,
      "outputs": []
    },
    {
      "cell_type": "code",
      "source": [
        "assert mask_na_year.sum() == 8"
      ],
      "metadata": {
        "id": "Uslj7vIHdPyf"
      },
      "execution_count": 81,
      "outputs": []
    },
    {
      "cell_type": "markdown",
      "source": [
        "4.2 Benutze die Methode `.mask()`, um wie im Video die fehlenden Werte durch `pd.NA` zu ersetzen. Speichere das Ergebnis in die Variable `dognames_mask`."
      ],
      "metadata": {
        "id": "x0LU9aDbeJ9r"
      }
    },
    {
      "cell_type": "code",
      "source": [],
      "metadata": {
        "id": "2Yh2aq_DdalP"
      },
      "execution_count": 82,
      "outputs": []
    },
    {
      "cell_type": "code",
      "source": [
        "assert dognames_mask.isna().sum() == 8"
      ],
      "metadata": {
        "id": "9mOCWY0sed3e"
      },
      "execution_count": 83,
      "outputs": []
    },
    {
      "cell_type": "markdown",
      "source": [
        "4.2 Benutze die `.replace()`-Methode um die fehlenden Werte in der Spalte `HundenameText` (also die `?`) in `dognames` durch `pd.NA` zu ersetzen. Speichere das Ergebnis in `dognames_replace`."
      ],
      "metadata": {
        "id": "dVIEN5CBf3nM"
      }
    },
    {
      "cell_type": "code",
      "source": [],
      "metadata": {
        "id": "AFW9fbN4gN1N"
      },
      "execution_count": 84,
      "outputs": []
    },
    {
      "cell_type": "code",
      "source": [
        "assert dognames_replace.isna().sum() == 27"
      ],
      "metadata": {
        "id": "xNGA6Qu9ghy8"
      },
      "execution_count": 85,
      "outputs": []
    },
    {
      "cell_type": "markdown",
      "source": [
        "4.3 Ersetze jetzt die Spalte `GebDatHundJahr` durch die Series in der Variable `dognames_mask` und die Spalte `HundenameText` durch die Series in der Variable `dognames_replace`."
      ],
      "metadata": {
        "id": "Yf29feEGjhqx"
      }
    },
    {
      "cell_type": "code",
      "source": [],
      "metadata": {
        "id": "SyCeHSoFj9hg"
      },
      "execution_count": 86,
      "outputs": []
    },
    {
      "cell_type": "code",
      "source": [
        "assert dognames.isna().sum().sum() == 35\n",
        "assert dognames[\"GebDatHundJahr\"].isna().sum() == 8\n",
        "assert dognames[\"HundenameText\"].isna().sum() == 27"
      ],
      "metadata": {
        "id": "ZiGfBBAgkFn0"
      },
      "execution_count": 87,
      "outputs": []
    }
  ]
}