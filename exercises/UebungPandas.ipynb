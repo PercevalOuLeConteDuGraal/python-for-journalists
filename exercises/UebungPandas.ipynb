{
  "nbformat": 4,
  "nbformat_minor": 0,
  "metadata": {
    "colab": {
      "provenance": [],
      "authorship_tag": "ABX9TyOcSabkRPRV+VLvddAHl1th",
      "include_colab_link": true
    },
    "kernelspec": {
      "name": "python3",
      "display_name": "Python 3"
    },
    "language_info": {
      "name": "python"
    }
  },
  "cells": [
    {
      "cell_type": "markdown",
      "metadata": {
        "id": "view-in-github",
        "colab_type": "text"
      },
      "source": [
        "<a href=\"https://colab.research.google.com/github/redadmiral/python-for-journalists/blob/main/exercises/UebungPandas.ipynb\" target=\"_parent\"><img src=\"https://colab.research.google.com/assets/colab-badge.svg\" alt=\"Open In Colab\"/></a>"
      ]
    },
    {
      "cell_type": "markdown",
      "source": [
        "# Übung Einführung in Pandas\n",
        "\n",
        "1. Importiere die Bibliothek `pandas`. Nutze dafür das im Video besprochene Kürzel `pd`."
      ],
      "metadata": {
        "id": "yfzXd1Jmrvf1"
      }
    },
    {
      "cell_type": "code",
      "execution_count": null,
      "metadata": {
        "id": "qbHkUvT7rupv"
      },
      "outputs": [],
      "source": []
    },
    {
      "cell_type": "markdown",
      "source": [
        "2. Erstelle aus der Liste `cities` einen `DataFrame` mit dem Namen `cities_df`."
      ],
      "metadata": {
        "id": "jShNfErasP7W"
      }
    },
    {
      "cell_type": "code",
      "source": [
        "cities = [\"Nürnberg\", \"München\", \"Berlin\", \"Frankfurt\"]\n",
        "\n"
      ],
      "metadata": {
        "id": "z_Z5NtOUsds-"
      },
      "execution_count": null,
      "outputs": []
    },
    {
      "cell_type": "code",
      "source": [
        "# Verändere hier nichts, diese Zelle ist nur für deine Kontrolle.\n",
        "assert isinstance(cities_df, pd.DataFrame)\n",
        "assert cities_df.size == 4"
      ],
      "metadata": {
        "id": "omKzGLuss0Q7"
      },
      "execution_count": null,
      "outputs": []
    },
    {
      "cell_type": "markdown",
      "source": [
        "3. Benenne die Spalte mit den Stadtnamen in `names` um."
      ],
      "metadata": {
        "id": "_0ThwalBtIKH"
      }
    },
    {
      "cell_type": "code",
      "source": [],
      "metadata": {
        "id": "D3x6Td_91gby"
      },
      "execution_count": null,
      "outputs": []
    },
    {
      "cell_type": "code",
      "source": [
        "# Verändere hier nichts, diese Zelle ist nur für deine Kontrolle.\n",
        "assert \"names\" in cities_df.columns"
      ],
      "metadata": {
        "id": "-CKUcH1L1ge5"
      },
      "execution_count": null,
      "outputs": []
    },
    {
      "cell_type": "markdown",
      "source": [
        "4. Füge eine zweite Spalte mit den Einwohnerzahlen hinzu. Benenne sie in `population`."
      ],
      "metadata": {
        "id": "0hL1Sqox1wWc"
      }
    },
    {
      "cell_type": "code",
      "source": [
        "population = [518365, 1472000, 3645000, 753056]\n",
        "\n"
      ],
      "metadata": {
        "id": "RjKb6Zi-2BMd"
      },
      "execution_count": null,
      "outputs": []
    },
    {
      "cell_type": "code",
      "source": [
        "# Verändere hier nichts, diese Zelle ist nur für deine Kontrolle.\n",
        "assert cities_df.size == 8\n",
        "assert cities_df[\"population\"].mean() == 1597105.25"
      ],
      "metadata": {
        "id": "LM81Dhna2jH5"
      },
      "execution_count": null,
      "outputs": []
    },
    {
      "cell_type": "markdown",
      "source": [
        "5.1 Erstelle aus den beiden Listen ein Dictionary `cities_dict` mit den Keys `names` und `population`. In den Keys soll die jeweilige Liste gespeichert sein."
      ],
      "metadata": {
        "id": "r-P8kH__3COi"
      }
    },
    {
      "cell_type": "code",
      "source": [],
      "metadata": {
        "id": "zR_3EsAp3B8B"
      },
      "execution_count": null,
      "outputs": []
    },
    {
      "cell_type": "code",
      "source": [
        "# Verändere hier nichts, diese Zelle ist nur für deine Kontrolle.\n",
        "assert isinstance(cities_dict, dict)\n",
        "assert len(cities_dict.keys()) == 2\n",
        "assert sum(cities_dict[\"population\"])/4 == 1597105.25"
      ],
      "metadata": {
        "id": "R0Vruey_3thw"
      },
      "execution_count": null,
      "outputs": []
    },
    {
      "cell_type": "markdown",
      "source": [
        "5.2 Erstelle aus dem Dictionary `cities_dict` einen `DataFrame` mit dem Namen `cities_dict_df`."
      ],
      "metadata": {
        "id": "l2przBvi4IXN"
      }
    },
    {
      "cell_type": "code",
      "source": [],
      "metadata": {
        "id": "zBZexr_t4YaS"
      },
      "execution_count": null,
      "outputs": []
    },
    {
      "cell_type": "code",
      "source": [
        "# Verändere hier nichts, diese Zelle ist nur für deine Kontrolle.\n",
        "assert isinstance(cities_dict_df, pd.DataFrame)\n",
        "assert cities_dict_df.size == 8\n",
        "assert cities_dict_df[\"population\"].mean() == 1597105.25\n",
        "assert list(cities_dict_df.columns) == [\"names\", \"population\"]"
      ],
      "metadata": {
        "id": "bc9SJ25V4YdE"
      },
      "execution_count": null,
      "outputs": []
    },
    {
      "cell_type": "markdown",
      "source": [
        "6. Welche zwei Arten kennst du, um auf die Spalte `population` im Dataframe `cities_dict_df` zuzugreifen?"
      ],
      "metadata": {
        "id": "6jRHi5AT4jNC"
      }
    },
    {
      "cell_type": "code",
      "source": [],
      "metadata": {
        "id": "qYgGwYQA47mk"
      },
      "execution_count": null,
      "outputs": []
    },
    {
      "cell_type": "markdown",
      "source": [
        "7. Berechne die Summe aller Einwohner der vier Städte. Um die entsprechende Methode zu finden, suche im Internet oder in der [Dokumentation](https://pandas.pydata.org/pandas-docs/stable/reference/api/pandas.Series.html).\n",
        "\n",
        "Speichere die Zahl in der Variable `pop_total`."
      ],
      "metadata": {
        "id": "zOs5naRn59KQ"
      }
    },
    {
      "cell_type": "code",
      "source": [],
      "metadata": {
        "id": "98hxl_L16jQ9"
      },
      "execution_count": null,
      "outputs": []
    },
    {
      "cell_type": "code",
      "source": [
        "# Verändere hier nichts, diese Zelle ist nur für deine Kontrolle.\n",
        "assert pop_total == 6388421"
      ],
      "metadata": {
        "id": "QljOp29G6jTg"
      },
      "execution_count": null,
      "outputs": []
    },
    {
      "cell_type": "markdown",
      "source": [
        "8.1 Lade dir das [participants-Dataset](https://github.com/redadmiral/python-for-journalists/blob/main/datasets/participants.csv) aus dem `datasets` Ordner des Github-Repos herunter. Lade es dann hier in den Workspace hoch."
      ],
      "metadata": {
        "id": "Li3EgcsF8dIZ"
      }
    },
    {
      "cell_type": "code",
      "source": [
        "# Verändere hier nichts, diese Zelle ist nur für deine Kontrolle.\n",
        "import os\n",
        "assert \"participants.csv\" in os.listdir()"
      ],
      "metadata": {
        "id": "34wLl3WQ9Ub5"
      },
      "execution_count": null,
      "outputs": []
    },
    {
      "cell_type": "markdown",
      "source": [
        "8.2 Ließ das participants-Dataset mit pandas in die Variable `participants` ein."
      ],
      "metadata": {
        "id": "VQ8lNZiU8qpz"
      }
    },
    {
      "cell_type": "code",
      "source": [],
      "metadata": {
        "id": "ThE8WFDg8zQU"
      },
      "execution_count": null,
      "outputs": []
    },
    {
      "cell_type": "code",
      "source": [
        "# Verändere hier nichts, diese Zelle ist nur für deine Kontrolle.\n",
        "assert participants.size == 30\n",
        "assert participants[\"Value\"][10] == 58"
      ],
      "metadata": {
        "id": "nhwcgWRP83c2"
      },
      "execution_count": null,
      "outputs": []
    }
  ]
}