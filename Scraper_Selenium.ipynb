{
  "nbformat": 4,
  "nbformat_minor": 0,
  "metadata": {
    "colab": {
      "provenance": [],
      "authorship_tag": "ABX9TyN5FgUpztRIgyCorDmF7IrS",
      "include_colab_link": true
    },
    "kernelspec": {
      "name": "python3",
      "display_name": "Python 3"
    },
    "language_info": {
      "name": "python"
    }
  },
  "cells": [
    {
      "cell_type": "markdown",
      "metadata": {
        "id": "view-in-github",
        "colab_type": "text"
      },
      "source": [
        "<a href=\"https://colab.research.google.com/github/redadmiral/python-for-journalists/blob/main/Scraper_Selenium.ipynb\" target=\"_parent\"><img src=\"https://colab.research.google.com/assets/colab-badge.svg\" alt=\"Open In Colab\"/></a>"
      ]
    },
    {
      "cell_type": "markdown",
      "source": [
        "# Scraping mit Selenium\n",
        "\n",
        "Wir kennen zwei Möglichkeiten, Informationen aus dem Internet zu scrapen.\n",
        "\n",
        "Manche Internetseiten hängen sehr stark von Javascript (JS) ab, einer Programmiersprache, mit der man unter anderem Webseiten bauen kann. Manchmal wird die Website nicht fertig ausgeliefert, sondern der Server schickt nur den JS-Code, der dann im Browser ausgeführt wird. \n",
        "\n",
        "Der JS-Code lädt dann Informationen nach und baut das HTML-Dokument im Browser. Das Problem dabei ist: Wenn wir einen GET-Request machen, bekommen wir nur den JS-Code statt dem eigentlichen Seiteninhalt:"
      ],
      "metadata": {
        "id": "0dOXwn2DZPDz"
      }
    },
    {
      "cell_type": "code",
      "execution_count": 1,
      "metadata": {
        "id": "JX_zVX9fYqIW"
      },
      "outputs": [],
      "source": [
        "import requests\n",
        "\n",
        "response = requests.get(\"https://k9data.com/verify.asp?breed=1\")"
      ]
    },
    {
      "cell_type": "code",
      "source": [
        "response.content.decode(\"utf-8\")"
      ],
      "metadata": {
        "colab": {
          "base_uri": "https://localhost:8080/",
          "height": 126
        },
        "id": "46XHGc4Bbe5J",
        "outputId": "8bddde7f-3255-4ea9-b5e5-7a5b4ef6ca77"
      },
      "execution_count": 2,
      "outputs": [
        {
          "output_type": "execute_result",
          "data": {
            "text/plain": [
              "'<html><head><meta http-equiv=\"Content-Type\" content=\"text/html; charset=iso-8859-1\"><title>Error</title><LINK rel=\"stylesheet\" type=\"text/css\" href=\"ipedigree.css\"></head><body><p><table border=0 bgcolor=\"#000099\" cellspacing=0 cellpadding=10 width=\"100%\" ID=\"Table1\"><tr><td valign=top width=125><center><img src=\"gr_icon.jpg\" width=125 height=115></center></td><td valign=center><strong><a STYLE=\"text-decoration: none\" href=\"default.asp\"><font color=\"#ffffff\" size=\"6\" face=\"verdana\">K9data.com</a></font></strong></td><td align=center><font color=\"#ffffff\" size=\"4\" face=\"verdana\"><p><strong>Golden Retriever</strong></p><p><font color=\"#ffffff\" size=\"2\" face=\"verdana\">Looking for a Golden Retriever puppy? <a href=\"https://www.grca.org/find-a-golden/\" style=\"color: #33CCFF\">Click here</a>.</font><p></font></td></tr></table></p><script src=\"//pmetrics.performancing.com/js\" type=\"text/javascript\"></script><script type=\"text/javascript\">try{ clicky.init(17263); }catch(e){}</script><noscript><p><img alt=\"Performancing Metrics\" width=\"1\" height=\"1\" src=\"//pmetrics.performancing.com/17263ns.gif\" /></p></noscript><p>Error: Missing dog name</p><p><a href=default.asp>Return to home page</a></p></body></html>'"
            ],
            "application/vnd.google.colaboratory.intrinsic+json": {
              "type": "string"
            }
          },
          "metadata": {},
          "execution_count": 2
        }
      ]
    },
    {
      "cell_type": "markdown",
      "source": [
        "Um diese Seiten scrapen zu können, brauchen wir eine Möglichkeit, um den JS-Code auszuführen und die Seite zu rendern.\n",
        "\n",
        "## Das Notebook vorbereiten\n",
        "\n",
        "Dafür gibt es die Möglichkeit einen Browser wie Chrome oder Firefox mit Python auszuführen und fernzusteuern. Dafür brauchen wir einerseits den Browser, wir verwenden hier Chrome, und den chromdriver, der eine Schnittstelle zwischen Python und Chrome bereitstellt um den Browser steuern zu können.\n",
        "\n",
        "Außerdem benutzen wir Selenium, was eine Bibliothek in Python ist, um wiederum mit dem Chromedriver arbeiten zu können.\n",
        "\n",
        "In der folgenden Box installieren wir zuerst Selenium, laden uns die aktuelle Version von Chrome herunter, installieren diese in unserem Notebook und geben uns die aktuelle Version aus. "
      ],
      "metadata": {
        "id": "TL936tr1sr3b"
      }
    },
    {
      "cell_type": "code",
      "source": [
        "!pip install selenium\n",
        "!wget https://dl.google.com/linux/direct/google-chrome-stable_current_amd64.deb\n",
        "!apt install ./google-chrome-stable_current_amd64.deb"
      ],
      "metadata": {
        "id": "LG3FYPLMeMvu"
      },
      "execution_count": null,
      "outputs": []
    },
    {
      "cell_type": "markdown",
      "source": [
        "Als nächstes müssen wir die korrekte Version des chromedrivers herunterladen. Diese ist immer abhängig von der verwendeten Version von Chrome. Die installierte Version von Chrome könnt ihr über diesen Befehl ausgeben:"
      ],
      "metadata": {
        "id": "rjHrMucXuIe4"
      }
    },
    {
      "cell_type": "code",
      "source": [
        "!google-chrome --version"
      ],
      "metadata": {
        "colab": {
          "base_uri": "https://localhost:8080/"
        },
        "id": "5CoF9bpzutoq",
        "outputId": "15992a50-0f94-42a7-cba3-0d4dc929a1f6"
      },
      "execution_count": 4,
      "outputs": [
        {
          "output_type": "stream",
          "name": "stdout",
          "text": [
            "Google Chrome 110.0.5481.177 \n"
          ]
        }
      ]
    },
    {
      "cell_type": "markdown",
      "source": [
        "Jetzt wo ich dieses Notebook schreibe, ist die aktuelle Version 110.0.5481.177. Wenn ihr das Notebook ausführt, ist sie wahrscheinlich neuer. \n",
        "\n",
        "Auf der Seite [chromedriver.chromium.org](https://chromedriver.chromium.org/downloads) können wir die Version auswählen, die wir brauchen. Wichtig ist dafür die erste Zahl, in meinem Fall also die 110. Mit rechtsklick könnt ihr den Link kopieren und fügt ihn in der nächsten Zeile hinter `!wget` ein. Der Link sollte so ähnlich aussehen, wie der Link unten, nur die Versionsnummer sollte eine andere sein."
      ],
      "metadata": {
        "id": "PxYITfisuxlt"
      }
    },
    {
      "cell_type": "code",
      "source": [
        "!wget https://chromedriver.storage.googleapis.com/110.0.5481.77/chromedriver_linux64.zip\n",
        "!unzip chromedriver_linux64.zip"
      ],
      "metadata": {
        "colab": {
          "base_uri": "https://localhost:8080/"
        },
        "id": "uqBPhQn9pc66",
        "outputId": "47018fff-860d-4540-dcfa-5f9bc9d9d1bd"
      },
      "execution_count": 5,
      "outputs": [
        {
          "output_type": "stream",
          "name": "stdout",
          "text": [
            "--2023-03-01 10:34:42--  https://chromedriver.storage.googleapis.com/110.0.5481.77/chromedriver_linux64.zip\n",
            "Resolving chromedriver.storage.googleapis.com (chromedriver.storage.googleapis.com)... 142.251.2.128, 2607:f8b0:4023:c0d::80\n",
            "Connecting to chromedriver.storage.googleapis.com (chromedriver.storage.googleapis.com)|142.251.2.128|:443... connected.\n",
            "HTTP request sent, awaiting response... 200 OK\n",
            "Length: 7396711 (7.1M) [application/zip]\n",
            "Saving to: ‘chromedriver_linux64.zip’\n",
            "\n",
            "\rchromedriver_linux6   0%[                    ]       0  --.-KB/s               \rchromedriver_linux6 100%[===================>]   7.05M  --.-KB/s    in 0.04s   \n",
            "\n",
            "2023-03-01 10:34:42 (163 MB/s) - ‘chromedriver_linux64.zip’ saved [7396711/7396711]\n",
            "\n",
            "Archive:  chromedriver_linux64.zip\n",
            "  inflating: chromedriver            \n",
            "  inflating: LICENSE.chromedriver    \n"
          ]
        }
      ]
    },
    {
      "cell_type": "markdown",
      "source": [
        "Jetzt haben wir alles installiert was wir brauchen.\n",
        "\n",
        "Als nächstes richten wir den Browser ein. Wir müssen ihm einige Optionen mitgeben, damit er in einem Notebook funktioniert. Das machen wir über die `options.add_argument()`-Methode.\n",
        "\n",
        "Die beiden Optionen, die wir mitgeben sind:\n",
        "\n",
        "- `--headless`: Der Browser wird ausgeführt, ohne dass ein sichtbares Fenster aufgeht. Das müssen wir machen, weil das Notebook kein Browserfenster darstellen kann.\n",
        "- `--no-sandbox`: Dieses Flag brauchen wir, weil wir Chrome mit Admin-Rechten ausführen. Mit diesem Flag können Websites direkt auf das Notebook zugreifen, das ist hier nicht schlimm, weil die Umgebung in der das Notebook läuft ohnehin gelöscht wird, wenn wir sie nicht mehr benutzen. Benutzt dieses Flag nicht, wenn ihr es lokal auf eurem Rechner ausführt!\n",
        "\n",
        "Anschließend starten wir Chrome und übergeben unsere Optionen und den Pfad zum chromedriver. Wir speichern die aktuelle Chrome-Session in einer Variable `browser`."
      ],
      "metadata": {
        "id": "M1OWu0ClvSua"
      }
    },
    {
      "cell_type": "code",
      "source": [
        "from selenium import webdriver\n",
        "\n",
        "options = webdriver.ChromeOptions()\n",
        "options.add_argument('--headless')\n",
        "options.add_argument('--no-sandbox')\n",
        "\n",
        "browser = webdriver.Chrome(executable_path='chromedriver',options=options)"
      ],
      "metadata": {
        "id": "IlRUBAFNfXm7"
      },
      "execution_count": 10,
      "outputs": []
    },
    {
      "cell_type": "markdown",
      "source": [
        "Jetzt können wir anfangen mit dem Browser Seiten aufzurufen. Als erstes gehen wir auf die Startseite von der Hundedatenbank [k9data.com](http://k9data.com).\n",
        "\n",
        "Mit dem `title`-Attribut können wir uns ausgeben lassen, was gerade in der Kopfzeile des Browsers steht. Damit können wir kurz kontrollieren, ob wir auch auf der Seite sind auf die wir wollen."
      ],
      "metadata": {
        "id": "7Z0v4h_UxbsI"
      }
    },
    {
      "cell_type": "code",
      "source": [
        "browser.get(\"https://k9data.com/\")\n",
        "browser.title"
      ],
      "metadata": {
        "colab": {
          "base_uri": "https://localhost:8080/",
          "height": 36
        },
        "id": "fmePD3k5zVFj",
        "outputId": "79bef672-bf08-481c-db3b-048065ffa700"
      },
      "execution_count": 14,
      "outputs": [
        {
          "output_type": "execute_result",
          "data": {
            "text/plain": [
              "'K9DATA.COM Home Page'"
            ],
            "application/vnd.google.colaboratory.intrinsic+json": {
              "type": "string"
            }
          },
          "metadata": {},
          "execution_count": 14
        }
      ]
    },
    {
      "cell_type": "markdown",
      "source": [
        "Weil wir das Browserfenster nicht sehen können, ist es ein bisschen awkward auf der Seite zu navigieren. Immerhin können wir mit der `.save_screenshot()`-Methode Screenshots speichern, wie der Browser gerade aussieht:"
      ],
      "metadata": {
        "id": "u1Vksj8Ezr0u"
      }
    },
    {
      "cell_type": "code",
      "source": [
        "browser.save_screenshot(\"startseite.png\")"
      ],
      "metadata": {
        "id": "wkrz72qSzoqQ"
      },
      "execution_count": null,
      "outputs": []
    },
    {
      "cell_type": "markdown",
      "source": [
        "Der Screenshot `startseite.png` ist jetzt links in unserem Environment gespeichert. Wenn wir darauf klicken, sehen wir das wir tatsächlich auf der Startseite sind.\n",
        "\n",
        "Als nächstes müssen wir einen Hundenamen in das Suchfeld eingeben. Dafür wählen wir zuerst das Suchfeld aus. Das geht mit der `find_element()`-Methode. [In der Dokumentation](https://selenium-python.readthedocs.io/locating-elements.html) sind verschiedene Möglichkeiten aufgeführt, wie wir das Element auswählen können:\n",
        "\n",
        "```python\n",
        "find_element(By.ID, \"id\")\n",
        "find_element(By.NAME, \"name\")\n",
        "find_element(By.XPATH, \"xpath\")\n",
        "find_element(By.LINK_TEXT, \"link text\")\n",
        "find_element(By.PARTIAL_LINK_TEXT, \"partial link text\")\n",
        "find_element(By.TAG_NAME, \"tag name\")\n",
        "find_element(By.CLASS_NAME, \"class name\")\n",
        "find_element(By.CSS_SELECTOR, \"css selector\")\n",
        "```\n",
        "\n",
        "In den Entwicklertools im Browser sehen wir, dass das Element die ID `name` hat, was meistens die einfachste Art ist solch ein Element zu wählen. Die ausgewählte Suchleiste können wir in einer eigenen Variable speichern,, die wir `input_field` nennen."
      ],
      "metadata": {
        "id": "rcsp3mVA0UZy"
      }
    },
    {
      "cell_type": "code",
      "source": [
        "from selenium.webdriver.common.by import By\n",
        "\n",
        "input_field = browser.find_element(By.ID, \"name\")\n",
        "input_field"
      ],
      "metadata": {
        "colab": {
          "base_uri": "https://localhost:8080/"
        },
        "id": "eOq5ciMc1YyP",
        "outputId": "9881421e-1d37-4ba5-a2de-8df680016890"
      },
      "execution_count": 15,
      "outputs": [
        {
          "output_type": "execute_result",
          "data": {
            "text/plain": [
              "<selenium.webdriver.remote.webelement.WebElement (session=\"03f8a87a5e2452014a4230afd34a0f35\", element=\"317569d6-8d31-4da5-b5f1-8f26677d1fbb\")>"
            ]
          },
          "metadata": {},
          "execution_count": 15
        }
      ]
    },
    {
      "cell_type": "markdown",
      "source": [
        "Mit der `send_keys()`-Methode können wir etwas in die Suchleiste eintippen. Hier suchen wir nach allen Hunden, die Bello heißen:"
      ],
      "metadata": {
        "id": "r8Fp_VrC1sTg"
      }
    },
    {
      "cell_type": "code",
      "source": [
        "input_field.send_keys(\"Bello\")"
      ],
      "metadata": {
        "id": "f5B-UyP812al"
      },
      "execution_count": 16,
      "outputs": []
    },
    {
      "cell_type": "markdown",
      "source": [
        "Und wenn wir jetzt einen Screenshot von der Seite machen, sehen wir dass in der Suchleiste jetzt tatsächlich der Name \"Bello\" steht."
      ],
      "metadata": {
        "id": "yE_k2WTk138x"
      }
    },
    {
      "cell_type": "code",
      "source": [
        "browser.save_screenshot(\"suchleiste_ausgefuellt.png\")"
      ],
      "metadata": {
        "colab": {
          "base_uri": "https://localhost:8080/"
        },
        "id": "SrCrYdI52GyK",
        "outputId": "3d222241-5897-4d07-de45-b2d19a63c6d3"
      },
      "execution_count": 17,
      "outputs": [
        {
          "output_type": "execute_result",
          "data": {
            "text/plain": [
              "True"
            ]
          },
          "metadata": {},
          "execution_count": 17
        }
      ]
    },
    {
      "cell_type": "markdown",
      "source": [
        "Um auf den Search-Button zu klicken, müssen wir ihn wieder zuerst auswählen. Leider hat der Search-Button keine ID. Deshalb müssen wir den XPATH nutzen. Der XPATH ist eine Art den Weg in einem HTML-Dokument zu einem gewissen Element zu beschreiben. \n",
        "\n",
        "Zum Glück müssen wir ihn uns nicht selbst suchen, sondern können ihn uns direkt aus den Entwicklertools ausgeben lassen, indem wir rechts auf das Element im Elements-Tab klicken und \"Copy > Copy full XPath\" auswählen.\n",
        "\n",
        "Diesen übergeben wir wieder als Parameter an die `find_element()`-Methode."
      ],
      "metadata": {
        "id": "wRhQAWcf2JpQ"
      }
    },
    {
      "cell_type": "code",
      "source": [
        "search_button = browser.find_element(By.XPATH, \"/html/body/form/table/tbody/tr[1]/td/input[2]\")"
      ],
      "metadata": {
        "id": "MnGCDAxt3HZ5"
      },
      "execution_count": 18,
      "outputs": []
    },
    {
      "cell_type": "markdown",
      "source": [
        "Jetzt müssen wir nur noch auf den Button klicken: Das machen wir mit der `click()`-Methode:"
      ],
      "metadata": {
        "id": "V6t1-dMK3LhE"
      }
    },
    {
      "cell_type": "code",
      "source": [
        "search_button.click()"
      ],
      "metadata": {
        "id": "of-YBYfc3lTG"
      },
      "execution_count": 19,
      "outputs": []
    },
    {
      "cell_type": "markdown",
      "source": [
        "Wenn wir das in unserem Browser machen, müssen wir kurz warten bis die neue Seite geladen hat. Nachdem wir hier den Browser nicht sehen können, müssen wir dem Browser explizit sagen, dass er warten muss bis die neue Seite geladen hat.\n",
        "\n",
        "Damit der Browser weiß, dass eine Seite fertig geladen ist, müssen wir ihm ein Element verraten, dass auf der neu geladenen Seite auftaucht. Eine Möglichkeit ist der Link \"Click here to return to the home page\" auf der Ergebnis-Seite. \n",
        "\n",
        "Dafür gibt es die `WebDriverWait()`-Klasse. Wir übergeben ihr zuerst unseren Browser und eine Zeit in Sekunden, die er maximal warten soll. Mit der `until()`-Methode können wir dann verschiedene Szenarien übergeben, ab wann die Seite geladen ist. Für unseren Case passt `.presence_of_element_located()` aus dem `expected_conditions` am besten. \n",
        "\n",
        "In der [Dokumentation](https://selenium-python.readthedocs.io/waits.html#explicit-waits) finden wir noch eine ganze Reihe anderer Möglichkeiten, wie wir den Browser auf bestimmte Elemente warten lassen können.\n",
        "\n",
        "Das Element das erscheinen muss, übergeben wir genauso wie oben als wir die Suchleiste und den Search-Button gesucht haben, nur dieses Mal mit dem Text, der im Link steht:"
      ],
      "metadata": {
        "id": "xgAn8Bv73rP_"
      }
    },
    {
      "cell_type": "code",
      "source": [
        "from selenium.webdriver.support.wait import WebDriverWait\n",
        "from selenium.webdriver.support import expected_conditions as EC\n",
        "\n",
        "WebDriverWait(browser, 20).until(EC.presence_of_element_located((By.LINK_TEXT, \"Click here to return to the home page\")))"
      ],
      "metadata": {
        "colab": {
          "base_uri": "https://localhost:8080/"
        },
        "id": "sBShKInwQO3q",
        "outputId": "a164736c-552c-40c8-fc55-fe1ab4c906e1"
      },
      "execution_count": 20,
      "outputs": [
        {
          "output_type": "execute_result",
          "data": {
            "text/plain": [
              "<selenium.webdriver.remote.webelement.WebElement (session=\"03f8a87a5e2452014a4230afd34a0f35\", element=\"5a6f486e-0b78-4384-85d7-57a7b98c8654\")>"
            ]
          },
          "metadata": {},
          "execution_count": 20
        }
      ]
    },
    {
      "cell_type": "markdown",
      "source": [
        "Wenn diese Methode durchgeladen ist, können wir uns einen Screenshot ansehen, um zu sehen, wie die Ergebnisseite aussieht und/oder uns den Title der Homepage ansehen."
      ],
      "metadata": {
        "id": "jSLTSuzFQXMH"
      }
    },
    {
      "cell_type": "code",
      "source": [
        "browser.save_screenshot(\"neue_seite.png\")\n",
        "\n",
        "browser.title"
      ],
      "metadata": {
        "colab": {
          "base_uri": "https://localhost:8080/",
          "height": 36
        },
        "id": "c-JrezFVQWdl",
        "outputId": "2a97055f-8839-4686-d54c-14d5eea4dd00"
      },
      "execution_count": 21,
      "outputs": [
        {
          "output_type": "execute_result",
          "data": {
            "text/plain": [
              "'Resolve name: Bello'"
            ],
            "application/vnd.google.colaboratory.intrinsic+json": {
              "type": "string"
            }
          },
          "metadata": {},
          "execution_count": 21
        }
      ]
    },
    {
      "cell_type": "markdown",
      "source": [
        "Über das `.page-source`-Attribut können wir uns den HTML-Code der gerenderten Seite ausgeben lassen:"
      ],
      "metadata": {
        "id": "o-_XNHsnQnVw"
      }
    },
    {
      "cell_type": "code",
      "source": [
        "browser.page_source"
      ],
      "metadata": {
        "colab": {
          "base_uri": "https://localhost:8080/",
          "height": 108
        },
        "id": "G1hP25J83VHr",
        "outputId": "83e0faca-cef8-40e9-c31c-8bc58bb3c408"
      },
      "execution_count": 22,
      "outputs": [
        {
          "output_type": "execute_result",
          "data": {
            "text/plain": [
              "'<html><head><meta http-equiv=\"Content-Type\" content=\"text/html; charset=iso-8859-1\"><title>Resolve name: Bello</title></head><body><p><table border=\"0\" bgcolor=\"#000099\" cellspacing=\"0\" cellpadding=\"10\" width=\"100%\" id=\"Table1\"><tbody><tr><td valign=\"top\" width=\"125\"><center><img src=\"gr_icon.jpg\" width=\"125\" height=\"115\"></center></td><td valign=\"center\"><strong><a style=\"text-decoration: none\" href=\"default.asp\"><font color=\"#ffffff\" size=\"6\" face=\"verdana\">K9data.com</font></a></strong></td><td align=\"center\"><font color=\"#ffffff\" size=\"4\" face=\"verdana\"><p><strong>Golden Retriever</strong></p><p><font color=\"#ffffff\" size=\"2\" face=\"verdana\">Looking for a Golden Retriever puppy? <a href=\"https://www.grca.org/find-a-golden/\" style=\"color: #33CCFF\">Click here</a>.</font></p></font><p><font color=\"#ffffff\" size=\"4\" face=\"verdana\"></font></p></td></tr></tbody></table></p><script src=\"//pmetrics.performancing.com/js\" type=\"text/javascript\"></script><script type=\"text/javascript\">try{ clicky.init(17263); }catch(e){}</script><noscript><p><img alt=\"Performancing Metrics\" width=\"1\" height=\"1\" src=\"//pmetrics.performancing.com/17263ns.gif\" /></p></noscript><p>Is one of the Golden Retrievers listed below the dog you were looking for?  If so, click on that dog\\'s name. If not, you can add this dog to the database or submit a new search term.</p><p><a href=\"pedigree.asp?ID=1249652\">Abbybell Odin Jack (2022)</a><br><a href=\"pedigree.asp?ID=989223\">Alphinbrook Sleigh Bells of Canina</a><br><a href=\"pedigree.asp?ID=340870\">Amanda Bell Of Basil (1991)</a><br><a href=\"pedigree.asp?ID=1079288\">Amore Bello Keeper of Our Hearts (2020)</a><br><a href=\"pedigree.asp?ID=524118\">Angelic Magnolia Maggie Abello (2010)</a><br><a href=\"pedigree.asp?ID=120059\">Angelus Bell of Sound Hada</a><br><a href=\"pedigree.asp?ID=1075734\">Annabell of Cedar Springs (1978)</a><br><a href=\"pedigree.asp?ID=6135\">Annabell Of Elsiville</a><br><a href=\"pedigree.asp?ID=611487\">Annabell of Forest Gump (1995)</a><br><a href=\"pedigree.asp?ID=1036732\">Annabell Of Shoot Flying Hill (1972)</a><br><a href=\"pedigree.asp?ID=487419\">Augusta Bell of Thundering Heart (2011)</a><br><a href=\"pedigree.asp?ID=1151081\">U-CH PN UR01 IABCA INT CH    Aurelia Chrysanthos Bell Of The Ball SPOT ON, CGCA, TKN (2019)</a><br><a href=\"pedigree.asp?ID=1045152\">Bbg And Hunnydew\\'s Bello Amore Nicola (2019)</a><br><a href=\"pedigree.asp?ID=774066\">BBG\\'s Mabel Love (2016)</a><br><a href=\"pedigree.asp?ID=1035161\">Beauty Bell Of Eagle Hill</a><br><a href=\"pedigree.asp?ID=539353\">Belloa of Sangmu House</a><br><a href=\"pedigree.asp?ID=718374\">Bell Of Antrim</a><br><a href=\"pedigree.asp?ID=3757\">F.T.L Bell Of Coles Oak</a><br><a href=\"pedigree.asp?ID=392989\">BELL OF GLANRHYD</a><br><a href=\"pedigree.asp?ID=913292\">Bell of Joy Sunshine Mrija (2018)</a><br><a href=\"pedigree.asp?ID=243194\">Bell Of Lutcher (1966)</a><br><a href=\"pedigree.asp?ID=1030764\">Bell of my Heart Anima Candida (2018)</a><br><a href=\"pedigree.asp?ID=702187\">Bell of the Night</a><br><a href=\"pedigree.asp?ID=286987\">Bell of the West</a><br><a href=\"pedigree.asp?ID=21894\">Am. CH. Bell Of Wickenburg CDX (1951)</a><br><a href=\"pedigree.asp?ID=198945\">Bell Oktave Ally (2002)</a><br><a href=\"pedigree.asp?ID=198944\">Bell Oktave Amber Ginger (2002)</a><br><a href=\"pedigree.asp?ID=198946\">Bell Oktave Amigo (2002)</a><br><a href=\"pedigree.asp?ID=198947\">Bell Oktave Amor (2002)</a><br><a href=\"pedigree.asp?ID=198948\">Bell Oktave Annie (2002)</a><br><a href=\"pedigree.asp?ID=198886\">Int.FT.Ch. Bell Oktave Apollo (2002)</a><br><a href=\"pedigree.asp?ID=198949\">Bell Oktave Aron (2002)</a><br><a href=\"pedigree.asp?ID=198950\">Bell Oktave Asco (2002)</a><br><a href=\"pedigree.asp?ID=198951\">Bell Oktave Athos (2002)</a><br><a href=\"pedigree.asp?ID=646179\">Int.FTCH Bell Oktave Benjamin (2013)</a><br><a href=\"pedigree.asp?ID=700884\">Bell Oktave Bon Bon (2013)</a><br><a href=\"pedigree.asp?ID=828700\">Bell Oktave B-Pollo</a><br><a href=\"pedigree.asp?ID=942719\">Bell Oktave Clooney (2016)</a><br><a href=\"pedigree.asp?ID=942177\">Bell Oktave Cooper (2015)</a><br><a href=\"pedigree.asp?ID=948635\">Bell Oktave Cosmo (2016)</a><br><a href=\"pedigree.asp?ID=1180049\">BELLONA Bogoloco FCI (2021)</a><br><a href=\"pedigree.asp?ID=994072\">Bello Of House Mane (2019)</a><br><a href=\"pedigree.asp?ID=1264678\">Bellota del Valle de Atriz (2020)</a><br><a href=\"pedigree.asp?ID=209172\">Bellota Ilozzero (2006)</a><br><a href=\"pedigree.asp?ID=587533\">PACH2 Bello\\'s Top Of The List CD RN AX MXJ MXP6 MXPS MJP12 MJPC PAX2 XF MFP MFPB T2BP CGC PADHF (2010)</a><br><a href=\"pedigree.asp?ID=217170\">Bello von der Bockster Retriever Ranch (1995)</a><br><a href=\"pedigree.asp?ID=1110738\">Benntos Bluebells of Scotland</a><br><a href=\"pedigree.asp?ID=1278737\">Bentos Bluebells Of Scotland (2019)</a><br><a href=\"pedigree.asp?ID=1001663\">Blaza Con Cabello De Oro (1969)</a><br><a href=\"pedigree.asp?ID=258810\">Bluebell of Anavy (2007)</a><br><a href=\"pedigree.asp?ID=256739\">bluebell of far and away (2006)</a><br><a href=\"pedigree.asp?ID=154214\">BLUEBELL OF KOMADA JP</a><br><a href=\"pedigree.asp?ID=342851\">Bluebell of Moonlight Meadows (2008)</a><br><a href=\"pedigree.asp?ID=1023194\">Bonesgate Bellona</a><br><a href=\"pedigree.asp?ID=9581\">Bonnie Bell Of Metamora (1985)</a><br><a href=\"pedigree.asp?ID=32550\">Bonnie Island Bells Of Amber CD TD (1985)</a><br><a href=\"pedigree.asp?ID=1057538\">Bramhills June Bells Of Benrowan</a><br><a href=\"pedigree.asp?ID=85878\">Branjoy Bell of Bow</a><br><a href=\"pedigree.asp?ID=620471\">Brookshire\\'s Bells on her Toes CD CGCA (2012)</a><br><a href=\"pedigree.asp?ID=950111\">Cabellou\\'s Paddy (2018)</a><br><a href=\"pedigree.asp?ID=950644\">Cabellou\\'s Pastis (2018)</a><br><a href=\"pedigree.asp?ID=950108\">Cabellou\\'s Peanut (2018)</a><br><a href=\"pedigree.asp?ID=950110\">Cabellou\\'s Penny (2018)</a><br><a href=\"pedigree.asp?ID=950106\">Cabellou\\'s Perfect Blend (2018)</a><br><a href=\"pedigree.asp?ID=950105\">Cabellou\\'s Princess of Kass (2018)</a><br><a href=\"pedigree.asp?ID=952400\">Cabellou\\'s Proud Jaina (2018)</a><br><a href=\"pedigree.asp?ID=950113\">Cabellou\\'s Pure Opium (2018)</a><br><a href=\"pedigree.asp?ID=1036721\">Campbell Of Hampshire (1970)</a><br><a href=\"pedigree.asp?ID=63428\">Casadeloro Midas Bellodorato (1993)</a><br><a href=\"pedigree.asp?ID=379903\">Casadeloro\\'s There\\'s Always Room For Bello (2010)</a><br><a href=\"pedigree.asp?ID=2526\">Eng. CH. Chiming Bells Of Cressex (1969)</a><br><a href=\"pedigree.asp?ID=474937\">Chrys-Haefen Bell Of The Ball (2007)</a><br><a href=\"pedigree.asp?ID=622621\">?JCH Cicciobello de Ria Vela (2013)</a><br><a href=\"pedigree.asp?ID=995427\">Cinnamon Bello (1967)</a><br><a href=\"pedigree.asp?ID=1037591\">Crissy Sue Bell Of Tahoe (1990)</a><br><a href=\"pedigree.asp?ID=113650\">Crystal Bell Of Baytown</a><br><a href=\"pedigree.asp?ID=1260432\">Dawn Heir\\'s Bello Forte Samson Romani (2012)</a><br><a href=\"pedigree.asp?ID=287698\">Delmarva\\'s Rumbell Of Thunder (2008)</a><br><a href=\"pedigree.asp?ID=461854\">Dixie Bell Of Baltimore (1979)</a><br><a href=\"pedigree.asp?ID=209315\">Dixie Bell Of Barker\\'s Bend (1945)</a><br><a href=\"pedigree.asp?ID=1088090\">Dodi Of Campobello (1969)</a><br><a href=\"pedigree.asp?ID=48845\">Donnybrooks Bell of the Ball (1995)</a><br><a href=\"pedigree.asp?ID=956189\">Duckflight Firefox of Bell Oktave (2018)</a><br><a href=\"pedigree.asp?ID=919790\">Eck Bell Of The Yukon (1949)</a><br><a href=\"pedigree.asp?ID=105790\">Edinglas Bluebells of Scotland CanCD</a><br><a href=\"pedigree.asp?ID=884602\">Ell?s Bells of Sassafras (2017)</a><br><a href=\"pedigree.asp?ID=840015\">INT.CH, KOR CH Fabulocity Bluebell of Runy House (2015)</a><br><a href=\"pedigree.asp?ID=550917\">Firemark\\'s Bell on Wheels (2011)</a><br><a href=\"pedigree.asp?ID=301280\">Floprym Bellona (2007)</a><br><a href=\"pedigree.asp?ID=863827\">Galatea\\'s Bell Of Black Sheep Farm (2009)</a><br><a href=\"pedigree.asp?ID=1117860\">Ginger Bell Of Deoctobr It (2008)</a><br><a href=\"pedigree.asp?ID=711412\">Goldenarmy\\'s Bell of Memories (2016)</a><br><a href=\"pedigree.asp?ID=1046501\">Golden Bell of Burmiak</a><br><a href=\"pedigree.asp?ID=36415\">Golden Bell of Dewstraw</a><br><a href=\"pedigree.asp?ID=434789\">CN.CH GOLDEN BELL OF HOTDOG KENNEL (2007)</a><br><a href=\"pedigree.asp?ID=60770\">Golden Bell of Tydu</a><br><a href=\"pedigree.asp?ID=382659\">Golden Days Our Dog Bello (2009)</a><br><a href=\"pedigree.asp?ID=248995\">Golden Lula Bell of Lindy Lane (1977)</a><br><a href=\"pedigree.asp?ID=257802\">Goldruls Key En Es Bello (2006)</a><br><a href=\"pedigree.asp?ID=187259\">Greenglen Bellona (1978)</a><br><a href=\"pedigree.asp?ID=100693\">HANNAH\\'S LIBERTY BELL OF TEXAS (2002)</a><br><a href=\"pedigree.asp?ID=1696\">Heatherbell of Arbrook</a><br><a href=\"pedigree.asp?ID=492076\">NTG INT KOR Ch Hells Bells Of Golden Love House (2009)</a><br><a href=\"pedigree.asp?ID=47498\">High Endeavour\\'s Nosy Bell Of Church (1988)</a><br><a href=\"pedigree.asp?ID=577320\">High Winds Southern Bell Of Linden (2008)</a><br><a href=\"pedigree.asp?ID=8006\">III D Dixie Bell Of Irish LN (1991)</a><br><a href=\"pedigree.asp?ID=952506\">Jake Kimosabe Bello (2004)</a><br><a href=\"pedigree.asp?ID=398795\">Jason Kimosabe Bello (1981)</a><br><a href=\"pedigree.asp?ID=13469\">Jason Kimosabe Bello II (1995)</a><br><a href=\"pedigree.asp?ID=331220\">Jazz (Cabello)</a><br><a href=\"pedigree.asp?ID=125014\">Jessica Bell Of Putney (1969)</a><br><a href=\"pedigree.asp?ID=305805\">Joy Bell of California (2002)</a><br><a href=\"pedigree.asp?ID=298419\">Kalm Sea\\'s Tessa Of Portobello Road (2007)</a><br><a href=\"pedigree.asp?ID=369956\">Kurzeme\\'s Bellona Of Babalonia (2009)</a><br><a href=\"pedigree.asp?ID=341819\">LADY ANNABELL OF GOLD (2005)</a><br><a href=\"pedigree.asp?ID=275617\">Lanier\\'s Ragazzo Bello (2007)</a><br><a href=\"pedigree.asp?ID=55282\">Lawpark Bellona (1993)</a><br><a href=\"pedigree.asp?ID=893776\">Lizzie\\'s Bell Of The Ball (2015)</a><br><a href=\"pedigree.asp?ID=1022870\">Loo Whoo\\'s Honey Bell Of Newland (2014)</a><br><a href=\"pedigree.asp?ID=45321\">WW\\'95, Dutch Ch., Multi Ch. Mack Lobell of the Hellacious Acres (1989)</a><br><a href=\"pedigree.asp?ID=355161\">Mae Bell Of Halcyon (2002)</a><br><a href=\"pedigree.asp?ID=202294\">Majik Lady Dumbello (1998)</a><br><a href=\"pedigree.asp?ID=20904\">Mandy Bell of Braeburn</a><br><a href=\"pedigree.asp?ID=560794\">Marigold Bells of Saint Mary\\'s (2011)</a><br><a href=\"pedigree.asp?ID=995047\">Marybel Loch Aline (2013)</a><br><a href=\"pedigree.asp?ID=511926\">Marybel Love in a mist (2007)</a><br><a href=\"pedigree.asp?ID=440509\">Marybel Love Story</a><br><a href=\"pedigree.asp?ID=325759\">marybel love temptation (2007)</a><br><a href=\"pedigree.asp?ID=580667\">Meiepere Portobello Belle (2014)</a><br><a href=\"pedigree.asp?ID=1014162\">Melfricka Bellona</a><br><a href=\"pedigree.asp?ID=156474\">Meribel (LO0376667) (2003)</a><br><a href=\"pedigree.asp?ID=478251\">Miss Bell Of Camelot (1995)</a><br><a href=\"pedigree.asp?ID=90619\">Mission Bells Of Teesdale RA CGCA CCA (2001)</a><br><a href=\"pedigree.asp?ID=898638\">My Bell of The Ball Stella (2012)</a><br><a href=\"pedigree.asp?ID=29039\">Nellie Bell of Whitecrest</a><br><a href=\"pedigree.asp?ID=520871\">Noranby Bellona (1916)</a><br><a href=\"pedigree.asp?ID=1024127\">Oakwear Tinkerbell/Oawear Tinkerbell</a><br><a href=\"pedigree.asp?ID=406538\">O\\'Cribbs Ms. Bell Of The Ball (2010)</a><br><a href=\"pedigree.asp?ID=1221790\">Picco Bello Toinette NOROY DU PLESSY</a><br><a href=\"pedigree.asp?ID=1229381\">Picobello v.d Tender bende (2021)</a><br><a href=\"pedigree.asp?ID=240306\">Praetorian\\'s Bellona (2006)</a><br><a href=\"pedigree.asp?ID=1204724\">Prettriver Bell O\\'Ambercroft (2008)</a><br><a href=\"pedigree.asp?ID=163324\">Queenie Bell Of Los Encinos (1997)</a><br><a href=\"pedigree.asp?ID=157490\">Rainscourt Bow Bells of Knockothie (1997)</a><br><a href=\"pedigree.asp?ID=961234\">Ransom Creek I\\'ll Be There With Bells On CD RN (2010)</a><br><a href=\"pedigree.asp?ID=856881\">Rebel Lockhart (2012)</a><br><a href=\"pedigree.asp?ID=875495\">Ring a Bell of Glen sheallag</a><br><a href=\"pedigree.asp?ID=438932\">Rose Bud (cabello) (2008)</a><br><a href=\"pedigree.asp?ID=140112\">Rusty Bell Of Lazy Oak (1966)</a><br><a href=\"pedigree.asp?ID=862404\">Sadie Grace Bell of the Ball (2016)</a><br><a href=\"pedigree.asp?ID=691348\">Sandy Bell Of Solid Rock (2012)</a><br><a href=\"pedigree.asp?ID=97662\">Sansue Bluebell of Barncluith</a><br><a href=\"pedigree.asp?ID=76191\">Scarlet Bell-O-Tara</a><br><a href=\"pedigree.asp?ID=214177\">Scarlett Of Portobello (1992)</a><br><a href=\"pedigree.asp?ID=1290097\">Senorita Belloza  Des Cents Dorés (2021)</a><br><a href=\"pedigree.asp?ID=276905\">Sievers Annabell Of Meppen (2000)</a><br><a href=\"pedigree.asp?ID=287810\">Sir Hubbell of Cunningham Manor RN (2006)</a><br><a href=\"pedigree.asp?ID=1030738\">Stubbings Golden Bellona</a><br><a href=\"pedigree.asp?ID=284257\">Sunlight\\'s Bello Fellow (2007)</a><br><a href=\"pedigree.asp?ID=822601\">RBPIG The Wagging Tail\\'s Bellona (2017)</a><br><a href=\"pedigree.asp?ID=1039595\">The Waggintale bellona</a><br><a href=\"pedigree.asp?ID=1053536\">Tilita Liberty Bell Of Newpound</a><br><a href=\"pedigree.asp?ID=188440\">Tinkabell of Yelme (1954)</a><br><a href=\"pedigree.asp?ID=24167\">Tinker Bell of Bailiwick (1948)</a><br><a href=\"pedigree.asp?ID=565750\">Tinkerbell Of Crystal Beach (2010)</a><br><a href=\"pedigree.asp?ID=1183798\">Tinkerbell Of Debary (2006)</a><br><a href=\"pedigree.asp?ID=28899\">Tinker Bell Of Lakeview (1971)</a><br><a href=\"pedigree.asp?ID=823590\">Tinkerbell of Millroad (2017)</a><br><a href=\"pedigree.asp?ID=898867\">Tinkerbell of Promise Land (2018)</a><br><a href=\"pedigree.asp?ID=333244\">CH. Tinkerbell of the Morning Valley (2007)</a><br><a href=\"pedigree.asp?ID=596746\">Treeverwood\\'s Bell of the Ball (2008)</a><br><a href=\"pedigree.asp?ID=858138\">Tu-Esses King Tubello (1965)</a><br><a href=\"pedigree.asp?ID=691006\">Twilight Sulistyo\\'s Bello (2015)</a><br><a href=\"pedigree.asp?ID=1002861\">Verdayne Canterbury Bell Of Tilita</a><br><a href=\"pedigree.asp?ID=1159271\">Wakefield\\'s Sunrise at Campobello - BSKM (2021)</a><br><a href=\"pedigree.asp?ID=503356\">Wellstori\\'s Bello Pandora (2005)</a><br><a href=\"pedigree.asp?ID=61333\">Westley Mistybell of Jayceter</a><br><a href=\"pedigree.asp?ID=410245\">Xanthos Bell Of The Ball (2007)</a><br><a href=\"pedigree.asp?ID=174731\">Zorabell Orguilo De Escocia (2003)</a><br></p><p>--Or--</p><p><a href=\"adddog.asp?breed=1&amp;name=Bello\">Click here to add \"Bello\" to the database as a new Golden Retriever</a></p><p><a href=\"default.asp\">Click here to return to the home page</a></p><p></p><hr><font size=\"1\">Use of this site is subject to terms and conditions as expressed on the <a href=\"default.asp\">home page</a>.<p></p></font></body></html>'"
            ],
            "application/vnd.google.colaboratory.intrinsic+json": {
              "type": "string"
            }
          },
          "metadata": {},
          "execution_count": 22
        }
      ]
    },
    {
      "cell_type": "markdown",
      "source": [
        "Diesen können wir nun wie gewohnt an Beautiful Soup übergeben..."
      ],
      "metadata": {
        "id": "zhKMhmVtRkin"
      }
    },
    {
      "cell_type": "code",
      "source": [
        "from bs4 import BeautifulSoup\n",
        "\n",
        "soup = BeautifulSoup(browser.page_source)"
      ],
      "metadata": {
        "id": "pVC8s4K07PPB"
      },
      "execution_count": 23,
      "outputs": []
    },
    {
      "cell_type": "markdown",
      "source": [
        "...und uns zum Beispiel alle Links daraus ziehen:"
      ],
      "metadata": {
        "id": "awlYkfnrSHp4"
      }
    },
    {
      "cell_type": "code",
      "source": [
        "soup.find_all(\"a\")"
      ],
      "metadata": {
        "colab": {
          "base_uri": "https://localhost:8080/"
        },
        "id": "bjIn-nt97cEX",
        "outputId": "405027de-88ca-4b00-fa9e-5602271f2181"
      },
      "execution_count": 24,
      "outputs": [
        {
          "output_type": "execute_result",
          "data": {
            "text/plain": [
              "[<a href=\"default.asp\" style=\"text-decoration: none\"><font color=\"#ffffff\" face=\"verdana\" size=\"6\">K9data.com</font></a>,\n",
              " <a href=\"https://www.grca.org/find-a-golden/\" style=\"color: #33CCFF\">Click here</a>,\n",
              " <a href=\"pedigree.asp?ID=1249652\">Abbybell Odin Jack (2022)</a>,\n",
              " <a href=\"pedigree.asp?ID=989223\">Alphinbrook Sleigh Bells of Canina</a>,\n",
              " <a href=\"pedigree.asp?ID=340870\">Amanda Bell Of Basil (1991)</a>,\n",
              " <a href=\"pedigree.asp?ID=1079288\">Amore Bello Keeper of Our Hearts (2020)</a>,\n",
              " <a href=\"pedigree.asp?ID=524118\">Angelic Magnolia Maggie Abello (2010)</a>,\n",
              " <a href=\"pedigree.asp?ID=120059\">Angelus Bell of Sound Hada</a>,\n",
              " <a href=\"pedigree.asp?ID=1075734\">Annabell of Cedar Springs (1978)</a>,\n",
              " <a href=\"pedigree.asp?ID=6135\">Annabell Of Elsiville</a>,\n",
              " <a href=\"pedigree.asp?ID=611487\">Annabell of Forest Gump (1995)</a>,\n",
              " <a href=\"pedigree.asp?ID=1036732\">Annabell Of Shoot Flying Hill (1972)</a>,\n",
              " <a href=\"pedigree.asp?ID=487419\">Augusta Bell of Thundering Heart (2011)</a>,\n",
              " <a href=\"pedigree.asp?ID=1151081\">U-CH PN UR01 IABCA INT CH    Aurelia Chrysanthos Bell Of The Ball SPOT ON, CGCA, TKN (2019)</a>,\n",
              " <a href=\"pedigree.asp?ID=1045152\">Bbg And Hunnydew's Bello Amore Nicola (2019)</a>,\n",
              " <a href=\"pedigree.asp?ID=774066\">BBG's Mabel Love (2016)</a>,\n",
              " <a href=\"pedigree.asp?ID=1035161\">Beauty Bell Of Eagle Hill</a>,\n",
              " <a href=\"pedigree.asp?ID=539353\">Belloa of Sangmu House</a>,\n",
              " <a href=\"pedigree.asp?ID=718374\">Bell Of Antrim</a>,\n",
              " <a href=\"pedigree.asp?ID=3757\">F.T.L Bell Of Coles Oak</a>,\n",
              " <a href=\"pedigree.asp?ID=392989\">BELL OF GLANRHYD</a>,\n",
              " <a href=\"pedigree.asp?ID=913292\">Bell of Joy Sunshine Mrija (2018)</a>,\n",
              " <a href=\"pedigree.asp?ID=243194\">Bell Of Lutcher (1966)</a>,\n",
              " <a href=\"pedigree.asp?ID=1030764\">Bell of my Heart Anima Candida (2018)</a>,\n",
              " <a href=\"pedigree.asp?ID=702187\">Bell of the Night</a>,\n",
              " <a href=\"pedigree.asp?ID=286987\">Bell of the West</a>,\n",
              " <a href=\"pedigree.asp?ID=21894\">Am. CH. Bell Of Wickenburg CDX (1951)</a>,\n",
              " <a href=\"pedigree.asp?ID=198945\">Bell Oktave Ally (2002)</a>,\n",
              " <a href=\"pedigree.asp?ID=198944\">Bell Oktave Amber Ginger (2002)</a>,\n",
              " <a href=\"pedigree.asp?ID=198946\">Bell Oktave Amigo (2002)</a>,\n",
              " <a href=\"pedigree.asp?ID=198947\">Bell Oktave Amor (2002)</a>,\n",
              " <a href=\"pedigree.asp?ID=198948\">Bell Oktave Annie (2002)</a>,\n",
              " <a href=\"pedigree.asp?ID=198886\">Int.FT.Ch. Bell Oktave Apollo (2002)</a>,\n",
              " <a href=\"pedigree.asp?ID=198949\">Bell Oktave Aron (2002)</a>,\n",
              " <a href=\"pedigree.asp?ID=198950\">Bell Oktave Asco (2002)</a>,\n",
              " <a href=\"pedigree.asp?ID=198951\">Bell Oktave Athos (2002)</a>,\n",
              " <a href=\"pedigree.asp?ID=646179\">Int.FTCH Bell Oktave Benjamin (2013)</a>,\n",
              " <a href=\"pedigree.asp?ID=700884\">Bell Oktave Bon Bon (2013)</a>,\n",
              " <a href=\"pedigree.asp?ID=828700\">Bell Oktave B-Pollo</a>,\n",
              " <a href=\"pedigree.asp?ID=942719\">Bell Oktave Clooney (2016)</a>,\n",
              " <a href=\"pedigree.asp?ID=942177\">Bell Oktave Cooper (2015)</a>,\n",
              " <a href=\"pedigree.asp?ID=948635\">Bell Oktave Cosmo (2016)</a>,\n",
              " <a href=\"pedigree.asp?ID=1180049\">BELLONA Bogoloco FCI (2021)</a>,\n",
              " <a href=\"pedigree.asp?ID=994072\">Bello Of House Mane (2019)</a>,\n",
              " <a href=\"pedigree.asp?ID=1264678\">Bellota del Valle de Atriz (2020)</a>,\n",
              " <a href=\"pedigree.asp?ID=209172\">Bellota Ilozzero (2006)</a>,\n",
              " <a href=\"pedigree.asp?ID=587533\">PACH2 Bello's Top Of The List CD RN AX MXJ MXP6 MXPS MJP12 MJPC PAX2 XF MFP MFPB T2BP CGC PADHF (2010)</a>,\n",
              " <a href=\"pedigree.asp?ID=217170\">Bello von der Bockster Retriever Ranch (1995)</a>,\n",
              " <a href=\"pedigree.asp?ID=1110738\">Benntos Bluebells of Scotland</a>,\n",
              " <a href=\"pedigree.asp?ID=1278737\">Bentos Bluebells Of Scotland (2019)</a>,\n",
              " <a href=\"pedigree.asp?ID=1001663\">Blaza Con Cabello De Oro (1969)</a>,\n",
              " <a href=\"pedigree.asp?ID=258810\">Bluebell of Anavy (2007)</a>,\n",
              " <a href=\"pedigree.asp?ID=256739\">bluebell of far and away (2006)</a>,\n",
              " <a href=\"pedigree.asp?ID=154214\">BLUEBELL OF KOMADA JP</a>,\n",
              " <a href=\"pedigree.asp?ID=342851\">Bluebell of Moonlight Meadows (2008)</a>,\n",
              " <a href=\"pedigree.asp?ID=1023194\">Bonesgate Bellona</a>,\n",
              " <a href=\"pedigree.asp?ID=9581\">Bonnie Bell Of Metamora (1985)</a>,\n",
              " <a href=\"pedigree.asp?ID=32550\">Bonnie Island Bells Of Amber CD TD (1985)</a>,\n",
              " <a href=\"pedigree.asp?ID=1057538\">Bramhills June Bells Of Benrowan</a>,\n",
              " <a href=\"pedigree.asp?ID=85878\">Branjoy Bell of Bow</a>,\n",
              " <a href=\"pedigree.asp?ID=620471\">Brookshire's Bells on her Toes CD CGCA (2012)</a>,\n",
              " <a href=\"pedigree.asp?ID=950111\">Cabellou's Paddy (2018)</a>,\n",
              " <a href=\"pedigree.asp?ID=950644\">Cabellou's Pastis (2018)</a>,\n",
              " <a href=\"pedigree.asp?ID=950108\">Cabellou's Peanut (2018)</a>,\n",
              " <a href=\"pedigree.asp?ID=950110\">Cabellou's Penny (2018)</a>,\n",
              " <a href=\"pedigree.asp?ID=950106\">Cabellou's Perfect Blend (2018)</a>,\n",
              " <a href=\"pedigree.asp?ID=950105\">Cabellou's Princess of Kass (2018)</a>,\n",
              " <a href=\"pedigree.asp?ID=952400\">Cabellou's Proud Jaina (2018)</a>,\n",
              " <a href=\"pedigree.asp?ID=950113\">Cabellou's Pure Opium (2018)</a>,\n",
              " <a href=\"pedigree.asp?ID=1036721\">Campbell Of Hampshire (1970)</a>,\n",
              " <a href=\"pedigree.asp?ID=63428\">Casadeloro Midas Bellodorato (1993)</a>,\n",
              " <a href=\"pedigree.asp?ID=379903\">Casadeloro's There's Always Room For Bello (2010)</a>,\n",
              " <a href=\"pedigree.asp?ID=2526\">Eng. CH. Chiming Bells Of Cressex (1969)</a>,\n",
              " <a href=\"pedigree.asp?ID=474937\">Chrys-Haefen Bell Of The Ball (2007)</a>,\n",
              " <a href=\"pedigree.asp?ID=622621\">?JCH Cicciobello de Ria Vela (2013)</a>,\n",
              " <a href=\"pedigree.asp?ID=995427\">Cinnamon Bello (1967)</a>,\n",
              " <a href=\"pedigree.asp?ID=1037591\">Crissy Sue Bell Of Tahoe (1990)</a>,\n",
              " <a href=\"pedigree.asp?ID=113650\">Crystal Bell Of Baytown</a>,\n",
              " <a href=\"pedigree.asp?ID=1260432\">Dawn Heir's Bello Forte Samson Romani (2012)</a>,\n",
              " <a href=\"pedigree.asp?ID=287698\">Delmarva's Rumbell Of Thunder (2008)</a>,\n",
              " <a href=\"pedigree.asp?ID=461854\">Dixie Bell Of Baltimore (1979)</a>,\n",
              " <a href=\"pedigree.asp?ID=209315\">Dixie Bell Of Barker's Bend (1945)</a>,\n",
              " <a href=\"pedigree.asp?ID=1088090\">Dodi Of Campobello (1969)</a>,\n",
              " <a href=\"pedigree.asp?ID=48845\">Donnybrooks Bell of the Ball (1995)</a>,\n",
              " <a href=\"pedigree.asp?ID=956189\">Duckflight Firefox of Bell Oktave (2018)</a>,\n",
              " <a href=\"pedigree.asp?ID=919790\">Eck Bell Of The Yukon (1949)</a>,\n",
              " <a href=\"pedigree.asp?ID=105790\">Edinglas Bluebells of Scotland CanCD</a>,\n",
              " <a href=\"pedigree.asp?ID=884602\">Ell?s Bells of Sassafras (2017)</a>,\n",
              " <a href=\"pedigree.asp?ID=840015\">INT.CH, KOR CH Fabulocity Bluebell of Runy House (2015)</a>,\n",
              " <a href=\"pedigree.asp?ID=550917\">Firemark's Bell on Wheels (2011)</a>,\n",
              " <a href=\"pedigree.asp?ID=301280\">Floprym Bellona (2007)</a>,\n",
              " <a href=\"pedigree.asp?ID=863827\">Galatea's Bell Of Black Sheep Farm (2009)</a>,\n",
              " <a href=\"pedigree.asp?ID=1117860\">Ginger Bell Of Deoctobr It (2008)</a>,\n",
              " <a href=\"pedigree.asp?ID=711412\">Goldenarmy's Bell of Memories (2016)</a>,\n",
              " <a href=\"pedigree.asp?ID=1046501\">Golden Bell of Burmiak</a>,\n",
              " <a href=\"pedigree.asp?ID=36415\">Golden Bell of Dewstraw</a>,\n",
              " <a href=\"pedigree.asp?ID=434789\">CN.CH GOLDEN BELL OF HOTDOG KENNEL (2007)</a>,\n",
              " <a href=\"pedigree.asp?ID=60770\">Golden Bell of Tydu</a>,\n",
              " <a href=\"pedigree.asp?ID=382659\">Golden Days Our Dog Bello (2009)</a>,\n",
              " <a href=\"pedigree.asp?ID=248995\">Golden Lula Bell of Lindy Lane (1977)</a>,\n",
              " <a href=\"pedigree.asp?ID=257802\">Goldruls Key En Es Bello (2006)</a>,\n",
              " <a href=\"pedigree.asp?ID=187259\">Greenglen Bellona (1978)</a>,\n",
              " <a href=\"pedigree.asp?ID=100693\">HANNAH'S LIBERTY BELL OF TEXAS (2002)</a>,\n",
              " <a href=\"pedigree.asp?ID=1696\">Heatherbell of Arbrook</a>,\n",
              " <a href=\"pedigree.asp?ID=492076\">NTG INT KOR Ch Hells Bells Of Golden Love House (2009)</a>,\n",
              " <a href=\"pedigree.asp?ID=47498\">High Endeavour's Nosy Bell Of Church (1988)</a>,\n",
              " <a href=\"pedigree.asp?ID=577320\">High Winds Southern Bell Of Linden (2008)</a>,\n",
              " <a href=\"pedigree.asp?ID=8006\">III D Dixie Bell Of Irish LN (1991)</a>,\n",
              " <a href=\"pedigree.asp?ID=952506\">Jake Kimosabe Bello (2004)</a>,\n",
              " <a href=\"pedigree.asp?ID=398795\">Jason Kimosabe Bello (1981)</a>,\n",
              " <a href=\"pedigree.asp?ID=13469\">Jason Kimosabe Bello II (1995)</a>,\n",
              " <a href=\"pedigree.asp?ID=331220\">Jazz (Cabello)</a>,\n",
              " <a href=\"pedigree.asp?ID=125014\">Jessica Bell Of Putney (1969)</a>,\n",
              " <a href=\"pedigree.asp?ID=305805\">Joy Bell of California (2002)</a>,\n",
              " <a href=\"pedigree.asp?ID=298419\">Kalm Sea's Tessa Of Portobello Road (2007)</a>,\n",
              " <a href=\"pedigree.asp?ID=369956\">Kurzeme's Bellona Of Babalonia (2009)</a>,\n",
              " <a href=\"pedigree.asp?ID=341819\">LADY ANNABELL OF GOLD (2005)</a>,\n",
              " <a href=\"pedigree.asp?ID=275617\">Lanier's Ragazzo Bello (2007)</a>,\n",
              " <a href=\"pedigree.asp?ID=55282\">Lawpark Bellona (1993)</a>,\n",
              " <a href=\"pedigree.asp?ID=893776\">Lizzie's Bell Of The Ball (2015)</a>,\n",
              " <a href=\"pedigree.asp?ID=1022870\">Loo Whoo's Honey Bell Of Newland (2014)</a>,\n",
              " <a href=\"pedigree.asp?ID=45321\">WW'95, Dutch Ch., Multi Ch. Mack Lobell of the Hellacious Acres (1989)</a>,\n",
              " <a href=\"pedigree.asp?ID=355161\">Mae Bell Of Halcyon (2002)</a>,\n",
              " <a href=\"pedigree.asp?ID=202294\">Majik Lady Dumbello (1998)</a>,\n",
              " <a href=\"pedigree.asp?ID=20904\">Mandy Bell of Braeburn</a>,\n",
              " <a href=\"pedigree.asp?ID=560794\">Marigold Bells of Saint Mary's (2011)</a>,\n",
              " <a href=\"pedigree.asp?ID=995047\">Marybel Loch Aline (2013)</a>,\n",
              " <a href=\"pedigree.asp?ID=511926\">Marybel Love in a mist (2007)</a>,\n",
              " <a href=\"pedigree.asp?ID=440509\">Marybel Love Story</a>,\n",
              " <a href=\"pedigree.asp?ID=325759\">marybel love temptation (2007)</a>,\n",
              " <a href=\"pedigree.asp?ID=580667\">Meiepere Portobello Belle (2014)</a>,\n",
              " <a href=\"pedigree.asp?ID=1014162\">Melfricka Bellona</a>,\n",
              " <a href=\"pedigree.asp?ID=156474\">Meribel (LO0376667) (2003)</a>,\n",
              " <a href=\"pedigree.asp?ID=478251\">Miss Bell Of Camelot (1995)</a>,\n",
              " <a href=\"pedigree.asp?ID=90619\">Mission Bells Of Teesdale RA CGCA CCA (2001)</a>,\n",
              " <a href=\"pedigree.asp?ID=898638\">My Bell of The Ball Stella (2012)</a>,\n",
              " <a href=\"pedigree.asp?ID=29039\">Nellie Bell of Whitecrest</a>,\n",
              " <a href=\"pedigree.asp?ID=520871\">Noranby Bellona (1916)</a>,\n",
              " <a href=\"pedigree.asp?ID=1024127\">Oakwear Tinkerbell/Oawear Tinkerbell</a>,\n",
              " <a href=\"pedigree.asp?ID=406538\">O'Cribbs Ms. Bell Of The Ball (2010)</a>,\n",
              " <a href=\"pedigree.asp?ID=1221790\">Picco Bello Toinette NOROY DU PLESSY</a>,\n",
              " <a href=\"pedigree.asp?ID=1229381\">Picobello v.d Tender bende (2021)</a>,\n",
              " <a href=\"pedigree.asp?ID=240306\">Praetorian's Bellona (2006)</a>,\n",
              " <a href=\"pedigree.asp?ID=1204724\">Prettriver Bell O'Ambercroft (2008)</a>,\n",
              " <a href=\"pedigree.asp?ID=163324\">Queenie Bell Of Los Encinos (1997)</a>,\n",
              " <a href=\"pedigree.asp?ID=157490\">Rainscourt Bow Bells of Knockothie (1997)</a>,\n",
              " <a href=\"pedigree.asp?ID=961234\">Ransom Creek I'll Be There With Bells On CD RN (2010)</a>,\n",
              " <a href=\"pedigree.asp?ID=856881\">Rebel Lockhart (2012)</a>,\n",
              " <a href=\"pedigree.asp?ID=875495\">Ring a Bell of Glen sheallag</a>,\n",
              " <a href=\"pedigree.asp?ID=438932\">Rose Bud (cabello) (2008)</a>,\n",
              " <a href=\"pedigree.asp?ID=140112\">Rusty Bell Of Lazy Oak (1966)</a>,\n",
              " <a href=\"pedigree.asp?ID=862404\">Sadie Grace Bell of the Ball (2016)</a>,\n",
              " <a href=\"pedigree.asp?ID=691348\">Sandy Bell Of Solid Rock (2012)</a>,\n",
              " <a href=\"pedigree.asp?ID=97662\">Sansue Bluebell of Barncluith</a>,\n",
              " <a href=\"pedigree.asp?ID=76191\">Scarlet Bell-O-Tara</a>,\n",
              " <a href=\"pedigree.asp?ID=214177\">Scarlett Of Portobello (1992)</a>,\n",
              " <a href=\"pedigree.asp?ID=1290097\">Senorita Belloza  Des Cents Dorés (2021)</a>,\n",
              " <a href=\"pedigree.asp?ID=276905\">Sievers Annabell Of Meppen (2000)</a>,\n",
              " <a href=\"pedigree.asp?ID=287810\">Sir Hubbell of Cunningham Manor RN (2006)</a>,\n",
              " <a href=\"pedigree.asp?ID=1030738\">Stubbings Golden Bellona</a>,\n",
              " <a href=\"pedigree.asp?ID=284257\">Sunlight's Bello Fellow (2007)</a>,\n",
              " <a href=\"pedigree.asp?ID=822601\">RBPIG The Wagging Tail's Bellona (2017)</a>,\n",
              " <a href=\"pedigree.asp?ID=1039595\">The Waggintale bellona</a>,\n",
              " <a href=\"pedigree.asp?ID=1053536\">Tilita Liberty Bell Of Newpound</a>,\n",
              " <a href=\"pedigree.asp?ID=188440\">Tinkabell of Yelme (1954)</a>,\n",
              " <a href=\"pedigree.asp?ID=24167\">Tinker Bell of Bailiwick (1948)</a>,\n",
              " <a href=\"pedigree.asp?ID=565750\">Tinkerbell Of Crystal Beach (2010)</a>,\n",
              " <a href=\"pedigree.asp?ID=1183798\">Tinkerbell Of Debary (2006)</a>,\n",
              " <a href=\"pedigree.asp?ID=28899\">Tinker Bell Of Lakeview (1971)</a>,\n",
              " <a href=\"pedigree.asp?ID=823590\">Tinkerbell of Millroad (2017)</a>,\n",
              " <a href=\"pedigree.asp?ID=898867\">Tinkerbell of Promise Land (2018)</a>,\n",
              " <a href=\"pedigree.asp?ID=333244\">CH. Tinkerbell of the Morning Valley (2007)</a>,\n",
              " <a href=\"pedigree.asp?ID=596746\">Treeverwood's Bell of the Ball (2008)</a>,\n",
              " <a href=\"pedigree.asp?ID=858138\">Tu-Esses King Tubello (1965)</a>,\n",
              " <a href=\"pedigree.asp?ID=691006\">Twilight Sulistyo's Bello (2015)</a>,\n",
              " <a href=\"pedigree.asp?ID=1002861\">Verdayne Canterbury Bell Of Tilita</a>,\n",
              " <a href=\"pedigree.asp?ID=1159271\">Wakefield's Sunrise at Campobello - BSKM (2021)</a>,\n",
              " <a href=\"pedigree.asp?ID=503356\">Wellstori's Bello Pandora (2005)</a>,\n",
              " <a href=\"pedigree.asp?ID=61333\">Westley Mistybell of Jayceter</a>,\n",
              " <a href=\"pedigree.asp?ID=410245\">Xanthos Bell Of The Ball (2007)</a>,\n",
              " <a href=\"pedigree.asp?ID=174731\">Zorabell Orguilo De Escocia (2003)</a>,\n",
              " <a href=\"adddog.asp?breed=1&amp;name=Bello\">Click here to add \"Bello\" to the database as a new Golden Retriever</a>,\n",
              " <a href=\"default.asp\">Click here to return to the home page</a>,\n",
              " <a href=\"default.asp\">home page</a>]"
            ]
          },
          "metadata": {},
          "execution_count": 24
        }
      ]
    },
    {
      "cell_type": "markdown",
      "source": [
        "```python\n",
        "find_element(By.ID, \"id\")\n",
        "find_element(By.NAME, \"name\")\n",
        "find_element(By.XPATH, \"xpath\")\n",
        "find_element(By.LINK_TEXT, \"link text\")\n",
        "find_element(By.PARTIAL_LINK_TEXT, \"partial link text\")\n",
        "find_element(By.TAG_NAME, \"tag name\")\n",
        "find_element(By.CLASS_NAME, \"class name\")\n",
        "find_element(By.CSS_SELECTOR, \"css selector\")\n",
        "```"
      ],
      "metadata": {
        "id": "GLWLEglxpK0H"
      }
    }
  ]
}